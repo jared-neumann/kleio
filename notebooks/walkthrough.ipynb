{
 "cells": [
  {
   "cell_type": "markdown",
   "metadata": {},
   "source": [
    "# Kleio Walkthrough"
   ]
  },
  {
   "cell_type": "markdown",
   "metadata": {},
   "source": [
    "## About"
   ]
  },
  {
   "cell_type": "markdown",
   "metadata": {},
   "source": [
    "Author: Jared Neumann\n",
    "\n",
    "This package is designed to take a PDF document with or without a text layer, or raw text, and return a complete, corrected version of that text. Text is extracted using common OCR tools, if necessary, and the text is then passed to an LLM. The LLM then makes corrections to each chunk. Additional functions can be called, such as:\n",
    "- Layout analysis and annotation\n",
    "- Revised collation (e.g., to eliminate headers and footers, etc.)\n",
    "- Translation"
   ]
  },
  {
   "cell_type": "markdown",
   "metadata": {},
   "source": [
    "## Import Statements"
   ]
  },
  {
   "cell_type": "code",
   "execution_count": 1,
   "metadata": {},
   "outputs": [],
   "source": [
    "# we'll have to set up a duplicate logger in the notebook\n",
    "import logging\n",
    "import os\n",
    "\n",
    "# Get the root logger\n",
    "logger = logging.getLogger()\n",
    "logger.setLevel(logging.INFO)\n",
    "\n",
    "# Create a StreamHandler for the notebook\n",
    "stream_handler = logging.StreamHandler()\n",
    "stream_handler.setLevel(logging.INFO)\n",
    "formatter = logging.Formatter('%(asctime)s - %(name)s - %(levelname)s - %(message)s')\n",
    "stream_handler.setFormatter(formatter)\n",
    "\n",
    "# Add the handler to the logger\n",
    "logger.addHandler(stream_handler)\n",
    "\n",
    "# set propagation to false to prevent double logging\n",
    "logger.propagate = False\n",
    "\n",
    "from kleio.ocr import *\n",
    "from kleio.image_utils import *\n",
    "from kleio.correction import *\n",
    "from kleio.collation import *\n",
    "\n",
    "import matplotlib.pyplot as plt"
   ]
  },
  {
   "cell_type": "markdown",
   "metadata": {},
   "source": [
    "## Getting Raw Text"
   ]
  },
  {
   "cell_type": "markdown",
   "metadata": {},
   "source": [
    "There are a few allowable file types: PDF with text, PDF without text, images, and plain text. The type is automatically inferred, and the extracted text is returned. A few options for OCR are available."
   ]
  },
  {
   "cell_type": "code",
   "execution_count": 2,
   "metadata": {},
   "outputs": [
    {
     "name": "stdout",
     "output_type": "stream",
     "text": [
      "2024-01-14 02:52:48,419 - kleio.ocr - INFO - Retrieving text from ../tests/test_input/test_0.pdf\n"
     ]
    },
    {
     "name": "stderr",
     "output_type": "stream",
     "text": [
      "2024-01-14 02:52:48,419 - kleio.ocr - INFO - Retrieving text from ../tests/test_input/test_0.pdf\n"
     ]
    },
    {
     "name": "stdout",
     "output_type": "stream",
     "text": [
      "2024-01-14 02:52:48,420 - kleio.ocr - INFO - File provided\n"
     ]
    },
    {
     "name": "stderr",
     "output_type": "stream",
     "text": [
      "2024-01-14 02:52:48,420 - kleio.ocr - INFO - File provided\n"
     ]
    },
    {
     "name": "stdout",
     "output_type": "stream",
     "text": [
      "2024-01-14 02:52:48,481 - kleio.ocr - INFO - Getting text from PDF file ../tests/test_input/test_0.pdf\n"
     ]
    },
    {
     "name": "stderr",
     "output_type": "stream",
     "text": [
      "2024-01-14 02:52:48,481 - kleio.ocr - INFO - Getting text from PDF file ../tests/test_input/test_0.pdf\n"
     ]
    },
    {
     "name": "stdout",
     "output_type": "stream",
     "text": [
      "2024-01-14 02:52:49,719 - kleio.ocr - INFO - Retrieving text from ../tests/test_input/test_1.jpg\n"
     ]
    },
    {
     "name": "stderr",
     "output_type": "stream",
     "text": [
      "2024-01-14 02:52:49,719 - kleio.ocr - INFO - Retrieving text from ../tests/test_input/test_1.jpg\n"
     ]
    },
    {
     "name": "stdout",
     "output_type": "stream",
     "text": [
      "2024-01-14 02:52:49,720 - kleio.ocr - INFO - File provided\n"
     ]
    },
    {
     "name": "stderr",
     "output_type": "stream",
     "text": [
      "2024-01-14 02:52:49,720 - kleio.ocr - INFO - File provided\n"
     ]
    },
    {
     "name": "stdout",
     "output_type": "stream",
     "text": [
      "2024-01-14 02:52:49,720 - kleio.ocr - INFO - Getting page text from image file ../tests/test_input/test_1.jpg\n"
     ]
    },
    {
     "name": "stderr",
     "output_type": "stream",
     "text": [
      "2024-01-14 02:52:49,720 - kleio.ocr - INFO - Getting page text from image file ../tests/test_input/test_1.jpg\n"
     ]
    },
    {
     "name": "stdout",
     "output_type": "stream",
     "text": [
      "2024-01-14 02:52:49,735 - kleio.ocr - INFO - Preprocessing image\n"
     ]
    },
    {
     "name": "stderr",
     "output_type": "stream",
     "text": [
      "2024-01-14 02:52:49,735 - kleio.ocr - INFO - Preprocessing image\n"
     ]
    },
    {
     "name": "stdout",
     "output_type": "stream",
     "text": [
      "2024-01-14 02:52:50,943 - kleio.ocr - INFO - Retrieving text from ../tests/test_input/test_2.pdf\n"
     ]
    },
    {
     "name": "stderr",
     "output_type": "stream",
     "text": [
      "2024-01-14 02:52:50,943 - kleio.ocr - INFO - Retrieving text from ../tests/test_input/test_2.pdf\n"
     ]
    },
    {
     "name": "stdout",
     "output_type": "stream",
     "text": [
      "2024-01-14 02:52:50,944 - kleio.ocr - INFO - File provided\n"
     ]
    },
    {
     "name": "stderr",
     "output_type": "stream",
     "text": [
      "2024-01-14 02:52:50,944 - kleio.ocr - INFO - File provided\n"
     ]
    },
    {
     "name": "stdout",
     "output_type": "stream",
     "text": [
      "2024-01-14 02:52:50,945 - kleio.ocr - INFO - Getting text from PDF file ../tests/test_input/test_2.pdf\n"
     ]
    },
    {
     "name": "stderr",
     "output_type": "stream",
     "text": [
      "2024-01-14 02:52:50,945 - kleio.ocr - INFO - Getting text from PDF file ../tests/test_input/test_2.pdf\n"
     ]
    },
    {
     "name": "stdout",
     "output_type": "stream",
     "text": [
      "2024-01-14 02:52:50,945 - kleio.ocr - INFO - Converting PDF file ../tests/test_input/test_2.pdf to image\n"
     ]
    },
    {
     "name": "stderr",
     "output_type": "stream",
     "text": [
      "2024-01-14 02:52:50,945 - kleio.ocr - INFO - Converting PDF file ../tests/test_input/test_2.pdf to image\n"
     ]
    }
   ],
   "source": [
    "example_filepath_0 = \"../tests/test_input/test_0.pdf\"\n",
    "example_filepath_1 = \"../tests/test_input/test_1.jpg\"\n",
    "example_filepath_2 = \"../tests/test_input/test_2.pdf\"\n",
    "\n",
    "IMAGE_CONFIG = {\n",
    "    \"grayscale\": True,\n",
    "    \"resize\": False,\n",
    "    \"threshold\": True,\n",
    "    \"deskew\": False,\n",
    "    \"dilate_and_erode\": False,\n",
    "    \"blur\": False\n",
    "}\n",
    "\n",
    "text_0 = retrieve_text(example_filepath_0, image_kwargs=IMAGE_CONFIG)\n",
    "text_1 = retrieve_text(example_filepath_1, image_kwargs=IMAGE_CONFIG)\n",
    "text_2 = retrieve_text(example_filepath_2, image_kwargs=IMAGE_CONFIG)"
   ]
  },
  {
   "cell_type": "code",
   "execution_count": 3,
   "metadata": {},
   "outputs": [
    {
     "name": "stdout",
     "output_type": "stream",
     "text": [
      "{'filename': 'test_1.jpg', 'extension': 'JPG', 'pages': ['PREFACE.\\n\\nHavine concluded our Firft Volume, we\\nwould be deficient in gratitude did we not return\\nthinks to the Public, in general, for the favourable\\nreception our labours have experienced; and to\\nthofe Scientific Gentlemen, in particular, who have\\naflifted us with Communications, as well as Hints\\nrefpecting the future condudting of the Work,\\n\\nAs the grand Object of it is to diffufe Philofo-\\nphical Knowledge among every Clafs of Society,\\nand to give the Public as early an Account as pof-\\nfible of every thing new or curious in the fcientific\\nWorld, both at Home and on the Continent, we\\nflatter ourfelves with the hope that the fame liberal\\nPatronage we have hitherto experienced will be\\ncontinued; and that Scientific Men will afford us\\nthat Support and Affiftance which they may think\\nour Attempt entitled to. Whatever may be our\\nfuture Succefs, no Exertions fhall be wanting on our\\npart to render the Work ufeful to Society, and efpe-\\ncially to the Arts and Manufactures of Great Britain\\nwhich, as is well known, have been much improved\\nby the great Progrefs that has lately been made in\\nvarious Branches of the Philofophical Sciences. ~~\\n\\nA2\\n\\neh y Original from\\nBioiecs bv GOx gle UNIVERSITY OF MICHIGAN\\n\\n']}\n",
      "1\n",
      "PREFACE.\n",
      "\n",
      "Havine concluded our Firft Volume, we\n",
      "would be deficient in gratitude did we not return\n",
      "thinks to the Public, in general, for the favourable\n",
      "reception our labours have experienced; and to\n",
      "thofe Scientific Gentlemen, in particular, who have\n",
      "aflifted us with Communications, as well as Hints\n",
      "refpecting the future condudting of the Work,\n",
      "\n",
      "As the grand Object of it is to diffufe Philofo-\n",
      "phical Knowledge among every Clafs of Society,\n",
      "and to give the Public as early an Account as pof-\n",
      "fible of every thing new or curious in the fcientific\n",
      "World, both at Home and on the Continent, we\n",
      "flatter ourfelves with the hope that the fame liberal\n",
      "Patronage we have hitherto experienced will be\n",
      "continued; and that Scientific Men will afford us\n",
      "that Support and Affiftance which they may think\n",
      "our Attempt entitled to. Whatever may be our\n",
      "future Succefs, no Exertions fhall be wanting on our\n",
      "part to render the Work ufeful to Society, and efpe-\n",
      "cially to the Arts and Manufactures of Great Britain\n",
      "which, as is well known, have been much improved\n",
      "by the great Progrefs that has lately been made in\n",
      "various Branches of the Philofophical Sciences. ~~\n",
      "\n",
      "A2\n",
      "\n",
      "eh y Original from\n",
      "Bioiecs bv GOx gle UNIVERSITY OF MICHIGAN\n",
      "\n",
      "\n"
     ]
    }
   ],
   "source": [
    "# let's inspect one of the outputs\n",
    "print(text_1)\n",
    "print(len(text_1[\"pages\"]))\n",
    "for page in text_1[\"pages\"]:\n",
    "    print(page)"
   ]
  },
  {
   "cell_type": "markdown",
   "metadata": {},
   "source": [
    "## Correcting the Raw Text"
   ]
  },
  {
   "cell_type": "code",
   "execution_count": 4,
   "metadata": {},
   "outputs": [],
   "source": [
    "\n",
    "CORRECTION_KWARGS = {\n",
    "    \"filename\": text_0[\"filename\"],\n",
    "    \"extension\": text_0[\"extension\"],\n",
    "    \"filetype\": \"graphic book\",\n",
    "    \"ocr_software\": \"pytesseract\",\n",
    "    \"image_preprocessing_software\": \"opencv\",\n",
    "    \"date\": \"modern\",\n",
    "    \"language\": \"English\",\n",
    "    \"comments\": \"This is the Dungeons and Dragons 5e Player's Handbook\",\n",
    "}"
   ]
  },
  {
   "cell_type": "code",
   "execution_count": 6,
   "metadata": {},
   "outputs": [
    {
     "name": "stdout",
     "output_type": "stream",
     "text": [
      "2024-01-14 02:53:13,283 - kleio.correction - INFO - Getting correction from LLM\n"
     ]
    },
    {
     "name": "stderr",
     "output_type": "stream",
     "text": [
      "2024-01-14 02:53:13,283 - kleio.correction - INFO - Getting correction from LLM\n"
     ]
    },
    {
     "name": "stdout",
     "output_type": "stream",
     "text": [
      "2024-01-14 02:53:13,284 - kleio.llm_utils - INFO - Creating OpenAI prompt for OCR correction task\n"
     ]
    },
    {
     "name": "stderr",
     "output_type": "stream",
     "text": [
      "2024-01-14 02:53:13,284 - kleio.llm_utils - INFO - Creating OpenAI prompt for OCR correction task\n"
     ]
    },
    {
     "name": "stdout",
     "output_type": "stream",
     "text": [
      "2024-01-14 02:53:13,285 - kleio.llm_utils - INFO - Creating OpenAI LLM\n"
     ]
    },
    {
     "name": "stderr",
     "output_type": "stream",
     "text": [
      "2024-01-14 02:53:13,285 - kleio.llm_utils - INFO - Creating OpenAI LLM\n",
      "  0%|          | 0/293 [00:00<?, ?it/s]2024-01-14 02:53:22,629 - httpx - INFO - HTTP Request: POST https://api.openai.com/v1/chat/completions \"HTTP/1.1 200 OK\"\n",
      "  1%|          | 2/293 [00:09<22:10,  4.57s/it]2024-01-14 02:55:08,290 - httpx - INFO - HTTP Request: POST https://api.openai.com/v1/chat/completions \"HTTP/1.1 200 OK\"\n",
      "  1%|          | 3/293 [01:54<3:45:41, 46.70s/it]2024-01-14 02:55:21,602 - httpx - INFO - HTTP Request: POST https://api.openai.com/v1/chat/completions \"HTTP/1.1 200 OK\"\n",
      "  1%|▏         | 4/293 [02:08<2:44:54, 34.24s/it]2024-01-14 02:55:37,985 - httpx - INFO - HTTP Request: POST https://api.openai.com/v1/chat/completions \"HTTP/1.1 200 OK\"\n",
      "  2%|▏         | 5/293 [02:24<2:14:32, 28.03s/it]2024-01-14 02:55:51,325 - httpx - INFO - HTTP Request: POST https://api.openai.com/v1/chat/completions \"HTTP/1.1 200 OK\"\n",
      "  2%|▏         | 6/293 [02:37<1:50:44, 23.15s/it]2024-01-14 02:56:06,436 - httpx - INFO - HTTP Request: POST https://api.openai.com/v1/chat/completions \"HTTP/1.1 200 OK\"\n",
      "  2%|▏         | 7/293 [02:52<1:38:02, 20.57s/it]"
     ]
    }
   ],
   "source": [
    "correction = get_correction(\n",
    "    text = text_0,\n",
    "    api_key=os.getenv(\"OPENAI_API_KEY\"),\n",
    "    llm_provider=\"openai\",\n",
    "    model_name=\"gpt-3.5-turbo-16k\",\n",
    "    temperature=0,\n",
    "    more_info=CORRECTION_KWARGS,\n",
    "    chunk_size=4096,\n",
    ")"
   ]
  },
  {
   "cell_type": "code",
   "execution_count": null,
   "metadata": {},
   "outputs": [
    {
     "name": "stdout",
     "output_type": "stream",
     "text": [
      "PREFACE.\n",
      "\n",
      "Having concluded our First Volume, we\n",
      "would be deficient in gratitude did we not return\n",
      "thanks to the Public, in general, for the favourable\n",
      "reception our labours have experienced; and to\n",
      "those Scientific Gentlemen, in particular, who have\n",
      "assisted us with Communications, as well as Hints\n",
      "respecting the future conducting of the Work.\n",
      "\n",
      "As the grand Object of it is to diffuse Philoso-\n",
      "phical Knowledge among every Class of Society,\n",
      "and to give the Public as early an Account as pos-\n",
      "sible of everything new or curious in the scientific\n",
      "World, both at Home and on the Continent, we\n",
      "flatter ourselves with the hope that the same liberal\n",
      "Patronage we have hitherto experienced will be\n",
      "continued; and that Scientific Men will afford us\n",
      "that Support and Assistance which they may think\n",
      "our Attempt entitled to. Whatever may be our\n",
      "future Success, no Exertions shall be wanting on our\n",
      "part to render the Work useful to Society, and espe-\n",
      "cially to the Arts and Manufactures of Great Britain\n",
      "which, as is well known, have been much improved\n",
      "by the great Progress that has lately been made in\n",
      "various Branches of the Philosophical Sciences. ~~\n",
      "\n",
      "A2\n",
      "\n",
      "by Original from\n",
      "Books by Google UNIVERSITY OF MICHIGAN\n"
     ]
    }
   ],
   "source": [
    "for page in correction:\n",
    "    print(page)"
   ]
  },
  {
   "cell_type": "markdown",
   "metadata": {},
   "source": [
    "## Collating the corrected pages"
   ]
  },
  {
   "cell_type": "code",
   "execution_count": null,
   "metadata": {},
   "outputs": [
    {
     "name": "stdout",
     "output_type": "stream",
     "text": [
      "2024-01-14 02:47:57,207 - kleio.llm_utils - INFO - Creating OpenAI prompt for OCR correction task\n"
     ]
    },
    {
     "name": "stderr",
     "output_type": "stream",
     "text": [
      "2024-01-14 02:47:57,207 - kleio.llm_utils - INFO - Creating OpenAI prompt for OCR correction task\n"
     ]
    },
    {
     "name": "stdout",
     "output_type": "stream",
     "text": [
      "2024-01-14 02:47:57,208 - kleio.llm_utils - INFO - Creating OpenAI LLM\n"
     ]
    },
    {
     "name": "stderr",
     "output_type": "stream",
     "text": [
      "2024-01-14 02:47:57,208 - kleio.llm_utils - INFO - Creating OpenAI LLM\n",
      "2024-01-14 02:48:01,073 - httpx - INFO - HTTP Request: POST https://api.openai.com/v1/chat/completions \"HTTP/1.1 200 OK\"\n"
     ]
    }
   ],
   "source": [
    "# As you can see, there are some issues we might still want to resolve\n",
    "# E.g., words that are split across lines,\n",
    "# duplicate words on adjacent pages (old texts do this a lot),\n",
    "# headers and footers that are not part of the main text, etc.\n",
    "\n",
    "# So, we need to collate the pages\n",
    "COLLATION_KWARGS = {\n",
    "    \"remove_headers_and_footers\": True,\n",
    "    \"remove_page_numbers\": True,\n",
    "    \"remove_excess_space\": True,\n",
    "    \"remove_empty_lines\": False,\n",
    "    \"remove_line_breaks\": False,\n",
    "    \"remove_word_breaks\": True,\n",
    "    \"add_section_tags\": True,\n",
    "    \"keep_page_breaks\": True,\n",
    "}\n",
    "\n",
    "collated_text = collate(\n",
    "    pages = correction,\n",
    "    api_key=os.getenv(\"OPENAI_API_KEY\"),\n",
    "    model_name=\"gpt-3.5-turbo-16k\",\n",
    "    temperature=0,\n",
    "    llm_provider=\"openai\",\n",
    "    chunk_size=4096,\n",
    "    more_info=COLLATION_KWARGS,\n",
    ")"
   ]
  },
  {
   "cell_type": "code",
   "execution_count": null,
   "metadata": {},
   "outputs": [
    {
     "name": "stdout",
     "output_type": "stream",
     "text": [
      "[SECTION_HEADER]PREFACE.[/SECTION_HEADER]\n",
      "\n",
      "Having concluded our First Volume, we would be deficient in gratitude did we not return thanks to the Public, in general, for the favourable reception our labours have experienced; and to those Scientific Gentlemen, in particular, who have assisted us with Communications, as well as Hints respecting the future conducting of the Work.\n",
      "\n",
      "As the grand Object of it is to diffuse Philosophical Knowledge among every Class of Society, and to give the Public as early an Account as possible of everything new or curious in the scientific World, both at Home and on the Continent, we flatter ourselves with the hope that the same liberal Patronage we have hitherto experienced will be continued; and that Scientific Men will afford us that Support and Assistance which they may think our Attempt entitled to. Whatever may be our future Success, no Exertions shall be wanting on our part to render the Work useful to Society, and especially to the Arts and Manufactures of Great Britain which, as is well known, have been much improved by the great Progress that has lately been made in various Branches of the Philosophical Sciences. ~~\n"
     ]
    }
   ],
   "source": [
    "print(collated_text)"
   ]
  },
  {
   "cell_type": "code",
   "execution_count": null,
   "metadata": {},
   "outputs": [],
   "source": []
  }
 ],
 "metadata": {
  "kernelspec": {
   "display_name": ".venv",
   "language": "python",
   "name": "python3"
  },
  "language_info": {
   "codemirror_mode": {
    "name": "ipython",
    "version": 3
   },
   "file_extension": ".py",
   "mimetype": "text/x-python",
   "name": "python",
   "nbconvert_exporter": "python",
   "pygments_lexer": "ipython3",
   "version": "3.11.6"
  }
 },
 "nbformat": 4,
 "nbformat_minor": 2
}
