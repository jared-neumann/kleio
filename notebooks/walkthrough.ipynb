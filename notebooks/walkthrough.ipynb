{
 "cells": [
  {
   "cell_type": "markdown",
   "metadata": {},
   "source": [
    "# Kleio Walkthrough"
   ]
  },
  {
   "cell_type": "markdown",
   "metadata": {},
   "source": [
    "## About"
   ]
  },
  {
   "cell_type": "markdown",
   "metadata": {},
   "source": [
    "Author: Jared Neumann\n",
    "\n",
    "This package is designed to take a PDF document with or without a text layer, or raw text, and return a complete, corrected version of that text. Text is extracted using common OCR tools, if necessary, and the text is then passed to an LLM. The LLM then makes corrections to each chunk. Additional functions can be called, such as:\n",
    "- Layout analysis and annotation\n",
    "- Revised collation (e.g., to eliminate headers and footers, etc.)\n",
    "- Translation"
   ]
  },
  {
   "cell_type": "markdown",
   "metadata": {},
   "source": [
    "## Import Statements"
   ]
  },
  {
   "cell_type": "code",
   "execution_count": 1,
   "metadata": {},
   "outputs": [],
   "source": [
    "# we'll have to set up a duplicate logger in the notebook\n",
    "import logging\n",
    "import os\n",
    "\n",
    "# Get the root logger\n",
    "logger = logging.getLogger()\n",
    "logger.setLevel(logging.INFO)\n",
    "\n",
    "# Create a StreamHandler for the notebook\n",
    "stream_handler = logging.StreamHandler()\n",
    "stream_handler.setLevel(logging.INFO)\n",
    "formatter = logging.Formatter('%(asctime)s - %(name)s - %(levelname)s - %(message)s')\n",
    "stream_handler.setFormatter(formatter)\n",
    "\n",
    "# Add the handler to the logger\n",
    "logger.addHandler(stream_handler)\n",
    "\n",
    "# set propagation to false to prevent double logging\n",
    "logger.propagate = False\n",
    "\n",
    "from kleio.ocr import *\n",
    "from kleio.image_utils import *\n",
    "from kleio.correction import *\n",
    "from kleio.collation import *\n",
    "\n",
    "import matplotlib.pyplot as plt"
   ]
  },
  {
   "cell_type": "markdown",
   "metadata": {},
   "source": [
    "## Getting Raw Text"
   ]
  },
  {
   "cell_type": "markdown",
   "metadata": {},
   "source": [
    "There are a few allowable file types: PDF with text, PDF without text, images, and plain text. The type is automatically inferred, and the extracted text is returned. A few options for OCR are available."
   ]
  },
  {
   "cell_type": "code",
   "execution_count": 2,
   "metadata": {},
   "outputs": [
    {
     "name": "stdout",
     "output_type": "stream",
     "text": [
      "2024-01-14 04:15:56,747 - kleio.ocr - INFO - Retrieving text from ../tests/test_input/test_0.pdf\n"
     ]
    },
    {
     "name": "stderr",
     "output_type": "stream",
     "text": [
      "2024-01-14 04:15:56,747 - kleio.ocr - INFO - Retrieving text from ../tests/test_input/test_0.pdf\n"
     ]
    },
    {
     "name": "stdout",
     "output_type": "stream",
     "text": [
      "2024-01-14 04:15:56,748 - kleio.ocr - INFO - File provided\n"
     ]
    },
    {
     "name": "stderr",
     "output_type": "stream",
     "text": [
      "2024-01-14 04:15:56,748 - kleio.ocr - INFO - File provided\n"
     ]
    },
    {
     "name": "stdout",
     "output_type": "stream",
     "text": [
      "2024-01-14 04:15:56,765 - kleio.ocr - INFO - Getting text from PDF file ../tests/test_input/test_0.pdf\n"
     ]
    },
    {
     "name": "stderr",
     "output_type": "stream",
     "text": [
      "2024-01-14 04:15:56,765 - kleio.ocr - INFO - Getting text from PDF file ../tests/test_input/test_0.pdf\n"
     ]
    },
    {
     "name": "stdout",
     "output_type": "stream",
     "text": [
      "2024-01-14 04:15:56,776 - kleio.ocr - INFO - Retrieving text from ../tests/test_input/test_1.jpg\n"
     ]
    },
    {
     "name": "stderr",
     "output_type": "stream",
     "text": [
      "2024-01-14 04:15:56,776 - kleio.ocr - INFO - Retrieving text from ../tests/test_input/test_1.jpg\n"
     ]
    },
    {
     "name": "stdout",
     "output_type": "stream",
     "text": [
      "2024-01-14 04:15:56,777 - kleio.ocr - INFO - File provided\n"
     ]
    },
    {
     "name": "stderr",
     "output_type": "stream",
     "text": [
      "2024-01-14 04:15:56,777 - kleio.ocr - INFO - File provided\n"
     ]
    },
    {
     "name": "stdout",
     "output_type": "stream",
     "text": [
      "2024-01-14 04:15:56,777 - kleio.ocr - INFO - Getting page text from image file ../tests/test_input/test_1.jpg\n"
     ]
    },
    {
     "name": "stderr",
     "output_type": "stream",
     "text": [
      "2024-01-14 04:15:56,777 - kleio.ocr - INFO - Getting page text from image file ../tests/test_input/test_1.jpg\n"
     ]
    },
    {
     "name": "stdout",
     "output_type": "stream",
     "text": [
      "2024-01-14 04:15:56,792 - kleio.ocr - INFO - Preprocessing image\n"
     ]
    },
    {
     "name": "stderr",
     "output_type": "stream",
     "text": [
      "2024-01-14 04:15:56,792 - kleio.ocr - INFO - Preprocessing image\n"
     ]
    },
    {
     "name": "stdout",
     "output_type": "stream",
     "text": [
      "2024-01-14 04:15:58,003 - kleio.ocr - INFO - Retrieving text from ../tests/test_input/test_2.pdf\n"
     ]
    },
    {
     "name": "stderr",
     "output_type": "stream",
     "text": [
      "2024-01-14 04:15:58,003 - kleio.ocr - INFO - Retrieving text from ../tests/test_input/test_2.pdf\n"
     ]
    },
    {
     "name": "stdout",
     "output_type": "stream",
     "text": [
      "2024-01-14 04:15:58,004 - kleio.ocr - INFO - File provided\n"
     ]
    },
    {
     "name": "stderr",
     "output_type": "stream",
     "text": [
      "2024-01-14 04:15:58,004 - kleio.ocr - INFO - File provided\n"
     ]
    },
    {
     "name": "stdout",
     "output_type": "stream",
     "text": [
      "2024-01-14 04:15:58,005 - kleio.ocr - INFO - Getting text from PDF file ../tests/test_input/test_2.pdf\n"
     ]
    },
    {
     "name": "stderr",
     "output_type": "stream",
     "text": [
      "2024-01-14 04:15:58,005 - kleio.ocr - INFO - Getting text from PDF file ../tests/test_input/test_2.pdf\n"
     ]
    },
    {
     "name": "stdout",
     "output_type": "stream",
     "text": [
      "2024-01-14 04:15:58,006 - kleio.ocr - INFO - Converting PDF file ../tests/test_input/test_2.pdf to image\n"
     ]
    },
    {
     "name": "stderr",
     "output_type": "stream",
     "text": [
      "2024-01-14 04:15:58,006 - kleio.ocr - INFO - Converting PDF file ../tests/test_input/test_2.pdf to image\n"
     ]
    }
   ],
   "source": [
    "example_filepath_0 = \"../tests/test_input/test_0.pdf\"\n",
    "example_filepath_1 = \"../tests/test_input/test_1.jpg\"\n",
    "example_filepath_2 = \"../tests/test_input/test_2.pdf\"\n",
    "\n",
    "IMAGE_CONFIG = {\n",
    "    \"grayscale\": True,\n",
    "    \"resize\": False,\n",
    "    \"threshold\": True,\n",
    "    \"deskew\": False,\n",
    "    \"dilate_and_erode\": False,\n",
    "    \"blur\": False\n",
    "}\n",
    "\n",
    "text_0 = retrieve_text(example_filepath_0, image_kwargs=IMAGE_CONFIG)\n",
    "text_1 = retrieve_text(example_filepath_1, image_kwargs=IMAGE_CONFIG)\n",
    "text_2 = retrieve_text(example_filepath_2, image_kwargs=IMAGE_CONFIG)"
   ]
  },
  {
   "cell_type": "code",
   "execution_count": 3,
   "metadata": {},
   "outputs": [
    {
     "name": "stdout",
     "output_type": "stream",
     "text": [
      "{'filename': 'test_0.pdf', 'extension': 'PDF', 'pages': ['[ 2l6 ]\\nReceived June 8, 17 dp.\\nX X X . A  Letter from  Mr. Lane, Apothe\\xad\\ncary, \\nin Alderfgate-ftreet, to the H\\nnourable Henry Cavendifh, \\nR. S. on \\nthe Solubility o f Iron in fimple \\n, by \\nthe Intervention of fixed A ir.\\nAlderfgate-ftreet, June 5, 1769*\\nSi r ,\\nRead Nov. 23, F\\' g \" 1H  E various impregnations of mi- \\n7 9 \\nJL \\nneral waters have always been very \\ndifficult to explain : and whoever has read the divers, \\nand often contradi&ory reafonings upon the fubjedt, \\nmud clearly perceive, that there is ffill room for dif- \\ncoveries in this part of natural hiftory*\\nYou, Sir, by your accounts of fixed air, and of \\nRathbone-place water, related in the laft volume of \\nPhilofophical Tranfadtions, have obliged the public \\nwith many additional lights on this branch of know* \\nledge^ and, from your known accuracy, and diligent \\npurfuits in moft philofophical inquiries, the learned \\nWorld has great reafon to hope for many other new \\nand ufeful improvements* \\nTo your judgment there\\xad\\nfore, I fubmit the following experiments; which are \\nintended to fhew, that iron is foluble in fimple water,\\nby\\n Downloaded from https://royalsocietypublishing.org/ on 14 January 2024 \\n', 'r « 7 ]\\nby the intervention of fixed air; and thence, that it \\nis very probable, many different chalybeate fprings \\nfuftain their metallic charge by this means only.\\nThe folution of iron in mineral waters, efpecially \\nin fuch as, by expbfure, readily lofe the property of \\nftriking a purple colour with aftringent vegetables, \\nhas ufually been attributed to fome fubtile gas, or vo\\xad\\nlatile acid. \\nChymiftry, however, does not difcover \\nany acid folvent for iron, but what has greater affi\\xad\\nnity with alcalies; and by means of which, there\\xad\\nfore, this metal will be precipitated. Hence if any \\nwater appears, with a predominant alcali, which has \\nalfo the power of tinging with galls, and, on being \\nexpofed to the open-air, lets fall the iron, and lofes \\nthat property $ may we not conclude the metal to \\nhave been fufpended by fome other medium ?\\nThis, for example, is plainly the cafe in German \\nSpa water, which Dr. Brownrigg has proved to \\nabound with fixed air. \\nYour own very curious ex\\xad\\nperiments, before cited, have clearly fhewn, that \\ncalcarious earths maybe fufpended in water by this \\nprinciple of fixed air. \\nAnd thefe have led me to \\nexamine, whether iron might not be diffolved by the \\nfame natural means.\\nI would not, however, be fuppofed, to deny, that \\niron is frequently found united with an acid. \\nThe \\nfadfc is fufficiently evinced in the pyrites and vi\\xad\\ntriolic earths. \\nNor can I doubt, but that thefe fub- \\nfiances do largely contribute to the primary impreg\\xad\\nnation of waters, they being fo readily foluble in \\nthem, But as an alcali, or abforbent earth, is often \\nfound more than fufficient to faturate.the acid ill mi\\xad\\nneral waters 5 this would effe&ually difengage every \\nV o l . LIX, \\nF f  \\nparticle\\n Downloaded from https://royalsocietypublishing.org/ on 14 January 2024 \\n', '[ « » ]\\nparticle of iron diffolved by an acid, unlefs the metal \\nwas fupported by fome other menftruum.\\nMy endeavours, therefore, to detedt: this folvent, \\nby experiments, are what I now beg leave to lay be\\xad\\nfore you, in the order I made them.\\nE x p e r i m e n t  I.\\nA wide-mouthed bottle, containing half a pint of \\ndiftilled water and fixty grains of fteel-filings, was \\nfufpended forty-eight hours over fome diftillers me- \\nlaflfes, in brilk fermentation $ fo as to receive the fixed \\nair efcaping from the fermenting liquor; the furface \\nof which was ten inches below the mouth of the \\nbottle. Immediately after its removal, the clear water \\nwas decanted from the filings and ochrous fediment.\\nThis liquor had a brilk and ferruginous tafte, with \\na flavour of the melafles. \\nAn infufion of galls, or \\ngreen tea, foon changed part of it to a colour like \\nink. \\nThe remainder, being expofed to the open air, \\nprefently became turbid, threw up a party-coloured \\npellicle, and depofited a yellowilh fediment.\\nThe water now retained but very little power of \\ntinging with galls; and in a few days loft this pro\\xad\\nperty entirely.\\nE x p e r i m e n t  II.\\nFourteen ounces of coarfe fugar, diflolved in feven \\npints of water, were mixed with half a pint of yeaft, \\nin a bottle capable of holding more than twice the \\nabove quantity^ \\nOne end of a bent tube was luted \\ninto this veffel, fo that no air mightefcape but through\\nthe\\n Downloaded from https://royalsocietypublishing.org/ on 14 January 2024 \\n']}\n",
      "3\n",
      "[ 2l6 ]\n",
      "Received June 8, 17 dp.\n",
      "X X X . A  Letter from  Mr. Lane, Apothe­\n",
      "cary, \n",
      "in Alderfgate-ftreet, to the H\n",
      "nourable Henry Cavendifh, \n",
      "R. S. on \n",
      "the Solubility o f Iron in fimple \n",
      ", by \n",
      "the Intervention of fixed A ir.\n",
      "Alderfgate-ftreet, June 5, 1769*\n",
      "Si r ,\n",
      "Read Nov. 23, F' g \" 1H  E various impregnations of mi- \n",
      "7 9 \n",
      "JL \n",
      "neral waters have always been very \n",
      "difficult to explain : and whoever has read the divers, \n",
      "and often contradi&ory reafonings upon the fubjedt, \n",
      "mud clearly perceive, that there is ffill room for dif- \n",
      "coveries in this part of natural hiftory*\n",
      "You, Sir, by your accounts of fixed air, and of \n",
      "Rathbone-place water, related in the laft volume of \n",
      "Philofophical Tranfadtions, have obliged the public \n",
      "with many additional lights on this branch of know* \n",
      "ledge^ and, from your known accuracy, and diligent \n",
      "purfuits in moft philofophical inquiries, the learned \n",
      "World has great reafon to hope for many other new \n",
      "and ufeful improvements* \n",
      "To your judgment there­\n",
      "fore, I fubmit the following experiments; which are \n",
      "intended to fhew, that iron is foluble in fimple water,\n",
      "by\n",
      " Downloaded from https://royalsocietypublishing.org/ on 14 January 2024 \n",
      "\n",
      "r « 7 ]\n",
      "by the intervention of fixed air; and thence, that it \n",
      "is very probable, many different chalybeate fprings \n",
      "fuftain their metallic charge by this means only.\n",
      "The folution of iron in mineral waters, efpecially \n",
      "in fuch as, by expbfure, readily lofe the property of \n",
      "ftriking a purple colour with aftringent vegetables, \n",
      "has ufually been attributed to fome fubtile gas, or vo­\n",
      "latile acid. \n",
      "Chymiftry, however, does not difcover \n",
      "any acid folvent for iron, but what has greater affi­\n",
      "nity with alcalies; and by means of which, there­\n",
      "fore, this metal will be precipitated. Hence if any \n",
      "water appears, with a predominant alcali, which has \n",
      "alfo the power of tinging with galls, and, on being \n",
      "expofed to the open-air, lets fall the iron, and lofes \n",
      "that property $ may we not conclude the metal to \n",
      "have been fufpended by fome other medium ?\n",
      "This, for example, is plainly the cafe in German \n",
      "Spa water, which Dr. Brownrigg has proved to \n",
      "abound with fixed air. \n",
      "Your own very curious ex­\n",
      "periments, before cited, have clearly fhewn, that \n",
      "calcarious earths maybe fufpended in water by this \n",
      "principle of fixed air. \n",
      "And thefe have led me to \n",
      "examine, whether iron might not be diffolved by the \n",
      "fame natural means.\n",
      "I would not, however, be fuppofed, to deny, that \n",
      "iron is frequently found united with an acid. \n",
      "The \n",
      "fadfc is fufficiently evinced in the pyrites and vi­\n",
      "triolic earths. \n",
      "Nor can I doubt, but that thefe fub- \n",
      "fiances do largely contribute to the primary impreg­\n",
      "nation of waters, they being fo readily foluble in \n",
      "them, But as an alcali, or abforbent earth, is often \n",
      "found more than fufficient to faturate.the acid ill mi­\n",
      "neral waters 5 this would effe&ually difengage every \n",
      "V o l . LIX, \n",
      "F f  \n",
      "particle\n",
      " Downloaded from https://royalsocietypublishing.org/ on 14 January 2024 \n",
      "\n",
      "[ « » ]\n",
      "particle of iron diffolved by an acid, unlefs the metal \n",
      "was fupported by fome other menftruum.\n",
      "My endeavours, therefore, to detedt: this folvent, \n",
      "by experiments, are what I now beg leave to lay be­\n",
      "fore you, in the order I made them.\n",
      "E x p e r i m e n t  I.\n",
      "A wide-mouthed bottle, containing half a pint of \n",
      "diftilled water and fixty grains of fteel-filings, was \n",
      "fufpended forty-eight hours over fome diftillers me- \n",
      "laflfes, in brilk fermentation $ fo as to receive the fixed \n",
      "air efcaping from the fermenting liquor; the furface \n",
      "of which was ten inches below the mouth of the \n",
      "bottle. Immediately after its removal, the clear water \n",
      "was decanted from the filings and ochrous fediment.\n",
      "This liquor had a brilk and ferruginous tafte, with \n",
      "a flavour of the melafles. \n",
      "An infufion of galls, or \n",
      "green tea, foon changed part of it to a colour like \n",
      "ink. \n",
      "The remainder, being expofed to the open air, \n",
      "prefently became turbid, threw up a party-coloured \n",
      "pellicle, and depofited a yellowilh fediment.\n",
      "The water now retained but very little power of \n",
      "tinging with galls; and in a few days loft this pro­\n",
      "perty entirely.\n",
      "E x p e r i m e n t  II.\n",
      "Fourteen ounces of coarfe fugar, diflolved in feven \n",
      "pints of water, were mixed with half a pint of yeaft, \n",
      "in a bottle capable of holding more than twice the \n",
      "above quantity^ \n",
      "One end of a bent tube was luted \n",
      "into this veffel, fo that no air mightefcape but through\n",
      "the\n",
      " Downloaded from https://royalsocietypublishing.org/ on 14 January 2024 \n",
      "\n"
     ]
    }
   ],
   "source": [
    "# let's inspect one of the outputs\n",
    "print(text_0)\n",
    "print(len(text_0[\"pages\"]))\n",
    "for page in text_0[\"pages\"]:\n",
    "    print(page)"
   ]
  },
  {
   "cell_type": "markdown",
   "metadata": {},
   "source": [
    "## Correcting the Raw Text"
   ]
  },
  {
   "cell_type": "code",
   "execution_count": 4,
   "metadata": {},
   "outputs": [],
   "source": [
    "\n",
    "CORRECTION_KWARGS = {\n",
    "    \"filename\": text_0[\"filename\"],\n",
    "    \"extension\": text_0[\"extension\"],\n",
    "    \"filetype\": \"academic article\",\n",
    "    \"ocr_software\": \"pytesseract\",\n",
    "    \"image_preprocessing_software\": \"opencv\",\n",
    "    \"date\": \"1770-1800\",\n",
    "    \"language\": \"British English\",\n",
    "    \"comments\": \"This is an article from the Philosophical Transactions of the Royal Society\",\n",
    "}"
   ]
  },
  {
   "cell_type": "code",
   "execution_count": 5,
   "metadata": {},
   "outputs": [
    {
     "name": "stdout",
     "output_type": "stream",
     "text": [
      "2024-01-14 04:15:59,415 - kleio.correction - INFO - Getting correction from LLM\n"
     ]
    },
    {
     "name": "stderr",
     "output_type": "stream",
     "text": [
      "2024-01-14 04:15:59,415 - kleio.correction - INFO - Getting correction from LLM\n"
     ]
    },
    {
     "name": "stdout",
     "output_type": "stream",
     "text": [
      "2024-01-14 04:15:59,416 - kleio.llm_utils - INFO - Creating OpenAI prompt for OCR correction task\n"
     ]
    },
    {
     "name": "stderr",
     "output_type": "stream",
     "text": [
      "2024-01-14 04:15:59,416 - kleio.llm_utils - INFO - Creating OpenAI prompt for OCR correction task\n"
     ]
    },
    {
     "name": "stdout",
     "output_type": "stream",
     "text": [
      "2024-01-14 04:15:59,417 - kleio.llm_utils - INFO - Creating OpenAI LLM\n"
     ]
    },
    {
     "name": "stderr",
     "output_type": "stream",
     "text": [
      "2024-01-14 04:15:59,417 - kleio.llm_utils - INFO - Creating OpenAI LLM\n",
      "  0%|          | 0/3 [00:00<?, ?it/s]2024-01-14 04:16:35,819 - httpx - INFO - HTTP Request: POST https://api.openai.com/v1/chat/completions \"HTTP/1.1 200 OK\"\n",
      " 33%|███▎      | 1/3 [00:36<01:12, 36.33s/it]2024-01-14 04:16:42,283 - httpx - INFO - HTTP Request: POST https://api.openai.com/v1/chat/completions \"HTTP/1.1 200 OK\"\n",
      " 67%|██████▋   | 2/3 [00:42<00:18, 18.76s/it]2024-01-14 04:16:47,349 - httpx - INFO - HTTP Request: POST https://api.openai.com/v1/chat/completions \"HTTP/1.1 200 OK\"\n",
      "100%|██████████| 3/3 [00:47<00:00, 15.95s/it]\n"
     ]
    }
   ],
   "source": [
    "correction = get_correction(\n",
    "    text = text_0,\n",
    "    api_key=os.getenv(\"OPENAI_API_KEY\"),\n",
    "    llm_provider=\"openai\",\n",
    "    model_name=\"gpt-3.5-turbo-16k\",\n",
    "    temperature=0,\n",
    "    more_info=CORRECTION_KWARGS,\n",
    "    chunk_size=4096,\n",
    ")"
   ]
  },
  {
   "cell_type": "code",
   "execution_count": 6,
   "metadata": {},
   "outputs": [
    {
     "name": "stdout",
     "output_type": "stream",
     "text": [
      "[216]\n",
      "Received June 8, 17 dp.\n",
      "X X X. A Letter from Mr. Lane, Apothe­\n",
      "cary,\n",
      "in Alderfgate-ftreet, to the Honourable Henry Cavendifh,\n",
      "R. S. on\n",
      "the Solubility of Iron in simple\n",
      ", by\n",
      "the Intervention of fixed Air.\n",
      "Alderfgate-ftreet, June 5, 1769*\n",
      "Sir,\n",
      "Read Nov. 23, F'g \" 1H E various impregnations of mi-\n",
      "79\n",
      "neral waters have always been very\n",
      "difficult to explain: and whoever has read the diverse,\n",
      "and often contradictory reasonings upon the subject,\n",
      "must clearly perceive, that there is still room for dif-\n",
      "coveries in this part of natural history.\n",
      "You, Sir, by your accounts of fixed air, and of\n",
      "Rathbone-place water, related in the last volume of\n",
      "Philosophical Transactions, have obliged the public\n",
      "with many additional lights on this branch of know-\n",
      "ledge, and, from your known accuracy, and diligent\n",
      "pursuits in most philosophical inquiries, the learned\n",
      "World has great reason to hope for many other new\n",
      "and useful improvements.\n",
      "To your judgment there-\n",
      "fore, I submit the following experiments; which are\n",
      "intended to show, that iron is soluble in simple water,\n",
      "by\n",
      "Downloaded from https://royalsocietypublishing.org/ on 14 January 2024\n",
      "[Page 7]\n",
      "by the intervention of fixed air; and thence, that it \n",
      "is very probable, many different chalybeate springs \n",
      "sustain their metallic charge by this means only.\n",
      "The solution of iron in mineral waters, especially \n",
      "in such as, by exposure, readily lose the property of \n",
      "striking a purple colour with astringent vegetables, \n",
      "has usually been attributed to some subtle gas, or vo­\n",
      "latile acid. \n",
      "Chemistry, however, does not discover \n",
      "any acid solvent for iron, but what has greater affi­\n",
      "nity with alkalis; and by means of which, there­\n",
      "fore, this metal will be precipitated. Hence if any \n",
      "water appears, with a predominant alkali, which has \n",
      "also the power of tinging with galls, and, on being \n",
      "exposed to the open-air, lets fall the iron, and loses \n",
      "that property $ may we not conclude the metal to \n",
      "have been suspended by some other medium ?\n",
      "This, for example, is plainly the case in German \n",
      "Spa water, which Dr. Brownrigg has proved to \n",
      "abound with fixed air. \n",
      "Your own very curious ex­\n",
      "periments, before cited, have clearly shown, that \n",
      "calcareous earths may be suspended in water by this \n",
      "principle of fixed air. \n",
      "And these have led me to \n",
      "examine, whether iron might not be dissolved by the \n",
      "same natural means.\n",
      "I would not, however, be supposed, to deny, that \n",
      "iron is frequently found united with an acid. \n",
      "The \n",
      "fact is sufficiently evinced in the pyrites and vi­\n",
      "triolic earths. \n",
      "Nor can I doubt, but that these sub- \n",
      "stances do largely contribute to the primary impreg­\n",
      "nation of waters, they being so readily soluble in \n",
      "them. But as an alkali, or absorbent earth, is often \n",
      "found more than sufficient to saturate the acid in mi­\n",
      "neral waters, this would effectively disengage every \n",
      "Vol. LIX, \n",
      "F f  \n",
      "particle\n",
      "Downloaded from https://royalsocietypublishing.org/ on 14 January 2024\n",
      "[ « » ]\n",
      "particle of iron dissolved by an acid, unless the metal \n",
      "was supported by some other menstruum.\n",
      "My endeavours, therefore, to detect this solvent, \n",
      "by experiments, are what I now beg leave to lay be­\n",
      "fore you, in the order I made them.\n",
      "Experiment I.\n",
      "A wide-mouthed bottle, containing half a pint of \n",
      "distilled water and sixty grains of steel-filings, was \n",
      "suspended forty-eight hours over some distillers me- \n",
      "lasses, in brisk fermentation, so as to receive the fixed \n",
      "air escaping from the fermenting liquor; the surface \n",
      "of which was ten inches below the mouth of the \n",
      "bottle. Immediately after its removal, the clear water \n",
      "was decanted from the filings and ochrous sediment.\n",
      "This liquor had a brisk and ferruginous taste, with \n",
      "a flavour of the molasses. \n",
      "An infusion of galls, or \n",
      "green tea, soon changed part of it to a colour like \n",
      "ink. \n",
      "The remainder, being exposed to the open air, \n",
      "presently became turbid, threw up a party-coloured \n",
      "pellicle, and deposited a yellowish sediment.\n",
      "The water now retained but very little power of \n",
      "tinging with galls; and in a few days lost this pro­\n",
      "perty entirely.\n",
      "Experiment II.\n",
      "Fourteen ounces of coarse sugar, dissolved in seven \n",
      "pints of water, were mixed with half a pint of yeast, \n",
      "in a bottle capable of holding more than twice the \n",
      "above quantity. \n",
      "One end of a bent tube was luted \n",
      "into this vessel, so that no air might escape but through\n",
      "the\n",
      " Downloaded from https://royalsocietypublishing.org/ on 14 January 2024\n"
     ]
    }
   ],
   "source": [
    "for page in correction:\n",
    "    print(page)"
   ]
  },
  {
   "cell_type": "markdown",
   "metadata": {},
   "source": [
    "## Collating the corrected pages"
   ]
  },
  {
   "cell_type": "code",
   "execution_count": 13,
   "metadata": {},
   "outputs": [
    {
     "name": "stdout",
     "output_type": "stream",
     "text": [
      "2024-01-14 04:23:59,203 - kleio.llm_utils - INFO - Creating OpenAI prompt for OCR correction task\n"
     ]
    },
    {
     "name": "stderr",
     "output_type": "stream",
     "text": [
      "2024-01-14 04:23:59,203 - kleio.llm_utils - INFO - Creating OpenAI prompt for OCR correction task\n"
     ]
    },
    {
     "name": "stdout",
     "output_type": "stream",
     "text": [
      "2024-01-14 04:23:59,204 - kleio.llm_utils - INFO - Creating OpenAI LLM\n"
     ]
    },
    {
     "name": "stderr",
     "output_type": "stream",
     "text": [
      "2024-01-14 04:23:59,204 - kleio.llm_utils - INFO - Creating OpenAI LLM\n",
      "  0%|          | 0/1 [00:00<?, ?it/s]2024-01-14 04:24:31,845 - httpx - INFO - HTTP Request: POST https://api.openai.com/v1/chat/completions \"HTTP/1.1 200 OK\"\n",
      "100%|██████████| 1/1 [00:32<00:00, 32.63s/it]\n"
     ]
    }
   ],
   "source": [
    "# As you can see, there are some issues we might still want to resolve\n",
    "# E.g., words that are split across lines,\n",
    "# duplicate words on adjacent pages (old texts do this a lot),\n",
    "# headers and footers that are not part of the main text, etc.\n",
    "\n",
    "# So, we need to collate the pages\n",
    "COLLATION_KWARGS = {\n",
    "    \"remove_headers_and_footers\": True,\n",
    "    \"remove_page_numbers\": True,\n",
    "    \"remove_excess_space\": True,\n",
    "    \"remove_empty_lines\": False,\n",
    "    \"remove_line_breaks\": True,\n",
    "    \"remove_word_breaks\": True,\n",
    "    \"add_section_tags\": False,\n",
    "    \"keep_page_breaks\": False,\n",
    "}\n",
    "\n",
    "collated_text = collate(\n",
    "    pages = correction,\n",
    "    api_key=os.getenv(\"OPENAI_API_KEY\"),\n",
    "    model_name=\"gpt-4\",\n",
    "    temperature=0,\n",
    "    llm_provider=\"openai\",\n",
    "    chunk_size=2048,\n",
    "    more_info=COLLATION_KWARGS,\n",
    ")"
   ]
  },
  {
   "cell_type": "code",
   "execution_count": 14,
   "metadata": {},
   "outputs": [
    {
     "name": "stdout",
     "output_type": "stream",
     "text": [
      "Received June 8, 17 dp. XXX. A Letter from Mr. Lane, Apothecary, in Aldersgate-street, to the Honourable Henry Cavendish, R. S. on the Solubility of Iron in simple, by the Intervention of fixed Air. Aldersgate-street, June 5, 1769. Sir, Read Nov. 23, F'g \" 1H E various impregnations of mineral waters have always been very difficult to explain: and whoever has read the diverse, and often contradictory reasonings upon the subject, must clearly perceive, that there is still room for discoveries in this part of natural history.\n",
      "\n",
      "You, Sir, by your accounts of fixed air, and of Rathbone-place water, related in the last volume of Philosophical Transactions, have obliged the public with many additional lights on this branch of knowledge, and, from your known accuracy, and diligent pursuits in most philosophical inquiries, the learned World has great reason to hope for many other new and useful improvements. To your judgment therefore, I submit the following experiments; which are intended to show, that iron is soluble in simple water, by the intervention of fixed air; and thence, that it is very probable, many different chalybeate springs sustain their metallic charge by this means only.\n",
      "\n",
      "The solution of iron in mineral waters, especially in such as, by exposure, readily lose the property of striking a purple colour with astringent vegetables, has usually been attributed to some subtle gas, or volatile acid. Chemistry, however, does not discover any acid solvent for iron, but what has greater affinity with alkalis; and by means of which, therefore, this metal will be precipitated. Hence if any water appears, with a predominant alkali, which has also the power of tinging with galls, and, on being exposed to the open-air, lets fall the iron, and loses that property $ may we not conclude the metal to have been suspended by some other medium?\n",
      "\n",
      "This, for example, is plainly the case in German Spa water, which Dr. Brownrigg has proved to abound with fixed air. Your own very curious experiments, before cited, have clearly shown, that calcareous earths may be suspended in water by this principle of fixed air. And these have led me to examine, whether iron might not be dissolved by the same natural means.\n",
      "\n",
      "I would not, however, be supposed, to deny, that iron is frequently found united with an acid. The fact is sufficiently evinced in the pyrites and vitriolic earths. Nor can I doubt, but that these substances do largely contribute to the primary impregnation of waters, they being so readily soluble in them. But as an alkali, or absorbent earth, is often found more than sufficient to saturate the acid in mineral waters, this would effectively disengage every particle of iron dissolved by an acid, unless the metal was supported by some other menstruum.\n",
      "\n",
      "My endeavours, therefore, to detect this solvent, by experiments, are what I now beg leave to lay before you, in the order I made them. Experiment I. A wide-mouthed bottle, containing half a pint of distilled water and sixty grains of steel-filings, was suspended forty-eight hours over some distillers molasses, in brisk fermentation, so as to receive the fixed air escaping from the fermenting liquor; the surface of which was ten inches below the mouth of the bottle. Immediately after its removal, the clear water was decanted from the filings and ochrous sediment.\n",
      "\n",
      "This liquor had a brisk and ferruginous taste, with a flavour of the molasses. An infusion of galls, or green tea, soon changed part of it to a colour like ink. The remainder, being exposed to the open air, presently became turbid, threw up a party-coloured pellicle, and deposited a yellowish sediment. The water now retained but very little power of tinging with galls; and in a few days lost this property entirely.\n",
      "\n",
      "Experiment II. Fourteen ounces of coarse sugar, dissolved in seven pints of water, were mixed with half a pint of yeast, in a bottle capable of holding more than twice the above quantity. One end of a bent tube was luted into this vessel, so that no air might escape but through the tube.\n"
     ]
    }
   ],
   "source": [
    "print(collated_text)"
   ]
  },
  {
   "cell_type": "code",
   "execution_count": null,
   "metadata": {},
   "outputs": [],
   "source": []
  }
 ],
 "metadata": {
  "kernelspec": {
   "display_name": ".venv",
   "language": "python",
   "name": "python3"
  },
  "language_info": {
   "codemirror_mode": {
    "name": "ipython",
    "version": 3
   },
   "file_extension": ".py",
   "mimetype": "text/x-python",
   "name": "python",
   "nbconvert_exporter": "python",
   "pygments_lexer": "ipython3",
   "version": "3.11.6"
  }
 },
 "nbformat": 4,
 "nbformat_minor": 2
}
