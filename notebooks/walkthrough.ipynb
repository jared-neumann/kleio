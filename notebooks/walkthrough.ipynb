{
 "cells": [
  {
   "cell_type": "markdown",
   "metadata": {},
   "source": [
    "# Kleio Walkthrough"
   ]
  },
  {
   "cell_type": "markdown",
   "metadata": {},
   "source": [
    "## About"
   ]
  },
  {
   "cell_type": "markdown",
   "metadata": {},
   "source": [
    "Author: Jared Neumann\n",
    "\n",
    "This package is designed to take a PDF document with or without a text layer, or raw text, and return a complete, corrected version of that text. Text is extracted using common OCR tools, if necessary, and the text is then passed to an LLM. The LLM then makes corrections to each chunk. Additional functions can be called, such as:\n",
    "- Layout analysis and annotation\n",
    "- Revised collation (e.g., to eliminate headers and footers, etc.)\n",
    "- Translation"
   ]
  },
  {
   "cell_type": "markdown",
   "metadata": {},
   "source": [
    "## Import Statements"
   ]
  },
  {
   "cell_type": "code",
   "execution_count": 1,
   "metadata": {},
   "outputs": [
    {
     "name": "stderr",
     "output_type": "stream",
     "text": [
      "None of PyTorch, TensorFlow >= 2.0, or Flax have been found. Models won't be available and only tokenizers, configuration and file/data utilities can be used.\n",
      "2024-02-15 08:04:19,632 - matplotlib - DEBUG - matplotlib data path: /Users/jneumann/Repos/kleio/.venv/lib/python3.11/site-packages/matplotlib/mpl-data\n",
      "2024-02-15 08:04:19,635 - matplotlib - DEBUG - CONFIGDIR=/Users/jneumann/.matplotlib\n",
      "2024-02-15 08:04:19,636 - matplotlib - DEBUG - interactive is False\n",
      "2024-02-15 08:04:19,636 - matplotlib - DEBUG - platform is darwin\n",
      "2024-02-15 08:04:19,667 - matplotlib - DEBUG - CACHEDIR=/Users/jneumann/.matplotlib\n",
      "2024-02-15 08:04:19,669 - matplotlib.font_manager - DEBUG - Using fontManager instance from /Users/jneumann/.matplotlib/fontlist-v330.json\n"
     ]
    }
   ],
   "source": [
    "# we'll have to set up a duplicate logger in the notebook\n",
    "import logging\n",
    "import os\n",
    "\n",
    "# Get the root logger\n",
    "logger = logging.getLogger()\n",
    "logger.setLevel(logging.DEBUG)\n",
    "\n",
    "# Create a StreamHandler for the notebook\n",
    "stream_handler = logging.StreamHandler()\n",
    "stream_handler.setLevel(logging.DEBUG)\n",
    "formatter = logging.Formatter('%(asctime)s - %(name)s - %(levelname)s - %(message)s')\n",
    "stream_handler.setFormatter(formatter)\n",
    "\n",
    "# Add the handler to the logger\n",
    "logger.addHandler(stream_handler)\n",
    "\n",
    "# set propagation to false to prevent double logging\n",
    "logger.propagate = False\n",
    "\n",
    "from kleio.ocr import *\n",
    "from kleio.image_utils import *\n",
    "from kleio.correction import *\n",
    "from kleio.collation import *\n",
    "from kleio.translation import *\n",
    "\n",
    "import matplotlib.pyplot as plt\n",
    "import pytesseract"
   ]
  },
  {
   "cell_type": "markdown",
   "metadata": {},
   "source": [
    "## Getting Raw Text"
   ]
  },
  {
   "cell_type": "markdown",
   "metadata": {},
   "source": [
    "There are a few allowable file types: PDF with text, PDF without text, images, and plain text. The type is automatically inferred, and the extracted text is returned. A few options for OCR are available."
   ]
  },
  {
   "cell_type": "code",
   "execution_count": 2,
   "metadata": {},
   "outputs": [
    {
     "name": "stdout",
     "output_type": "stream",
     "text": [
      "2024-02-01 16:06:08,677 - kleio.ocr - INFO - Retrieving text from ../tests/test_input/test_0.pdf\n"
     ]
    },
    {
     "name": "stderr",
     "output_type": "stream",
     "text": [
      "2024-02-01 16:06:08,677 - kleio.ocr - INFO - Retrieving text from ../tests/test_input/test_0.pdf\n"
     ]
    },
    {
     "name": "stdout",
     "output_type": "stream",
     "text": [
      "2024-02-01 16:06:08,678 - kleio.ocr - INFO - File provided\n"
     ]
    },
    {
     "name": "stderr",
     "output_type": "stream",
     "text": [
      "2024-02-01 16:06:08,678 - kleio.ocr - INFO - File provided\n"
     ]
    },
    {
     "name": "stdout",
     "output_type": "stream",
     "text": [
      "2024-02-01 16:06:08,696 - kleio.ocr - INFO - Getting text from PDF file ../tests/test_input/test_0.pdf\n"
     ]
    },
    {
     "name": "stderr",
     "output_type": "stream",
     "text": [
      "2024-02-01 16:06:08,696 - kleio.ocr - INFO - Getting text from PDF file ../tests/test_input/test_0.pdf\n"
     ]
    }
   ],
   "source": [
    "example_filepath_0 = \"../tests/test_input/test_0.pdf\"\n",
    "example_filepath_1 = \"../tests/test_input/test_1.jpg\"\n",
    "example_filepath_2 = \"../tests/test_input/test_2.pdf\"\n",
    "phil_mag_s1_v1_filepath = \"../data/input/phil_mag_s1_v1.pdf\"\n",
    "output_dir = \"../data/output\"\n",
    "\n",
    "text = retrieve_text(example_filepath_0)\n",
    "#text_1 = retrieve_text(example_filepath_1)\n",
    "#text_2 = retrieve_text(example_filepath_2)\n",
    "#text_3 = retrieve_text(phil_mag_s1_v1_filepath)"
   ]
  },
  {
   "cell_type": "markdown",
   "metadata": {},
   "source": [
    "## Correcting the Raw Text"
   ]
  },
  {
   "cell_type": "code",
   "execution_count": 4,
   "metadata": {},
   "outputs": [
    {
     "name": "stdout",
     "output_type": "stream",
     "text": [
      "2024-02-01 16:06:08,735 - kleio.correction - INFO - Getting correction from LLM\n"
     ]
    },
    {
     "name": "stderr",
     "output_type": "stream",
     "text": [
      "2024-02-01 16:06:08,735 - kleio.correction - INFO - Getting correction from LLM\n"
     ]
    },
    {
     "name": "stdout",
     "output_type": "stream",
     "text": [
      "2024-02-01 16:06:08,735 - kleio.llm_utils - INFO - Creating ChatOpenAI prompt...\n"
     ]
    },
    {
     "name": "stderr",
     "output_type": "stream",
     "text": [
      "2024-02-01 16:06:08,735 - kleio.llm_utils - INFO - Creating ChatOpenAI prompt...\n"
     ]
    },
    {
     "name": "stdout",
     "output_type": "stream",
     "text": [
      "2024-02-01 16:06:08,736 - kleio.llm_utils - INFO - Creating OpenAI LLM...\n"
     ]
    },
    {
     "name": "stderr",
     "output_type": "stream",
     "text": [
      "2024-02-01 16:06:08,736 - kleio.llm_utils - INFO - Creating OpenAI LLM...\n",
      "2024-02-01 16:06:08,745 - httpx - DEBUG - load_ssl_context verify=True cert=None trust_env=True http2=False\n",
      "2024-02-01 16:06:08,747 - httpx - DEBUG - load_verify_locations cafile='/Users/jneumann/Repos/kleio/.venv/lib/python3.11/site-packages/certifi/cacert.pem'\n",
      "2024-02-01 16:06:08,754 - httpx - DEBUG - load_ssl_context verify=True cert=None trust_env=True http2=False\n",
      "2024-02-01 16:06:08,755 - httpx - DEBUG - load_verify_locations cafile='/Users/jneumann/Repos/kleio/.venv/lib/python3.11/site-packages/certifi/cacert.pem'\n"
     ]
    },
    {
     "name": "stdout",
     "output_type": "stream",
     "text": [
      "2024-02-01 16:06:08,760 - kleio.correction - INFO - Parsing chunks...\n"
     ]
    },
    {
     "name": "stderr",
     "output_type": "stream",
     "text": [
      "2024-02-01 16:06:08,760 - kleio.correction - INFO - Parsing chunks...\n",
      "2024-02-01 16:06:08,814 - urllib3.connectionpool - DEBUG - Starting new HTTPS connection (1): huggingface.co:443\n",
      "2024-02-01 16:06:09,025 - urllib3.connectionpool - DEBUG - https://huggingface.co:443 \"HEAD /mistralai/Mistral-7B-v0.1/resolve/main/tokenizer_config.json HTTP/1.1\" 200 0\n",
      "100%|██████████| 3/3 [00:00<00:00, 247.01it/s]\n",
      "  0%|          | 0/3 [00:00<?, ?it/s]"
     ]
    },
    {
     "name": "stdout",
     "output_type": "stream",
     "text": [
      "2024-02-01 16:06:09,122 - kleio.correction - INFO - Correcting chunks for page 0\n"
     ]
    },
    {
     "name": "stderr",
     "output_type": "stream",
     "text": [
      "2024-02-01 16:06:09,122 - kleio.correction - INFO - Correcting chunks for page 0\n",
      "2024-02-01 16:06:09,141 - openai._base_client - DEBUG - Request options: {'method': 'post', 'url': '/chat/completions', 'files': None, 'json_data': {'messages': [{'role': 'system', 'content': 'You are a digitization specialist tasked with replacing poor OCR text with corrected text.'}, {'role': 'user', 'content': 'The text below is a snippet from a digitized text. Your job is to carefully read the text and faithfully correct the OCR. This means keeping in mind the context of the text as you do your job. You have the following additional information about the source text, if available:\\n- Source filename: test_0.pdf\\n- Source filetype: academic journal\\n- OCR software: N/A\\n- Image preprocessing software: N/A\\n- Publication date: 18th century\\n- Language: British English\\n- Comments: This is an article from the Philosiphical Transactions of the Royal Society\\n\\nPlease correct the following text:\\n[ 2l6 ]\\nReceived June 8, 17 dp.\\nX X X . A  Letter from  Mr. Lane, Apothe\\xad\\ncary, \\nin Alderfgate-ftreet, to the H\\nnourable Henry Cavendifh, \\nR. S. on \\nthe Solubility o f Iron in fimple \\n, by \\nthe Intervention of fixed A ir.\\nAlderfgate-ftreet, June 5, 1769*\\nSi r ,\\nRead Nov. 23, F\\' g \" 1H  E various impregnations of mi- \\n7 9 \\nJL \\nneral waters have always been very \\ndifficult to explain : and whoever has read the divers, \\nand often contradi&ory reafonings upon the fubjedt, \\nmud clearly perceive, that there is ffill room for dif- \\ncoveries in this part of natural hiftory*\\nYou, Sir, by your accounts of fixed air, and of \\nRathbone-place water, related in the laft volume of \\nPhilofophical Tranfadtions, have obliged the public \\nwith many additional lights on this branch of know* \\nledge^ and, from your known accuracy, and diligent \\npurfuits in moft philofophical inquiries, the learned \\nWorld has great reafon to hope for many other new \\nand ufeful improvements* \\nTo your judgment there\\xad\\nfore, I fubmit the following experiments; which are \\nintended to fhew, that iron is foluble in fimple water,\\nby\\n Downloaded from https://royalsocietypublishing.org/ on 14 January 2024 \\n\\n\\nPlease return only your corrected version that snippet of text as if it had to seemlessly replace the original OCR text:\\n'}], 'model': 'mistralai/Mistral-7B-v0.1', 'n': 1, 'stream': False, 'temperature': 0.0}}\n",
      "huggingface/tokenizers: The current process just got forked, after parallelism has already been used. Disabling parallelism to avoid deadlocks...\n",
      "To disable this warning, you can either:\n",
      "\t- Avoid using `tokenizers` before the fork if possible\n",
      "\t- Explicitly set the environment variable TOKENIZERS_PARALLELISM=(true | false)\n",
      "2024-02-01 16:06:09,151 - httpcore.connection - DEBUG - connect_tcp.started host='localhost' port=1234 local_address=None timeout=None socket_options=None\n",
      "2024-02-01 16:06:09,153 - httpcore.connection - DEBUG - connect_tcp.complete return_value=<httpcore._backends.sync.SyncStream object at 0x28e84e0d0>\n",
      "2024-02-01 16:06:09,153 - httpcore.http11 - DEBUG - send_request_headers.started request=<Request [b'POST']>\n",
      "2024-02-01 16:06:09,154 - httpcore.http11 - DEBUG - send_request_headers.complete\n",
      "2024-02-01 16:06:09,154 - httpcore.http11 - DEBUG - send_request_body.started request=<Request [b'POST']>\n",
      "2024-02-01 16:06:09,154 - httpcore.http11 - DEBUG - send_request_body.complete\n",
      "2024-02-01 16:06:09,154 - httpcore.http11 - DEBUG - receive_response_headers.started request=<Request [b'POST']>\n",
      "2024-02-01 16:06:25,090 - httpcore.http11 - DEBUG - receive_response_headers.complete return_value=(b'HTTP/1.1', 200, b'OK', [(b'X-Powered-By', b'Express'), (b'Access-Control-Allow-Origin', b'*'), (b'Access-Control-Allow-Headers', b'*'), (b'Content-Type', b'application/json; charset=utf-8'), (b'Content-Length', b'1671'), (b'ETag', b'W/\"687-pTTN2c37pCm55n8dem2mavXOr/g\"'), (b'Date', b'Thu, 01 Feb 2024 22:06:25 GMT'), (b'Connection', b'keep-alive'), (b'Keep-Alive', b'timeout=5')])\n",
      "2024-02-01 16:06:25,096 - httpx - INFO - HTTP Request: POST http://localhost:1234/v1/chat/completions \"HTTP/1.1 200 OK\"\n",
      "2024-02-01 16:06:25,097 - httpcore.http11 - DEBUG - receive_response_body.started request=<Request [b'POST']>\n",
      "2024-02-01 16:06:25,098 - httpcore.http11 - DEBUG - receive_response_body.complete\n",
      "2024-02-01 16:06:25,101 - httpcore.http11 - DEBUG - response_closed.started\n",
      "2024-02-01 16:06:25,106 - httpcore.http11 - DEBUG - response_closed.complete\n",
      "2024-02-01 16:06:25,113 - openai._base_client - DEBUG - HTTP Request: POST http://localhost:1234/v1/chat/completions \"200 OK\"\n",
      " 33%|███▎      | 1/3 [00:16<00:32, 16.00s/it]"
     ]
    },
    {
     "name": "stdout",
     "output_type": "stream",
     "text": [
      "2024-02-01 16:06:25,128 - kleio.correction - INFO - Correcting chunks for page 1\n"
     ]
    },
    {
     "name": "stderr",
     "output_type": "stream",
     "text": [
      "2024-02-01 16:06:25,128 - kleio.correction - INFO - Correcting chunks for page 1\n",
      "2024-02-01 16:06:25,136 - openai._base_client - DEBUG - Request options: {'method': 'post', 'url': '/chat/completions', 'files': None, 'json_data': {'messages': [{'role': 'system', 'content': 'You are a digitization specialist tasked with replacing poor OCR text with corrected text.'}, {'role': 'user', 'content': 'The text below is a snippet from a digitized text. Your job is to carefully read the text and faithfully correct the OCR. This means keeping in mind the context of the text as you do your job. You have the following additional information about the source text, if available:\\n- Source filename: test_0.pdf\\n- Source filetype: academic journal\\n- OCR software: N/A\\n- Image preprocessing software: N/A\\n- Publication date: 18th century\\n- Language: British English\\n- Comments: This is an article from the Philosiphical Transactions of the Royal Society\\n\\nPlease correct the following text:\\nr « 7 ]\\nby the intervention of fixed air; and thence, that it \\nis very probable, many different chalybeate fprings \\nfuftain their metallic charge by this means only.\\nThe folution of iron in mineral waters, efpecially \\nin fuch as, by expbfure, readily lofe the property of \\nftriking a purple colour with aftringent vegetables, \\nhas ufually been attributed to fome fubtile gas, or vo\\xad\\nlatile acid. \\nChymiftry, however, does not difcover \\nany acid folvent for iron, but what has greater affi\\xad\\nnity with alcalies; and by means of which, there\\xad\\nfore, this metal will be precipitated. Hence if any \\nwater appears, with a predominant alcali, which has \\nalfo the power of tinging with galls, and, on being \\nexpofed to the open-air, lets fall the iron, and lofes \\nthat property $ may we not conclude the metal to \\nhave been fufpended by fome other medium ?\\nThis, for example, is plainly the cafe in German \\nSpa water, which Dr. Brownrigg has proved to \\nabound with fixed air. \\nYour own very curious ex\\xad\\nperiments, before cited, have clearly fhewn, that \\ncalcarious earths maybe fufpended in water by this \\nprinciple of fixed air. \\nAnd thefe have led me to \\nexamine, whether iron might not be diffolved by the \\nfame natural means.\\nI would not, however, be fuppofed, to deny, that \\niron is frequently found united with an acid. \\nThe \\nfadfc is fufficiently evinced in the pyrites and vi\\xad\\ntriolic earths. \\nNor can I doubt, but that thefe fub- \\nfiances do largely contribute to the primary impreg\\xad\\nnation of waters, they being fo readily foluble in \\nthem, But as an alcali, or abforbent earth, is often \\nfound more than fufficient to faturate.the acid ill mi\\xad\\nneral waters 5 this would effe&ually difengage every \\nV o l . LIX, \\nF f  \\nparticle\\n Downloaded from https://royalsocietypublishing.org/ on 14 January 2024 \\n\\n\\nPlease return only your corrected version that snippet of text as if it had to seemlessly replace the original OCR text:\\n'}], 'model': 'mistralai/Mistral-7B-v0.1', 'n': 1, 'stream': False, 'temperature': 0.0}}\n",
      "2024-02-01 16:06:25,138 - httpcore.http11 - DEBUG - send_request_headers.started request=<Request [b'POST']>\n",
      "2024-02-01 16:06:25,139 - httpcore.http11 - DEBUG - send_request_headers.complete\n",
      "2024-02-01 16:06:25,140 - httpcore.http11 - DEBUG - send_request_body.started request=<Request [b'POST']>\n",
      "2024-02-01 16:06:25,140 - httpcore.http11 - DEBUG - send_request_body.complete\n",
      "2024-02-01 16:06:25,141 - httpcore.http11 - DEBUG - receive_response_headers.started request=<Request [b'POST']>\n",
      "2024-02-01 16:06:44,136 - httpcore.http11 - DEBUG - receive_response_headers.complete return_value=(b'HTTP/1.1', 200, b'OK', [(b'X-Powered-By', b'Express'), (b'Access-Control-Allow-Origin', b'*'), (b'Access-Control-Allow-Headers', b'*'), (b'Content-Type', b'application/json; charset=utf-8'), (b'Content-Length', b'2198'), (b'ETag', b'W/\"896-fzyVUM39EE4pHUgPyQ3xCcRCMMQ\"'), (b'Date', b'Thu, 01 Feb 2024 22:06:44 GMT'), (b'Connection', b'keep-alive'), (b'Keep-Alive', b'timeout=5')])\n",
      "2024-02-01 16:06:44,141 - httpx - INFO - HTTP Request: POST http://localhost:1234/v1/chat/completions \"HTTP/1.1 200 OK\"\n",
      "2024-02-01 16:06:44,142 - httpcore.http11 - DEBUG - receive_response_body.started request=<Request [b'POST']>\n",
      "2024-02-01 16:06:44,143 - httpcore.http11 - DEBUG - receive_response_body.complete\n",
      "2024-02-01 16:06:44,144 - httpcore.http11 - DEBUG - response_closed.started\n",
      "2024-02-01 16:06:44,145 - httpcore.http11 - DEBUG - response_closed.complete\n",
      "2024-02-01 16:06:44,152 - openai._base_client - DEBUG - HTTP Request: POST http://localhost:1234/v1/chat/completions \"200 OK\"\n",
      " 67%|██████▋   | 2/3 [00:35<00:17, 17.79s/it]"
     ]
    },
    {
     "name": "stdout",
     "output_type": "stream",
     "text": [
      "2024-02-01 16:06:44,166 - kleio.correction - INFO - Correcting chunks for page 2\n"
     ]
    },
    {
     "name": "stderr",
     "output_type": "stream",
     "text": [
      "2024-02-01 16:06:44,166 - kleio.correction - INFO - Correcting chunks for page 2\n",
      "2024-02-01 16:06:44,174 - openai._base_client - DEBUG - Request options: {'method': 'post', 'url': '/chat/completions', 'files': None, 'json_data': {'messages': [{'role': 'system', 'content': 'You are a digitization specialist tasked with replacing poor OCR text with corrected text.'}, {'role': 'user', 'content': 'The text below is a snippet from a digitized text. Your job is to carefully read the text and faithfully correct the OCR. This means keeping in mind the context of the text as you do your job. You have the following additional information about the source text, if available:\\n- Source filename: test_0.pdf\\n- Source filetype: academic journal\\n- OCR software: N/A\\n- Image preprocessing software: N/A\\n- Publication date: 18th century\\n- Language: British English\\n- Comments: This is an article from the Philosiphical Transactions of the Royal Society\\n\\nPlease correct the following text:\\n[ « » ]\\nparticle of iron diffolved by an acid, unlefs the metal \\nwas fupported by fome other menftruum.\\nMy endeavours, therefore, to detedt: this folvent, \\nby experiments, are what I now beg leave to lay be\\xad\\nfore you, in the order I made them.\\nE x p e r i m e n t  I.\\nA wide-mouthed bottle, containing half a pint of \\ndiftilled water and fixty grains of fteel-filings, was \\nfufpended forty-eight hours over fome diftillers me- \\nlaflfes, in brilk fermentation $ fo as to receive the fixed \\nair efcaping from the fermenting liquor; the furface \\nof which was ten inches below the mouth of the \\nbottle. Immediately after its removal, the clear water \\nwas decanted from the filings and ochrous fediment.\\nThis liquor had a brilk and ferruginous tafte, with \\na flavour of the melafles. \\nAn infufion of galls, or \\ngreen tea, foon changed part of it to a colour like \\nink. \\nThe remainder, being expofed to the open air, \\nprefently became turbid, threw up a party-coloured \\npellicle, and depofited a yellowilh fediment.\\nThe water now retained but very little power of \\ntinging with galls; and in a few days loft this pro\\xad\\nperty entirely.\\nE x p e r i m e n t  II.\\nFourteen ounces of coarfe fugar, diflolved in feven \\npints of water, were mixed with half a pint of yeaft, \\nin a bottle capable of holding more than twice the \\nabove quantity^ \\nOne end of a bent tube was luted \\ninto this veffel, fo that no air mightefcape but through\\nthe\\n Downloaded from https://royalsocietypublishing.org/ on 14 January 2024 \\n\\n\\nPlease return only your corrected version that snippet of text as if it had to seemlessly replace the original OCR text:\\n'}], 'model': 'mistralai/Mistral-7B-v0.1', 'n': 1, 'stream': False, 'temperature': 0.0}}\n",
      "2024-02-01 16:06:44,175 - httpcore.http11 - DEBUG - send_request_headers.started request=<Request [b'POST']>\n",
      "2024-02-01 16:06:44,175 - httpcore.http11 - DEBUG - send_request_headers.complete\n",
      "2024-02-01 16:06:44,176 - httpcore.http11 - DEBUG - send_request_body.started request=<Request [b'POST']>\n",
      "2024-02-01 16:06:44,176 - httpcore.http11 - DEBUG - send_request_body.complete\n",
      "2024-02-01 16:06:44,176 - httpcore.http11 - DEBUG - receive_response_headers.started request=<Request [b'POST']>\n",
      "2024-02-01 16:06:59,575 - httpcore.http11 - DEBUG - receive_response_headers.complete return_value=(b'HTTP/1.1', 200, b'OK', [(b'X-Powered-By', b'Express'), (b'Access-Control-Allow-Origin', b'*'), (b'Access-Control-Allow-Headers', b'*'), (b'Content-Type', b'application/json; charset=utf-8'), (b'Content-Length', b'1783'), (b'ETag', b'W/\"6f7-s6eu+S0pTQDAyLhYrHRBm3l+3xI\"'), (b'Date', b'Thu, 01 Feb 2024 22:06:59 GMT'), (b'Connection', b'keep-alive'), (b'Keep-Alive', b'timeout=5')])\n",
      "2024-02-01 16:06:59,577 - httpx - INFO - HTTP Request: POST http://localhost:1234/v1/chat/completions \"HTTP/1.1 200 OK\"\n",
      "2024-02-01 16:06:59,578 - httpcore.http11 - DEBUG - receive_response_body.started request=<Request [b'POST']>\n",
      "2024-02-01 16:06:59,579 - httpcore.http11 - DEBUG - receive_response_body.complete\n",
      "2024-02-01 16:06:59,588 - httpcore.http11 - DEBUG - response_closed.started\n",
      "2024-02-01 16:06:59,591 - httpcore.http11 - DEBUG - response_closed.complete\n",
      "2024-02-01 16:06:59,593 - openai._base_client - DEBUG - HTTP Request: POST http://localhost:1234/v1/chat/completions \"200 OK\"\n",
      "100%|██████████| 3/3 [00:50<00:00, 16.83s/it]\n"
     ]
    }
   ],
   "source": [
    "import os\n",
    "correction = get_correction(\n",
    "    text = text,\n",
    "    api_key=\"not-needed\",\n",
    "    model_name=\"mistralai/Mistral-7B-v0.1\", # huggingface model name for tokenization\n",
    "    base_url=\"http://localhost:1234/v1\",\n",
    "    output_path=\"../data/output/correction.txt\",\n",
    "    filename=text[\"filename\"],\n",
    "    filetype=\"academic journal\",\n",
    "    language=\"British English\",\n",
    "    date=\"18th century\",\n",
    "    comments=\"This is an article from the Philosiphical Transactions of the Royal Society\",\n",
    ")"
   ]
  },
  {
   "cell_type": "markdown",
   "metadata": {},
   "source": [
    "## Collating the corrected pages"
   ]
  },
  {
   "cell_type": "code",
   "execution_count": 5,
   "metadata": {},
   "outputs": [
    {
     "name": "stderr",
     "output_type": "stream",
     "text": [
      "2024-02-01 16:06:59,775 - urllib3.connectionpool - DEBUG - https://huggingface.co:443 \"HEAD /mistralai/Mistral-7B-v0.1/resolve/main/tokenizer_config.json HTTP/1.1\" 200 0\n",
      "2024-02-01 16:06:59,835 - kleio.collation - DEBUG - Chunks: ['\\nReceived June 8, 1769.\\nSir,\\nA Letter from Mr. Lane, Apothecary, in Aldergate-street, to the Honourable Henry Cavendish, R.S. on the Solubility of Iron in Simple Water, by the Intervention of Fixed Air.\\nAldergate-street, June 5, 1769.\\nSir,\\nRead Nov. 23, 1769.\\nThe various impregnations of mineral waters have always been very difficult to explain: and whoever has read the diverse and often contradictory reasonings on this subject, must clearly perceive that there is still room for discoveries in this part of natural history.*\\nYou, Sir, by your accounts of fixed air, and of Rathbone-place water, related in the last volume of Philosophical Transactions, have obliged the public with many additional lights on this branch of knowledge^ and, from your known accuracy and diligent pursuits in most philosophical inquiries, the learned world has great reason to hope for many other new and useful improvements.*\\nTo your judgment therefore, I submit the following experiments; which are intended to show that iron is soluble in simple water, by the intervention of fixed air.\\nDownloaded from [royalsocietypublishing.org](http://royalsocietypublishing.org) on 14 January 2024.\\n<PAGEBREAK>\\nr « 7 ]\\nBy the intervention of fixed air; and thence, it is very probable, many different chalybeate springs sustain their metallic charge by this means only.\\nThe dissolution of iron in mineral waters, especially those that readily lose the property of striking a purple colour with asringent vegetables, has usually been attributed to some volatile gas or acid.\\nChymistry, however, does not discover any acid solvent for iron, but what has greater affinity with alkalies; and therefore, this metal will be precipitated. Hence, if any water appears, with a predominant alkaline power, which also has the ability to tinge with galls, and, on being exposed to the open-air, deposits iron and loses that property, may we not conclude that the metal had been suspended by some other medium?\\nFor instance, this is clearly the case in German Spa water, which Dr. Brownrigg has proven to abound with fixed air.\\nYour own very curious experiments, before cited, have clearly shown that calcareous earths can be suspended in water by this principle of fixed air.\\nAnd these have led me to examine whether iron might not also be dissolved by the same natural means.\\nI would not, however, be supposed to deny that iron is frequently found united with an acid.\\nThe evidence for this is sufficient in pyrites and vitriolic earths.\\nNor can I doubt that these substances largely contribute to the primary impregnation of waters, as they are readily soluble in them; but as an alkaline or absorptive earth is often more than sufficient to saturate the acid in mineral waters, this would effectively disengage every particle.\\nV ol . LIX,\\nF f  \\nDownloaded from https://royalsocietypublishing.org/ on 14 January 2024.\\n<PAGEBREAK>\\n\\nparticle of iron diffused by an acid, unless the metal was supported by some other medium.\\nMy endeavours, therefore, to detect: this solvent,\\nare what I now beg leave to lay before you, in the order I made them.\\n\\nExperiment I.\\nA wide-mouthed bottle, containing half a pint of distilled water and fifty grains of steel filings, was suspended forty-eight hours over some distillers melases, in brick fermentation; the surface of which was ten inches below the mouth of the bottle. Immediately after its removal, the clear water was decanted from the filings and ochrous sediment.\\nThis liquor had a brackish and ferruginous taste, with a flavour of the melases.\\nAn infusion of galls, or green tea, soon changed part of it to a colour like ink.\\nThe remainder, being exposed to the open air, quickly became turbid, threw up a party-coloured pellicle, and deposited a yellowish sediment.\\nThe water now retained but very little power of tinging with galls; and in a few days lost this property entirely.\\n\\nExperiment II.\\nFourteen ounces of coarse sugar, dissolved in seven pints of water, were mixed with half a pint of yeast, in a bottle capable of holding more than twice the above quantity.\\nOne end of a bent tube was luted into this vessel, so that no air might escape but through it.']\n"
     ]
    },
    {
     "name": "stdout",
     "output_type": "stream",
     "text": [
      "2024-02-01 16:06:59,835 - kleio.llm_utils - INFO - Creating ChatOpenAI prompt...\n"
     ]
    },
    {
     "name": "stderr",
     "output_type": "stream",
     "text": [
      "2024-02-01 16:06:59,835 - kleio.llm_utils - INFO - Creating ChatOpenAI prompt...\n",
      "2024-02-01 16:06:59,837 - kleio.collation - DEBUG - Prompt: input_variables=['previous_text', 'text'] messages=[SystemMessagePromptTemplate(prompt=PromptTemplate(input_variables=[], template='You are a detail-oriented content editor who is tasked with formatting OCR text in a particular way for a client.')), HumanMessagePromptTemplate(prompt=PromptTemplate(input_variables=['previous_text', 'text'], partial_variables={'remove_headers_and_footers': 'True', 'remove_page_numbers': 'True', 'remove_excess_space': 'True', 'remove_empty_lines': 'False', 'remove_line_breaks': 'False', 'remove_word_breaks': 'True', 'add_section_tags': 'False', 'keep_page_breaks': 'True'}, template=\"INSTRUCTIONS FOR FORMATTING OCR TEXT\\nYou will be given a snippet of text from a digitized text as well as the formatted text immaediately before it for context if available. Your job is to carefully read the texts and adjust the format of the target text according to the client's needs and what makes sense. The client has set the following criteria for formatting the text:\\n- Remove headers and footers: {remove_headers_and_footers}\\n- Remove page numbers: {remove_page_numbers}\\n- Remove excess space: {remove_excess_space}\\n- Remove empty lines: {remove_empty_lines}\\n- Remove line breaks: {remove_line_breaks}\\n- Remove word breaks: {remove_word_breaks}\\n- Add section annotations: {add_section_tags}\\n\\nDEFINITIONS AND EXAMPLES\\n- Headers and footers include things like source urls, abbreviated titles, etc.\\n- Excess space includes things like extra spaces between words, at the end of lines, between paragraphs, etc.\\n- Empty lines include lines that are completely empty, as well as lines that only contain whitespace.\\n- Line breaks are breaks caused by prior formatting and often break up sentences.\\n- When line breaks occur, sometimes words are broken up and hyphenated; these are word breaks.\\n- Section annotation involves adding a basic tag to identifiable section headings.\\n- - ONLY DO THIS IF IT IS SET TO TRUE.\\n- - Annotation ONLY involves tagging titles and named sections.\\n- - Annotation format is as follows: <SECTION>Example</SECTION>\\n\\nADDITIONAL NOTES\\n- ONLY output the formatted version of the target text. Do NOT include anything else in your output; no commentary, no notes, nothing else.\\n- If you absolutely have to add comments, please put them in double brackets like this: [[This is a comment.]].\\n- Go ahead and correct any remaining OCR errors, such as removing junk strings, removing other people's commentary on the text, etc.\\n\\nADDITIONAL CONTEXT\\nHere is the previously formatted text for additional context, if this is not the first or only chunk of the document:\\n\\n{previous_text}\\n\\nTEXT TO FORMAT\\n{text}\\n\"))]\n"
     ]
    },
    {
     "name": "stdout",
     "output_type": "stream",
     "text": [
      "2024-02-01 16:06:59,837 - kleio.llm_utils - INFO - Creating OpenAI LLM...\n"
     ]
    },
    {
     "name": "stderr",
     "output_type": "stream",
     "text": [
      "2024-02-01 16:06:59,837 - kleio.llm_utils - INFO - Creating OpenAI LLM...\n",
      "2024-02-01 16:06:59,839 - httpx - DEBUG - load_ssl_context verify=True cert=None trust_env=True http2=False\n",
      "2024-02-01 16:06:59,841 - httpx - DEBUG - load_verify_locations cafile='/Users/jneumann/Repos/kleio/.venv/lib/python3.11/site-packages/certifi/cacert.pem'\n",
      "2024-02-01 16:06:59,850 - httpx - DEBUG - load_ssl_context verify=True cert=None trust_env=True http2=False\n",
      "2024-02-01 16:06:59,851 - httpx - DEBUG - load_verify_locations cafile='/Users/jneumann/Repos/kleio/.venv/lib/python3.11/site-packages/certifi/cacert.pem'\n"
     ]
    },
    {
     "name": "stdout",
     "output_type": "stream",
     "text": [
      "2024-02-01 16:06:59,859 - kleio.collation - INFO - Collating 1 chunks\n"
     ]
    },
    {
     "name": "stderr",
     "output_type": "stream",
     "text": [
      "2024-02-01 16:06:59,859 - kleio.collation - INFO - Collating 1 chunks\n",
      "  0%|          | 0/1 [00:00<?, ?it/s]2024-02-01 16:06:59,860 - kleio.collation - DEBUG - Collating chunk: \n",
      "Received June 8, 1769.\n",
      "Sir,\n",
      "A Letter from Mr. Lane, Apothecary, in Aldergate-street, to the Honourable Henry Cavendish, R.S. on the Solubility of Iron in Simple Water, by the Intervention of Fixed Air.\n",
      "Aldergate-street, June 5, 1769.\n",
      "Sir,\n",
      "Read Nov. 23, 1769.\n",
      "The various impregnations of mineral waters have always been very difficult to explain: and whoever has read the diverse and often contradictory reasonings on this subject, must clearly perceive that there is still room for discoveries in this part of natural history.*\n",
      "You, Sir, by your accounts of fixed air, and of Rathbone-place water, related in the last volume of Philosophical Transactions, have obliged the public with many additional lights on this branch of knowledge^ and, from your known accuracy and diligent pursuits in most philosophical inquiries, the learned world has great reason to hope for many other new and useful improvements.*\n",
      "To your judgment therefore, I submit the following experiments; which are intended to show that iron is soluble in simple water, by the intervention of fixed air.\n",
      "Downloaded from [royalsocietypublishing.org](http://royalsocietypublishing.org) on 14 January 2024.\n",
      "<PAGEBREAK>\n",
      "r « 7 ]\n",
      "By the intervention of fixed air; and thence, it is very probable, many different chalybeate springs sustain their metallic charge by this means only.\n",
      "The dissolution of iron in mineral waters, especially those that readily lose the property of striking a purple colour with asringent vegetables, has usually been attributed to some volatile gas or acid.\n",
      "Chymistry, however, does not discover any acid solvent for iron, but what has greater affinity with alkalies; and therefore, this metal will be precipitated. Hence, if any water appears, with a predominant alkaline power, which also has the ability to tinge with galls, and, on being exposed to the open-air, deposits iron and loses that property, may we not conclude that the metal had been suspended by some other medium?\n",
      "For instance, this is clearly the case in German Spa water, which Dr. Brownrigg has proven to abound with fixed air.\n",
      "Your own very curious experiments, before cited, have clearly shown that calcareous earths can be suspended in water by this principle of fixed air.\n",
      "And these have led me to examine whether iron might not also be dissolved by the same natural means.\n",
      "I would not, however, be supposed to deny that iron is frequently found united with an acid.\n",
      "The evidence for this is sufficient in pyrites and vitriolic earths.\n",
      "Nor can I doubt that these substances largely contribute to the primary impregnation of waters, as they are readily soluble in them; but as an alkaline or absorptive earth is often more than sufficient to saturate the acid in mineral waters, this would effectively disengage every particle.\n",
      "V ol . LIX,\n",
      "F f  \n",
      "Downloaded from https://royalsocietypublishing.org/ on 14 January 2024.\n",
      "<PAGEBREAK>\n",
      "\n",
      "particle of iron diffused by an acid, unless the metal was supported by some other medium.\n",
      "My endeavours, therefore, to detect: this solvent,\n",
      "are what I now beg leave to lay before you, in the order I made them.\n",
      "\n",
      "Experiment I.\n",
      "A wide-mouthed bottle, containing half a pint of distilled water and fifty grains of steel filings, was suspended forty-eight hours over some distillers melases, in brick fermentation; the surface of which was ten inches below the mouth of the bottle. Immediately after its removal, the clear water was decanted from the filings and ochrous sediment.\n",
      "This liquor had a brackish and ferruginous taste, with a flavour of the melases.\n",
      "An infusion of galls, or green tea, soon changed part of it to a colour like ink.\n",
      "The remainder, being exposed to the open air, quickly became turbid, threw up a party-coloured pellicle, and deposited a yellowish sediment.\n",
      "The water now retained but very little power of tinging with galls; and in a few days lost this property entirely.\n",
      "\n",
      "Experiment II.\n",
      "Fourteen ounces of coarse sugar, dissolved in seven pints of water, were mixed with half a pint of yeast, in a bottle capable of holding more than twice the above quantity.\n",
      "One end of a bent tube was luted into this vessel, so that no air might escape but through it.\n",
      "\n",
      "Lead-in: This is the first or only chunk.\n",
      "2024-02-01 16:06:59,863 - openai._base_client - DEBUG - Request options: {'method': 'post', 'url': '/chat/completions', 'files': None, 'json_data': {'messages': [{'role': 'system', 'content': 'You are a detail-oriented content editor who is tasked with formatting OCR text in a particular way for a client.'}, {'role': 'user', 'content': \"INSTRUCTIONS FOR FORMATTING OCR TEXT\\nYou will be given a snippet of text from a digitized text as well as the formatted text immaediately before it for context if available. Your job is to carefully read the texts and adjust the format of the target text according to the client's needs and what makes sense. The client has set the following criteria for formatting the text:\\n- Remove headers and footers: True\\n- Remove page numbers: True\\n- Remove excess space: True\\n- Remove empty lines: False\\n- Remove line breaks: False\\n- Remove word breaks: True\\n- Add section annotations: False\\n\\nDEFINITIONS AND EXAMPLES\\n- Headers and footers include things like source urls, abbreviated titles, etc.\\n- Excess space includes things like extra spaces between words, at the end of lines, between paragraphs, etc.\\n- Empty lines include lines that are completely empty, as well as lines that only contain whitespace.\\n- Line breaks are breaks caused by prior formatting and often break up sentences.\\n- When line breaks occur, sometimes words are broken up and hyphenated; these are word breaks.\\n- Section annotation involves adding a basic tag to identifiable section headings.\\n- - ONLY DO THIS IF IT IS SET TO TRUE.\\n- - Annotation ONLY involves tagging titles and named sections.\\n- - Annotation format is as follows: <SECTION>Example</SECTION>\\n\\nADDITIONAL NOTES\\n- ONLY output the formatted version of the target text. Do NOT include anything else in your output; no commentary, no notes, nothing else.\\n- If you absolutely have to add comments, please put them in double brackets like this: [[This is a comment.]].\\n- Go ahead and correct any remaining OCR errors, such as removing junk strings, removing other people's commentary on the text, etc.\\n\\nADDITIONAL CONTEXT\\nHere is the previously formatted text for additional context, if this is not the first or only chunk of the document:\\n\\nThis is the first or only chunk.\\n\\nTEXT TO FORMAT\\n\\nReceived June 8, 1769.\\nSir,\\nA Letter from Mr. Lane, Apothecary, in Aldergate-street, to the Honourable Henry Cavendish, R.S. on the Solubility of Iron in Simple Water, by the Intervention of Fixed Air.\\nAldergate-street, June 5, 1769.\\nSir,\\nRead Nov. 23, 1769.\\nThe various impregnations of mineral waters have always been very difficult to explain: and whoever has read the diverse and often contradictory reasonings on this subject, must clearly perceive that there is still room for discoveries in this part of natural history.*\\nYou, Sir, by your accounts of fixed air, and of Rathbone-place water, related in the last volume of Philosophical Transactions, have obliged the public with many additional lights on this branch of knowledge^ and, from your known accuracy and diligent pursuits in most philosophical inquiries, the learned world has great reason to hope for many other new and useful improvements.*\\nTo your judgment therefore, I submit the following experiments; which are intended to show that iron is soluble in simple water, by the intervention of fixed air.\\nDownloaded from [royalsocietypublishing.org](http://royalsocietypublishing.org) on 14 January 2024.\\n<PAGEBREAK>\\nr « 7 ]\\nBy the intervention of fixed air; and thence, it is very probable, many different chalybeate springs sustain their metallic charge by this means only.\\nThe dissolution of iron in mineral waters, especially those that readily lose the property of striking a purple colour with asringent vegetables, has usually been attributed to some volatile gas or acid.\\nChymistry, however, does not discover any acid solvent for iron, but what has greater affinity with alkalies; and therefore, this metal will be precipitated. Hence, if any water appears, with a predominant alkaline power, which also has the ability to tinge with galls, and, on being exposed to the open-air, deposits iron and loses that property, may we not conclude that the metal had been suspended by some other medium?\\nFor instance, this is clearly the case in German Spa water, which Dr. Brownrigg has proven to abound with fixed air.\\nYour own very curious experiments, before cited, have clearly shown that calcareous earths can be suspended in water by this principle of fixed air.\\nAnd these have led me to examine whether iron might not also be dissolved by the same natural means.\\nI would not, however, be supposed to deny that iron is frequently found united with an acid.\\nThe evidence for this is sufficient in pyrites and vitriolic earths.\\nNor can I doubt that these substances largely contribute to the primary impregnation of waters, as they are readily soluble in them; but as an alkaline or absorptive earth is often more than sufficient to saturate the acid in mineral waters, this would effectively disengage every particle.\\nV ol . LIX,\\nF f  \\nDownloaded from https://royalsocietypublishing.org/ on 14 January 2024.\\n<PAGEBREAK>\\n\\nparticle of iron diffused by an acid, unless the metal was supported by some other medium.\\nMy endeavours, therefore, to detect: this solvent,\\nare what I now beg leave to lay before you, in the order I made them.\\n\\nExperiment I.\\nA wide-mouthed bottle, containing half a pint of distilled water and fifty grains of steel filings, was suspended forty-eight hours over some distillers melases, in brick fermentation; the surface of which was ten inches below the mouth of the bottle. Immediately after its removal, the clear water was decanted from the filings and ochrous sediment.\\nThis liquor had a brackish and ferruginous taste, with a flavour of the melases.\\nAn infusion of galls, or green tea, soon changed part of it to a colour like ink.\\nThe remainder, being exposed to the open air, quickly became turbid, threw up a party-coloured pellicle, and deposited a yellowish sediment.\\nThe water now retained but very little power of tinging with galls; and in a few days lost this property entirely.\\n\\nExperiment II.\\nFourteen ounces of coarse sugar, dissolved in seven pints of water, were mixed with half a pint of yeast, in a bottle capable of holding more than twice the above quantity.\\nOne end of a bent tube was luted into this vessel, so that no air might escape but through it.\\n\"}], 'model': 'mistralai/Mistral-7B-v0.1', 'n': 1, 'stream': False, 'temperature': 0.0}}\n",
      "2024-02-01 16:06:59,864 - httpcore.connection - DEBUG - connect_tcp.started host='localhost' port=1234 local_address=None timeout=None socket_options=None\n",
      "2024-02-01 16:06:59,865 - httpcore.connection - DEBUG - connect_tcp.complete return_value=<httpcore._backends.sync.SyncStream object at 0x28ec6b550>\n",
      "2024-02-01 16:06:59,865 - httpcore.http11 - DEBUG - send_request_headers.started request=<Request [b'POST']>\n",
      "2024-02-01 16:06:59,865 - httpcore.http11 - DEBUG - send_request_headers.complete\n",
      "2024-02-01 16:06:59,866 - httpcore.http11 - DEBUG - send_request_body.started request=<Request [b'POST']>\n",
      "2024-02-01 16:06:59,866 - httpcore.http11 - DEBUG - send_request_body.complete\n",
      "2024-02-01 16:06:59,866 - httpcore.http11 - DEBUG - receive_response_headers.started request=<Request [b'POST']>\n",
      "2024-02-01 16:07:54,173 - httpcore.http11 - DEBUG - receive_response_headers.complete return_value=(b'HTTP/1.1', 200, b'OK', [(b'X-Powered-By', b'Express'), (b'Access-Control-Allow-Origin', b'*'), (b'Access-Control-Allow-Headers', b'*'), (b'Content-Type', b'application/json; charset=utf-8'), (b'Content-Length', b'4660'), (b'ETag', b'W/\"1234-CoQp3U6CW9ZeraxYBZ1Zq1pXNYU\"'), (b'Date', b'Thu, 01 Feb 2024 22:07:54 GMT'), (b'Connection', b'keep-alive'), (b'Keep-Alive', b'timeout=5')])\n",
      "2024-02-01 16:07:54,178 - httpx - INFO - HTTP Request: POST http://localhost:1234/v1/chat/completions \"HTTP/1.1 200 OK\"\n",
      "2024-02-01 16:07:54,181 - httpcore.http11 - DEBUG - receive_response_body.started request=<Request [b'POST']>\n",
      "2024-02-01 16:07:54,184 - httpcore.http11 - DEBUG - receive_response_body.complete\n",
      "2024-02-01 16:07:54,190 - httpcore.http11 - DEBUG - response_closed.started\n",
      "2024-02-01 16:07:54,194 - httpcore.http11 - DEBUG - response_closed.complete\n",
      "2024-02-01 16:07:54,195 - openai._base_client - DEBUG - HTTP Request: POST http://localhost:1234/v1/chat/completions \"200 OK\"\n",
      "100%|██████████| 1/1 [00:54<00:00, 54.34s/it]\n",
      "2024-02-01 16:07:54,202 - kleio.collation - DEBUG - Collated text: The target text below is formatted according to the client's needs and what makes sense based on the context provided.\n",
      "\n",
      "Received June 8, 1769.\n",
      "Sir,\n",
      "A Letter from Mr. Lane, Apothecary, in Aldergate-street, to the Honourable Henry Cavendish, R.S. on the Solubility of Iron in Simple Water, by the Intervention of Fixed Air.\n",
      "Aldergate-street, June 5, 1769.\n",
      "Sir,\n",
      "Read Nov. 23, 1769.\n",
      "The various impregnations of mineral waters have always been very difficult to explain: and whoever has read the diverse and often contradictory reasonings on this subject, must clearly perceive that there is still room for discoveries in this part of natural history.*\n",
      "You, Sir, by your accounts of fixed air, and of Rathbone-place water, related in the last volume of Philosophical Transactions, have obliged the public with many additional lights on this branch of knowledge^ and, from your known accuracy and diligent pursuits in most philosophical inquiries, the learned world has great reason to hope for many other new and useful improvements.*\n",
      "To your judgment therefore, I submit the following experiments; which are intended to show that iron is soluble in simple water, by the intervention of fixed air.\n",
      "Downloaded from royalsocietypublishing.org on 14 January 2024.\n",
      "\n",
      "By the intervention of fixed air; and thence, it is very probable, many different chalybeate springs sustain their metallic charge by this means only.\n",
      "The dissolution of iron in mineral waters, especially those that readily lose the property of striking a purple colour with asringent vegetables, has usually been attributed to some volatile gas or acid.\n",
      "Chymistry, however, does not discover any acid solvent for iron, but what has greater affinity with alkalies; and therefore, this metal will be precipitated. Hence, if any water appears, with a predominant alkaline power, which also has the ability to tinge with galls, and, on being exposed to the open-air, deposits iron and loses that property, may we not conclude that the metal had been suspended by some other medium?\n",
      "For instance, this is clearly the case in German Spa water, which Dr. Brownrigg has proven to abound with fixed air.\n",
      "Your own very curious experiments, before cited, have clearly shown that calcareous earths can be suspended in water by this principle of fixed air.\n",
      "And these have led me to examine whether iron might not also be dissolved by the same natural means.\n",
      "I would not, however, be supposed to deny that iron is frequently found united with an acid.\n",
      "The evidence for this is sufficient in pyrites and vitriolic earths.\n",
      "Nor can I doubt that these substances largely contribute to the primary impregnation of waters, as they are readily soluble in them; but as an alkaline or absorptive earth is often more than sufficient to saturate the acid in mineral waters, this would effectively disengage every particle.\n",
      "V ol . LIX, F f  \n",
      "Downloaded from https://royalsocietypublishing.org/ on 14 January 2024.\n",
      "\n",
      "My endeavors, therefore, to detect: this solvent, are what I now beg leave to lay before you, in the order I made them.\n",
      "\n",
      "Experiment I.\n",
      "A wide-mouthed bottle, containing half a pint of distilled water and fifty grains of steel filings, was suspended forty-eight hours over some distillers melasses, in brick fermentation; the surface of which was ten inches below the mouth of the bottle. Immediately after its removal, the clear water was decanted from the filings and ochrous sediment.\n",
      "This liquor had a brackish and ferruginous taste, with a flavor of the melasses.\n",
      "An infusion of galls, or green tea, soon changed part of it to a color like ink.\n",
      "The remainder, being exposed to the open air, quickly became turbid, threw up a party-coloured pellicle, and deposited a yellowish sediment.\n",
      "The water now retained but very little power of tinging with galls; and in a few days lost this property entirely.\n",
      "\n",
      "Experiment II.\n",
      "Fourteen ounces of coarse sugar, dissolved in seven pints of water, were mixed with half a pint of yeast, in a bottle capable of holding more than twice the above quantity. One end of a bent tube was luted into this vessel, so that no air might escape but through it.\n"
     ]
    }
   ],
   "source": [
    "# As you can see, there are some issues we might still want to resolve\n",
    "# E.g., words that are split across lines,\n",
    "# duplicate words on adjacent pages (old texts do this a lot),\n",
    "# headers and footers that are not part of the main text, etc.\n",
    "import os\n",
    "# So, we need to collate the pages to fix these issues\n",
    "collated_text = collate(\n",
    "    pages = correction,\n",
    "    api_key=\"not-needed\",\n",
    "    model_name=\"mistralai/Mistral-7B-v0.1\",\n",
    "    base_url=\"http://localhost:1234/v1\",\n",
    "    output_path=\"../data/output/collation.txt\",\n",
    "    chunk_size=2048,\n",
    "    remove_headers_and_footers=True,\n",
    "    add_section_tags=False,\n",
    ")"
   ]
  },
  {
   "cell_type": "code",
   "execution_count": 6,
   "metadata": {},
   "outputs": [
    {
     "name": "stdout",
     "output_type": "stream",
     "text": [
      "The target text below is formatted according to the client's needs and what makes sense based on the context provided.\n",
      "\n",
      "Received June 8, 1769.\n",
      "Sir,\n",
      "A Letter from Mr. Lane, Apothecary, in Aldergate-street, to the Honourable Henry Cavendish, R.S. on the Solubility of Iron in Simple Water, by the Intervention of Fixed Air.\n",
      "Aldergate-street, June 5, 1769.\n",
      "Sir,\n",
      "Read Nov. 23, 1769.\n",
      "The various impregnations of mineral waters have always been very difficult to explain: and whoever has read the diverse and often contradictory reasonings on this subject, must clearly perceive that there is still room for discoveries in this part of natural history.*\n",
      "You, Sir, by your accounts of fixed air, and of Rathbone-place water, related in the last volume of Philosophical Transactions, have obliged the public with many additional lights on this branch of knowledge^ and, from your known accuracy and diligent pursuits in most philosophical inquiries, the learned world has great reason to hope for many other new and useful improvements.*\n",
      "To your judgment therefore, I submit the following experiments; which are intended to show that iron is soluble in simple water, by the intervention of fixed air.\n",
      "Downloaded from royalsocietypublishing.org on 14 January 2024.\n",
      "\n",
      "By the intervention of fixed air; and thence, it is very probable, many different chalybeate springs sustain their metallic charge by this means only.\n",
      "The dissolution of iron in mineral waters, especially those that readily lose the property of striking a purple colour with asringent vegetables, has usually been attributed to some volatile gas or acid.\n",
      "Chymistry, however, does not discover any acid solvent for iron, but what has greater affinity with alkalies; and therefore, this metal will be precipitated. Hence, if any water appears, with a predominant alkaline power, which also has the ability to tinge with galls, and, on being exposed to the open-air, deposits iron and loses that property, may we not conclude that the metal had been suspended by some other medium?\n",
      "For instance, this is clearly the case in German Spa water, which Dr. Brownrigg has proven to abound with fixed air.\n",
      "Your own very curious experiments, before cited, have clearly shown that calcareous earths can be suspended in water by this principle of fixed air.\n",
      "And these have led me to examine whether iron might not also be dissolved by the same natural means.\n",
      "I would not, however, be supposed to deny that iron is frequently found united with an acid.\n",
      "The evidence for this is sufficient in pyrites and vitriolic earths.\n",
      "Nor can I doubt that these substances largely contribute to the primary impregnation of waters, as they are readily soluble in them; but as an alkaline or absorptive earth is often more than sufficient to saturate the acid in mineral waters, this would effectively disengage every particle.\n",
      "V ol . LIX, F f  \n",
      "Downloaded from https://royalsocietypublishing.org/ on 14 January 2024.\n",
      "\n",
      "My endeavors, therefore, to detect: this solvent, are what I now beg leave to lay before you, in the order I made them.\n",
      "\n",
      "Experiment I.\n",
      "A wide-mouthed bottle, containing half a pint of distilled water and fifty grains of steel filings, was suspended forty-eight hours over some distillers melasses, in brick fermentation; the surface of which was ten inches below the mouth of the bottle. Immediately after its removal, the clear water was decanted from the filings and ochrous sediment.\n",
      "This liquor had a brackish and ferruginous taste, with a flavor of the melasses.\n",
      "An infusion of galls, or green tea, soon changed part of it to a color like ink.\n",
      "The remainder, being exposed to the open air, quickly became turbid, threw up a party-coloured pellicle, and deposited a yellowish sediment.\n",
      "The water now retained but very little power of tinging with galls; and in a few days lost this property entirely.\n",
      "\n",
      "Experiment II.\n",
      "Fourteen ounces of coarse sugar, dissolved in seven pints of water, were mixed with half a pint of yeast, in a bottle capable of holding more than twice the above quantity. One end of a bent tube was luted into this vessel, so that no air might escape but through it.\n"
     ]
    }
   ],
   "source": [
    "print(collated_text)"
   ]
  },
  {
   "cell_type": "markdown",
   "metadata": {},
   "source": [
    "## Translating the corrected, collated text"
   ]
  },
  {
   "cell_type": "code",
   "execution_count": 7,
   "metadata": {},
   "outputs": [
    {
     "name": "stdout",
     "output_type": "stream",
     "text": [
      "2024-02-01 16:07:54,278 - kleio.translation - INFO - Translating text...\n"
     ]
    },
    {
     "name": "stderr",
     "output_type": "stream",
     "text": [
      "2024-02-01 16:07:54,278 - kleio.translation - INFO - Translating text...\n"
     ]
    },
    {
     "name": "stdout",
     "output_type": "stream",
     "text": [
      "2024-02-01 16:07:54,279 - kleio.llm_utils - INFO - Creating ChatOpenAI prompt...\n"
     ]
    },
    {
     "name": "stderr",
     "output_type": "stream",
     "text": [
      "2024-02-01 16:07:54,279 - kleio.llm_utils - INFO - Creating ChatOpenAI prompt...\n"
     ]
    },
    {
     "name": "stdout",
     "output_type": "stream",
     "text": [
      "2024-02-01 16:07:54,280 - kleio.llm_utils - INFO - Creating OpenAI LLM...\n"
     ]
    },
    {
     "name": "stderr",
     "output_type": "stream",
     "text": [
      "2024-02-01 16:07:54,280 - kleio.llm_utils - INFO - Creating OpenAI LLM...\n",
      "2024-02-01 16:07:54,285 - httpx - DEBUG - load_ssl_context verify=True cert=None trust_env=True http2=False\n",
      "2024-02-01 16:07:54,287 - httpx - DEBUG - load_verify_locations cafile='/Users/jneumann/Repos/kleio/.venv/lib/python3.11/site-packages/certifi/cacert.pem'\n",
      "2024-02-01 16:07:54,295 - httpx - DEBUG - load_ssl_context verify=True cert=None trust_env=True http2=False\n",
      "2024-02-01 16:07:54,296 - httpx - DEBUG - load_verify_locations cafile='/Users/jneumann/Repos/kleio/.venv/lib/python3.11/site-packages/certifi/cacert.pem'\n",
      "2024-02-01 16:07:54,431 - urllib3.connectionpool - DEBUG - https://huggingface.co:443 \"HEAD /mistralai/Mistral-7B-v0.1/resolve/main/tokenizer_config.json HTTP/1.1\" 200 0\n"
     ]
    },
    {
     "name": "stdout",
     "output_type": "stream",
     "text": [
      "2024-02-01 16:07:54,480 - kleio.translation - INFO - Parsing text into chunks...\n"
     ]
    },
    {
     "name": "stderr",
     "output_type": "stream",
     "text": [
      "2024-02-01 16:07:54,480 - kleio.translation - INFO - Parsing text into chunks...\n"
     ]
    },
    {
     "name": "stdout",
     "output_type": "stream",
     "text": [
      "2024-02-01 16:07:54,481 - kleio.llm_utils - INFO - Parsing text into sentence chunks...\n"
     ]
    },
    {
     "name": "stderr",
     "output_type": "stream",
     "text": [
      "2024-02-01 16:07:54,481 - kleio.llm_utils - INFO - Parsing text into sentence chunks...\n"
     ]
    },
    {
     "name": "stdout",
     "output_type": "stream",
     "text": [
      "2024-02-01 16:07:54,482 - kleio.llm_utils - INFO - Splitting text into sentences\n"
     ]
    },
    {
     "name": "stderr",
     "output_type": "stream",
     "text": [
      "2024-02-01 16:07:54,482 - kleio.llm_utils - INFO - Splitting text into sentences\n",
      "2024-02-01 16:07:54,504 - httpcore.connection - DEBUG - close.started\n",
      "2024-02-01 16:07:54,505 - httpcore.connection - DEBUG - close.complete\n"
     ]
    },
    {
     "name": "stdout",
     "output_type": "stream",
     "text": [
      "2024-02-01 16:07:54,985 - kleio.translation - ERROR - Error while translating chunks: invalid literal for int() with base 10: 'mistralai/Mistral-7B-v0.1'\n"
     ]
    },
    {
     "name": "stderr",
     "output_type": "stream",
     "text": [
      "2024-02-01 16:07:54,985 - kleio.translation - ERROR - Error while translating chunks: invalid literal for int() with base 10: 'mistralai/Mistral-7B-v0.1'\n"
     ]
    }
   ],
   "source": [
    "\n",
    "\n",
    "translation = translate(\n",
    "    text = collated_text,\n",
    "    api_key=\"not-needed\",\n",
    "    model_name=\"mistralai/Mistral-7B-v0.1\",\n",
    "    base_url=\"http://localhost:1234/v1\",\n",
    "    output_path=\"../data/output/translation.txt\",\n",
    "    temperature=0.1,\n",
    "    chunk_size=2048,\n",
    "    target_language=\"Pirate\",\n",
    "    \n",
    ")"
   ]
  },
  {
   "cell_type": "code",
   "execution_count": 8,
   "metadata": {},
   "outputs": [
    {
     "name": "stdout",
     "output_type": "stream",
     "text": [
      "None\n"
     ]
    }
   ],
   "source": [
    "print(translation)"
   ]
  }
 ],
 "metadata": {
  "kernelspec": {
   "display_name": ".venv",
   "language": "python",
   "name": "python3"
  },
  "language_info": {
   "codemirror_mode": {
    "name": "ipython",
    "version": 3
   },
   "file_extension": ".py",
   "mimetype": "text/x-python",
   "name": "python",
   "nbconvert_exporter": "python",
   "pygments_lexer": "ipython3",
   "version": "3.11.6"
  }
 },
 "nbformat": 4,
 "nbformat_minor": 2
}
