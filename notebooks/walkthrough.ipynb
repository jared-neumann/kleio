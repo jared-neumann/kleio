{
 "cells": [
  {
   "cell_type": "markdown",
   "metadata": {},
   "source": [
    "# Kleio Walkthrough"
   ]
  },
  {
   "cell_type": "markdown",
   "metadata": {},
   "source": [
    "## About"
   ]
  },
  {
   "cell_type": "markdown",
   "metadata": {},
   "source": [
    "Author: Jared Neumann\n",
    "\n",
    "This package is designed to take a PDF document with or without a text layer, or raw text, and return a complete, corrected version of that text. Text is extracted using common OCR tools, if necessary, and the text is then passed to an LLM. The LLM then makes corrections to each chunk. Additional functions can be called, such as:\n",
    "- Layout analysis and annotation\n",
    "- Revised collation (e.g., to eliminate headers and footers, etc.)\n",
    "- Translation"
   ]
  },
  {
   "cell_type": "markdown",
   "metadata": {},
   "source": [
    "## Import Statements"
   ]
  },
  {
   "cell_type": "code",
   "execution_count": 1,
   "metadata": {},
   "outputs": [
    {
     "name": "stderr",
     "output_type": "stream",
     "text": [
      "None of PyTorch, TensorFlow >= 2.0, or Flax have been found. Models won't be available and only tokenizers, configuration and file/data utilities can be used.\n",
      "2024-02-01 14:46:15,412 - matplotlib - DEBUG - matplotlib data path: /Users/jneumann/Repos/kleio/.venv/lib/python3.11/site-packages/matplotlib/mpl-data\n",
      "2024-02-01 14:46:15,415 - matplotlib - DEBUG - CONFIGDIR=/Users/jneumann/.matplotlib\n",
      "2024-02-01 14:46:15,416 - matplotlib - DEBUG - interactive is False\n",
      "2024-02-01 14:46:15,416 - matplotlib - DEBUG - platform is darwin\n",
      "2024-02-01 14:46:15,444 - matplotlib - DEBUG - CACHEDIR=/Users/jneumann/.matplotlib\n",
      "2024-02-01 14:46:15,446 - matplotlib.font_manager - DEBUG - Using fontManager instance from /Users/jneumann/.matplotlib/fontlist-v330.json\n"
     ]
    }
   ],
   "source": [
    "# we'll have to set up a duplicate logger in the notebook\n",
    "import logging\n",
    "\n",
    "# Get the root logger\n",
    "logger = logging.getLogger()\n",
    "logger.setLevel(logging.DEBUG)\n",
    "\n",
    "# Create a StreamHandler for the notebook\n",
    "stream_handler = logging.StreamHandler()\n",
    "stream_handler.setLevel(logging.DEBUG)\n",
    "formatter = logging.Formatter('%(asctime)s - %(name)s - %(levelname)s - %(message)s')\n",
    "stream_handler.setFormatter(formatter)\n",
    "\n",
    "# Add the handler to the logger\n",
    "logger.addHandler(stream_handler)\n",
    "\n",
    "# set propagation to false to prevent double logging\n",
    "logger.propagate = False\n",
    "\n",
    "from kleio.ocr import *\n",
    "from kleio.image_utils import *\n",
    "from kleio.correction import *\n",
    "from kleio.collation import *\n",
    "from kleio.translation import *\n",
    "\n",
    "import matplotlib.pyplot as plt"
   ]
  },
  {
   "cell_type": "markdown",
   "metadata": {},
   "source": [
    "## Getting Raw Text"
   ]
  },
  {
   "cell_type": "markdown",
   "metadata": {},
   "source": [
    "There are a few allowable file types: PDF with text, PDF without text, images, and plain text. The type is automatically inferred, and the extracted text is returned. A few options for OCR are available."
   ]
  },
  {
   "cell_type": "code",
   "execution_count": 2,
   "metadata": {},
   "outputs": [
    {
     "name": "stdout",
     "output_type": "stream",
     "text": [
      "2024-02-01 14:46:15,625 - kleio.ocr - INFO - Retrieving text from ../tests/test_input/test_0.pdf\n"
     ]
    },
    {
     "name": "stderr",
     "output_type": "stream",
     "text": [
      "2024-02-01 14:46:15,625 - kleio.ocr - INFO - Retrieving text from ../tests/test_input/test_0.pdf\n"
     ]
    },
    {
     "name": "stdout",
     "output_type": "stream",
     "text": [
      "2024-02-01 14:46:15,626 - kleio.ocr - INFO - File provided\n"
     ]
    },
    {
     "name": "stderr",
     "output_type": "stream",
     "text": [
      "2024-02-01 14:46:15,626 - kleio.ocr - INFO - File provided\n"
     ]
    },
    {
     "name": "stdout",
     "output_type": "stream",
     "text": [
      "2024-02-01 14:46:15,645 - kleio.ocr - INFO - Getting text from PDF file ../tests/test_input/test_0.pdf\n"
     ]
    },
    {
     "name": "stderr",
     "output_type": "stream",
     "text": [
      "2024-02-01 14:46:15,645 - kleio.ocr - INFO - Getting text from PDF file ../tests/test_input/test_0.pdf\n"
     ]
    }
   ],
   "source": [
    "example_filepath_0 = \"../tests/test_input/test_0.pdf\"\n",
    "example_filepath_1 = \"../tests/test_input/test_1.jpg\"\n",
    "example_filepath_2 = \"../tests/test_input/test_2.pdf\"\n",
    "phil_mag_s1_v1_filepath = \"../data/input/phil_mag_s1_v1.pdf\"\n",
    "output_dir = \"../data/output\"\n",
    "\n",
    "text = retrieve_text(example_filepath_0)\n",
    "#text_1 = retrieve_text(example_filepath_1)\n",
    "#text_2 = retrieve_text(example_filepath_2)\n",
    "#text_3 = retrieve_text(phil_mag_s1_v1_filepath)"
   ]
  },
  {
   "cell_type": "code",
   "execution_count": 3,
   "metadata": {},
   "outputs": [
    {
     "name": "stdout",
     "output_type": "stream",
     "text": [
      "{'filename': 'test_0.pdf', 'extension': 'PDF', 'pages': ['[ 2l6 ]\\nReceived June 8, 17 dp.\\nX X X . A  Letter from  Mr. Lane, Apothe\\xad\\ncary, \\nin Alderfgate-ftreet, to the H\\nnourable Henry Cavendifh, \\nR. S. on \\nthe Solubility o f Iron in fimple \\n, by \\nthe Intervention of fixed A ir.\\nAlderfgate-ftreet, June 5, 1769*\\nSi r ,\\nRead Nov. 23, F\\' g \" 1H  E various impregnations of mi- \\n7 9 \\nJL \\nneral waters have always been very \\ndifficult to explain : and whoever has read the divers, \\nand often contradi&ory reafonings upon the fubjedt, \\nmud clearly perceive, that there is ffill room for dif- \\ncoveries in this part of natural hiftory*\\nYou, Sir, by your accounts of fixed air, and of \\nRathbone-place water, related in the laft volume of \\nPhilofophical Tranfadtions, have obliged the public \\nwith many additional lights on this branch of know* \\nledge^ and, from your known accuracy, and diligent \\npurfuits in moft philofophical inquiries, the learned \\nWorld has great reafon to hope for many other new \\nand ufeful improvements* \\nTo your judgment there\\xad\\nfore, I fubmit the following experiments; which are \\nintended to fhew, that iron is foluble in fimple water,\\nby\\n Downloaded from https://royalsocietypublishing.org/ on 14 January 2024 \\n', 'r « 7 ]\\nby the intervention of fixed air; and thence, that it \\nis very probable, many different chalybeate fprings \\nfuftain their metallic charge by this means only.\\nThe folution of iron in mineral waters, efpecially \\nin fuch as, by expbfure, readily lofe the property of \\nftriking a purple colour with aftringent vegetables, \\nhas ufually been attributed to fome fubtile gas, or vo\\xad\\nlatile acid. \\nChymiftry, however, does not difcover \\nany acid folvent for iron, but what has greater affi\\xad\\nnity with alcalies; and by means of which, there\\xad\\nfore, this metal will be precipitated. Hence if any \\nwater appears, with a predominant alcali, which has \\nalfo the power of tinging with galls, and, on being \\nexpofed to the open-air, lets fall the iron, and lofes \\nthat property $ may we not conclude the metal to \\nhave been fufpended by fome other medium ?\\nThis, for example, is plainly the cafe in German \\nSpa water, which Dr. Brownrigg has proved to \\nabound with fixed air. \\nYour own very curious ex\\xad\\nperiments, before cited, have clearly fhewn, that \\ncalcarious earths maybe fufpended in water by this \\nprinciple of fixed air. \\nAnd thefe have led me to \\nexamine, whether iron might not be diffolved by the \\nfame natural means.\\nI would not, however, be fuppofed, to deny, that \\niron is frequently found united with an acid. \\nThe \\nfadfc is fufficiently evinced in the pyrites and vi\\xad\\ntriolic earths. \\nNor can I doubt, but that thefe fub- \\nfiances do largely contribute to the primary impreg\\xad\\nnation of waters, they being fo readily foluble in \\nthem, But as an alcali, or abforbent earth, is often \\nfound more than fufficient to faturate.the acid ill mi\\xad\\nneral waters 5 this would effe&ually difengage every \\nV o l . LIX, \\nF f  \\nparticle\\n Downloaded from https://royalsocietypublishing.org/ on 14 January 2024 \\n', '[ « » ]\\nparticle of iron diffolved by an acid, unlefs the metal \\nwas fupported by fome other menftruum.\\nMy endeavours, therefore, to detedt: this folvent, \\nby experiments, are what I now beg leave to lay be\\xad\\nfore you, in the order I made them.\\nE x p e r i m e n t  I.\\nA wide-mouthed bottle, containing half a pint of \\ndiftilled water and fixty grains of fteel-filings, was \\nfufpended forty-eight hours over fome diftillers me- \\nlaflfes, in brilk fermentation $ fo as to receive the fixed \\nair efcaping from the fermenting liquor; the furface \\nof which was ten inches below the mouth of the \\nbottle. Immediately after its removal, the clear water \\nwas decanted from the filings and ochrous fediment.\\nThis liquor had a brilk and ferruginous tafte, with \\na flavour of the melafles. \\nAn infufion of galls, or \\ngreen tea, foon changed part of it to a colour like \\nink. \\nThe remainder, being expofed to the open air, \\nprefently became turbid, threw up a party-coloured \\npellicle, and depofited a yellowilh fediment.\\nThe water now retained but very little power of \\ntinging with galls; and in a few days loft this pro\\xad\\nperty entirely.\\nE x p e r i m e n t  II.\\nFourteen ounces of coarfe fugar, diflolved in feven \\npints of water, were mixed with half a pint of yeaft, \\nin a bottle capable of holding more than twice the \\nabove quantity^ \\nOne end of a bent tube was luted \\ninto this veffel, fo that no air mightefcape but through\\nthe\\n Downloaded from https://royalsocietypublishing.org/ on 14 January 2024 \\n']}\n",
      "3\n",
      "[ 2l6 ]\n",
      "Received June 8, 17 dp.\n",
      "X X X . A  Letter from  Mr. Lane, Apothe­\n",
      "cary, \n",
      "in Alderfgate-ftreet, to the H\n",
      "nourable Henry Cavendifh, \n",
      "R. S. on \n",
      "the Solubility o f Iron in fimple \n",
      ", by \n",
      "the Intervention of fixed A ir.\n",
      "Alderfgate-ftreet, June 5, 1769*\n",
      "Si r ,\n",
      "Read Nov. 23, F' g \" 1H  E various impregnations of mi- \n",
      "7 9 \n",
      "JL \n",
      "neral waters have always been very \n",
      "difficult to explain : and whoever has read the divers, \n",
      "and often contradi&ory reafonings upon the fubjedt, \n",
      "mud clearly perceive, that there is ffill room for dif- \n",
      "coveries in this part of natural hiftory*\n",
      "You, Sir, by your accounts of fixed air, and of \n",
      "Rathbone-place water, related in the laft volume of \n",
      "Philofophical Tranfadtions, have obliged the public \n",
      "with many additional lights on this branch of know* \n",
      "ledge^ and, from your known accuracy, and diligent \n",
      "purfuits in moft philofophical inquiries, the learned \n",
      "World has great reafon to hope for many other new \n",
      "and ufeful improvements* \n",
      "To your judgment there­\n",
      "fore, I fubmit the following experiments; which are \n",
      "intended to fhew, that iron is foluble in fimple water,\n",
      "by\n",
      " Downloaded from https://royalsocietypublishing.org/ on 14 January 2024 \n",
      "\n",
      "r « 7 ]\n",
      "by the intervention of fixed air; and thence, that it \n",
      "is very probable, many different chalybeate fprings \n",
      "fuftain their metallic charge by this means only.\n",
      "The folution of iron in mineral waters, efpecially \n",
      "in fuch as, by expbfure, readily lofe the property of \n",
      "ftriking a purple colour with aftringent vegetables, \n",
      "has ufually been attributed to fome fubtile gas, or vo­\n",
      "latile acid. \n",
      "Chymiftry, however, does not difcover \n",
      "any acid folvent for iron, but what has greater affi­\n",
      "nity with alcalies; and by means of which, there­\n",
      "fore, this metal will be precipitated. Hence if any \n",
      "water appears, with a predominant alcali, which has \n",
      "alfo the power of tinging with galls, and, on being \n",
      "expofed to the open-air, lets fall the iron, and lofes \n",
      "that property $ may we not conclude the metal to \n",
      "have been fufpended by fome other medium ?\n",
      "This, for example, is plainly the cafe in German \n",
      "Spa water, which Dr. Brownrigg has proved to \n",
      "abound with fixed air. \n",
      "Your own very curious ex­\n",
      "periments, before cited, have clearly fhewn, that \n",
      "calcarious earths maybe fufpended in water by this \n",
      "principle of fixed air. \n",
      "And thefe have led me to \n",
      "examine, whether iron might not be diffolved by the \n",
      "fame natural means.\n",
      "I would not, however, be fuppofed, to deny, that \n",
      "iron is frequently found united with an acid. \n",
      "The \n",
      "fadfc is fufficiently evinced in the pyrites and vi­\n",
      "triolic earths. \n",
      "Nor can I doubt, but that thefe fub- \n",
      "fiances do largely contribute to the primary impreg­\n",
      "nation of waters, they being fo readily foluble in \n",
      "them, But as an alcali, or abforbent earth, is often \n",
      "found more than fufficient to faturate.the acid ill mi­\n",
      "neral waters 5 this would effe&ually difengage every \n",
      "V o l . LIX, \n",
      "F f  \n",
      "particle\n",
      " Downloaded from https://royalsocietypublishing.org/ on 14 January 2024 \n",
      "\n",
      "[ « » ]\n",
      "particle of iron diffolved by an acid, unlefs the metal \n",
      "was fupported by fome other menftruum.\n",
      "My endeavours, therefore, to detedt: this folvent, \n",
      "by experiments, are what I now beg leave to lay be­\n",
      "fore you, in the order I made them.\n",
      "E x p e r i m e n t  I.\n",
      "A wide-mouthed bottle, containing half a pint of \n",
      "diftilled water and fixty grains of fteel-filings, was \n",
      "fufpended forty-eight hours over fome diftillers me- \n",
      "laflfes, in brilk fermentation $ fo as to receive the fixed \n",
      "air efcaping from the fermenting liquor; the furface \n",
      "of which was ten inches below the mouth of the \n",
      "bottle. Immediately after its removal, the clear water \n",
      "was decanted from the filings and ochrous fediment.\n",
      "This liquor had a brilk and ferruginous tafte, with \n",
      "a flavour of the melafles. \n",
      "An infufion of galls, or \n",
      "green tea, foon changed part of it to a colour like \n",
      "ink. \n",
      "The remainder, being expofed to the open air, \n",
      "prefently became turbid, threw up a party-coloured \n",
      "pellicle, and depofited a yellowilh fediment.\n",
      "The water now retained but very little power of \n",
      "tinging with galls; and in a few days loft this pro­\n",
      "perty entirely.\n",
      "E x p e r i m e n t  II.\n",
      "Fourteen ounces of coarfe fugar, diflolved in feven \n",
      "pints of water, were mixed with half a pint of yeaft, \n",
      "in a bottle capable of holding more than twice the \n",
      "above quantity^ \n",
      "One end of a bent tube was luted \n",
      "into this veffel, fo that no air mightefcape but through\n",
      "the\n",
      " Downloaded from https://royalsocietypublishing.org/ on 14 January 2024 \n",
      "\n"
     ]
    }
   ],
   "source": [
    "# let's inspect one of the outputs\n",
    "print(text)\n",
    "print(len(text[\"pages\"]))\n",
    "for page in text[\"pages\"]:\n",
    "    print(page)"
   ]
  },
  {
   "cell_type": "markdown",
   "metadata": {},
   "source": [
    "## Correcting the Raw Text"
   ]
  },
  {
   "cell_type": "code",
   "execution_count": 6,
   "metadata": {},
   "outputs": [
    {
     "name": "stdout",
     "output_type": "stream",
     "text": [
      "2024-02-01 14:47:24,207 - kleio.correction - INFO - Getting correction from LLM\n"
     ]
    },
    {
     "name": "stderr",
     "output_type": "stream",
     "text": [
      "2024-02-01 14:47:24,207 - kleio.correction - INFO - Getting correction from LLM\n"
     ]
    },
    {
     "name": "stdout",
     "output_type": "stream",
     "text": [
      "2024-02-01 14:47:24,209 - kleio.llm_utils - INFO - Creating ChatOpenAI prompt...\n"
     ]
    },
    {
     "name": "stderr",
     "output_type": "stream",
     "text": [
      "2024-02-01 14:47:24,209 - kleio.llm_utils - INFO - Creating ChatOpenAI prompt...\n"
     ]
    },
    {
     "name": "stdout",
     "output_type": "stream",
     "text": [
      "2024-02-01 14:47:24,209 - kleio.llm_utils - INFO - Creating OpenAI LLM...\n"
     ]
    },
    {
     "name": "stderr",
     "output_type": "stream",
     "text": [
      "2024-02-01 14:47:24,209 - kleio.llm_utils - INFO - Creating OpenAI LLM...\n",
      "2024-02-01 14:47:24,211 - httpx - DEBUG - load_ssl_context verify=True cert=None trust_env=True http2=False\n",
      "2024-02-01 14:47:24,212 - httpx - DEBUG - load_verify_locations cafile='/Users/jneumann/Repos/kleio/.venv/lib/python3.11/site-packages/certifi/cacert.pem'\n",
      "2024-02-01 14:47:24,220 - httpx - DEBUG - load_ssl_context verify=True cert=None trust_env=True http2=False\n",
      "2024-02-01 14:47:24,221 - httpx - DEBUG - load_verify_locations cafile='/Users/jneumann/Repos/kleio/.venv/lib/python3.11/site-packages/certifi/cacert.pem'\n"
     ]
    },
    {
     "name": "stdout",
     "output_type": "stream",
     "text": [
      "2024-02-01 14:47:24,227 - kleio.correction - INFO - Parsing chunks...\n"
     ]
    },
    {
     "name": "stderr",
     "output_type": "stream",
     "text": [
      "2024-02-01 14:47:24,227 - kleio.correction - INFO - Parsing chunks...\n",
      "2024-02-01 14:47:24,304 - urllib3.connectionpool - DEBUG - https://huggingface.co:443 \"HEAD /Xenova/gpt-3.5-turbo/resolve/main/tokenizer_config.json HTTP/1.1\" 200 0\n",
      "The tokenizer class you load from this checkpoint is not the same type as the class this function is called from. It may result in unexpected tokenization. \n",
      "The tokenizer class you load from this checkpoint is 'GPT3_5Tokenizer'. \n",
      "The class this function is called from is 'GPT2TokenizerFast'.\n",
      "Special tokens have been added in the vocabulary, make sure the associated word embeddings are fine-tuned or trained.\n",
      "100%|██████████| 3/3 [00:00<00:00, 98.75it/s]\n",
      "  0%|          | 0/3 [00:00<?, ?it/s]"
     ]
    },
    {
     "name": "stdout",
     "output_type": "stream",
     "text": [
      "2024-02-01 14:47:24,468 - kleio.correction - INFO - Correcting chunks for page 0\n"
     ]
    },
    {
     "name": "stderr",
     "output_type": "stream",
     "text": [
      "2024-02-01 14:47:24,468 - kleio.correction - INFO - Correcting chunks for page 0\n",
      "2024-02-01 14:47:24,471 - openai._base_client - DEBUG - Request options: {'method': 'post', 'url': '/chat/completions', 'files': None, 'json_data': {'messages': [{'role': 'system', 'content': 'You are a digitization specialist tasked with replacing poor OCR text with corrected text.'}, {'role': 'user', 'content': 'The text below is a snippet from a digitized text. Your job is to carefully read the text and faithfully correct the OCR. This means keeping in mind the context of the text as you do your job. You have the following additional information about the source text, if available:\\n- Source filename: test_0.pdf\\n- Source filetype: academic journal\\n- OCR software: N/A\\n- Image preprocessing software: N/A\\n- Publication date: 18th century\\n- Language: British English\\n- Comments: This is an article from the Philosiphical Transactions of the Royal Society\\n\\nPlease correct the following text:\\n[ 2l6 ]\\nReceived June 8, 17 dp.\\nX X X . A  Letter from  Mr. Lane, Apothe\\xad\\ncary, \\nin Alderfgate-ftreet, to the H\\nnourable Henry Cavendifh, \\nR. S. on \\nthe Solubility o f Iron in fimple \\n, by \\nthe Intervention of fixed A ir.\\nAlderfgate-ftreet, June 5, 1769*\\nSi r ,\\nRead Nov. 23, F\\' g \" 1H  E various impregnations of mi- \\n7 9 \\nJL \\nneral waters have always been very \\ndifficult to explain : and whoever has read the divers, \\nand often contradi&ory reafonings upon the fubjedt, \\nmud clearly perceive, that there is ffill room for dif- \\ncoveries in this part of natural hiftory*\\nYou, Sir, by your accounts of fixed air, and of \\nRathbone-place water, related in the laft volume of \\nPhilofophical Tranfadtions, have obliged the public \\nwith many additional lights on this branch of know* \\nledge^ and, from your known accuracy, and diligent \\npurfuits in moft philofophical inquiries, the learned \\nWorld has great reafon to hope for many other new \\nand ufeful improvements* \\nTo your judgment there\\xad\\nfore, I fubmit the following experiments; which are \\nintended to fhew, that iron is foluble in fimple water,\\nby\\n Downloaded from https://royalsocietypublishing.org/ on 14 January 2024 \\n\\n\\nPlease return only your corrected version that snippet of text as if it had to seemlessly replace the original OCR text:\\n'}], 'model': 'gpt-4', 'n': 1, 'stream': False, 'temperature': 0.0}}\n",
      "2024-02-01 14:47:24,471 - httpcore.connection - DEBUG - connect_tcp.started host='api.openai.com' port=443 local_address=None timeout=None socket_options=None\n",
      "2024-02-01 14:47:24,514 - httpcore.connection - DEBUG - connect_tcp.complete return_value=<httpcore._backends.sync.SyncStream object at 0x17475ff90>\n",
      "2024-02-01 14:47:24,515 - httpcore.connection - DEBUG - start_tls.started ssl_context=<ssl.SSLContext object at 0x105467e30> server_hostname='api.openai.com' timeout=None\n",
      "2024-02-01 14:47:24,565 - httpcore.connection - DEBUG - start_tls.complete return_value=<httpcore._backends.sync.SyncStream object at 0x176156110>\n",
      "2024-02-01 14:47:24,565 - httpcore.http11 - DEBUG - send_request_headers.started request=<Request [b'POST']>\n",
      "2024-02-01 14:47:24,566 - httpcore.http11 - DEBUG - send_request_headers.complete\n",
      "2024-02-01 14:47:24,566 - httpcore.http11 - DEBUG - send_request_body.started request=<Request [b'POST']>\n",
      "2024-02-01 14:47:24,566 - httpcore.http11 - DEBUG - send_request_body.complete\n",
      "2024-02-01 14:47:24,567 - httpcore.http11 - DEBUG - receive_response_headers.started request=<Request [b'POST']>\n",
      "2024-02-01 14:47:47,438 - httpcore.http11 - DEBUG - receive_response_headers.complete return_value=(b'HTTP/1.1', 200, b'OK', [(b'Date', b'Thu, 01 Feb 2024 20:47:47 GMT'), (b'Content-Type', b'application/json'), (b'Transfer-Encoding', b'chunked'), (b'Connection', b'keep-alive'), (b'access-control-allow-origin', b'*'), (b'Cache-Control', b'no-cache, must-revalidate'), (b'openai-model', b'gpt-4-0613'), (b'openai-organization', b'user-usznahx1txhykcp55kqbdwjh'), (b'openai-processing-ms', b'22665'), (b'openai-version', b'2020-10-01'), (b'strict-transport-security', b'max-age=15724800; includeSubDomains'), (b'x-ratelimit-limit-requests', b'10000'), (b'x-ratelimit-limit-tokens', b'300000'), (b'x-ratelimit-remaining-requests', b'9999'), (b'x-ratelimit-remaining-tokens', b'299489'), (b'x-ratelimit-reset-requests', b'6ms'), (b'x-ratelimit-reset-tokens', b'102ms'), (b'x-request-id', b'6b889f11a3c7b8ce85b4279b59f1f23f'), (b'CF-Cache-Status', b'DYNAMIC'), (b'Set-Cookie', b'__cf_bm=W_JJrztuBCq91xyOWJn2Rp8BE.ki7Gx_0PRRquqMdUY-1706820467-1-AWQYkFbFOmpvHh5LRE1JwSephnMD4c/6+GnD1zQKwmkqPNz2TzzfP6S0FVDPtclJ0IkuZqEiMA/HFEvu8Ecw/FI=; path=/; expires=Thu, 01-Feb-24 21:17:47 GMT; domain=.api.openai.com; HttpOnly; Secure; SameSite=None'), (b'Set-Cookie', b'_cfuvid=UqnOSnbqnycSK5JbGiA4MvT7lsn5FLqUqJ_kRv86jlg-1706820467415-0-604800000; path=/; domain=.api.openai.com; HttpOnly; Secure; SameSite=None'), (b'Server', b'cloudflare'), (b'CF-RAY', b'84ed0ca30dbc69e1-DEN'), (b'Content-Encoding', b'gzip'), (b'alt-svc', b'h3=\":443\"; ma=86400')])\n",
      "2024-02-01 14:47:47,441 - httpx - INFO - HTTP Request: POST https://api.openai.com/v1/chat/completions \"HTTP/1.1 200 OK\"\n",
      "2024-02-01 14:47:47,442 - httpcore.http11 - DEBUG - receive_response_body.started request=<Request [b'POST']>\n",
      "2024-02-01 14:47:47,444 - httpcore.http11 - DEBUG - receive_response_body.complete\n",
      "2024-02-01 14:47:47,446 - httpcore.http11 - DEBUG - response_closed.started\n",
      "2024-02-01 14:47:47,449 - httpcore.http11 - DEBUG - response_closed.complete\n",
      "2024-02-01 14:47:47,451 - openai._base_client - DEBUG - HTTP Request: POST https://api.openai.com/v1/chat/completions \"200 OK\"\n",
      " 33%|███▎      | 1/3 [00:22<00:45, 22.99s/it]"
     ]
    },
    {
     "name": "stdout",
     "output_type": "stream",
     "text": [
      "2024-02-01 14:47:47,461 - kleio.correction - INFO - Correcting chunks for page 1\n"
     ]
    },
    {
     "name": "stderr",
     "output_type": "stream",
     "text": [
      "2024-02-01 14:47:47,461 - kleio.correction - INFO - Correcting chunks for page 1\n",
      "2024-02-01 14:47:47,467 - openai._base_client - DEBUG - Request options: {'method': 'post', 'url': '/chat/completions', 'files': None, 'json_data': {'messages': [{'role': 'system', 'content': 'You are a digitization specialist tasked with replacing poor OCR text with corrected text.'}, {'role': 'user', 'content': 'The text below is a snippet from a digitized text. Your job is to carefully read the text and faithfully correct the OCR. This means keeping in mind the context of the text as you do your job. You have the following additional information about the source text, if available:\\n- Source filename: test_0.pdf\\n- Source filetype: academic journal\\n- OCR software: N/A\\n- Image preprocessing software: N/A\\n- Publication date: 18th century\\n- Language: British English\\n- Comments: This is an article from the Philosiphical Transactions of the Royal Society\\n\\nPlease correct the following text:\\nr « 7 ]\\nby the intervention of fixed air; and thence, that it \\nis very probable, many different chalybeate fprings \\nfuftain their metallic charge by this means only.\\nThe folution of iron in mineral waters, efpecially \\nin fuch as, by expbfure, readily lofe the property of \\nftriking a purple colour with aftringent vegetables, \\nhas ufually been attributed to fome fubtile gas, or vo\\xad\\nlatile acid. \\nChymiftry, however, does not difcover \\nany acid folvent for iron, but what has greater affi\\xad\\nnity with alcalies; and by means of which, there\\xad\\nfore, this metal will be precipitated. Hence if any \\nwater appears, with a predominant alcali, which has \\nalfo the power of tinging with galls, and, on being \\nexpofed to the open-air, lets fall the iron, and lofes \\nthat property $ may we not conclude the metal to \\nhave been fufpended by fome other medium ?\\nThis, for example, is plainly the cafe in German \\nSpa water, which Dr. Brownrigg has proved to \\nabound with fixed air. \\nYour own very curious ex\\xad\\nperiments, before cited, have clearly fhewn, that \\ncalcarious earths maybe fufpended in water by this \\nprinciple of fixed air. \\nAnd thefe have led me to \\nexamine, whether iron might not be diffolved by the \\nfame natural means.\\nI would not, however, be fuppofed, to deny, that \\niron is frequently found united with an acid. \\nThe \\nfadfc is fufficiently evinced in the pyrites and vi\\xad\\ntriolic earths. \\nNor can I doubt, but that thefe fub- \\nfiances do largely contribute to the primary impreg\\xad\\nnation of waters, they being fo readily foluble in \\nthem, But as an alcali, or abforbent earth, is often \\nfound more than fufficient to faturate.the acid ill mi\\xad\\nneral waters 5 this would effe&ually difengage every \\nV o l . LIX, \\nF f  \\nparticle\\n Downloaded from https://royalsocietypublishing.org/ on 14 January 2024 \\n\\n\\nPlease return only your corrected version that snippet of text as if it had to seemlessly replace the original OCR text:\\n'}], 'model': 'gpt-4', 'n': 1, 'stream': False, 'temperature': 0.0}}\n",
      "2024-02-01 14:47:47,469 - httpcore.http11 - DEBUG - send_request_headers.started request=<Request [b'POST']>\n",
      "2024-02-01 14:47:47,470 - httpcore.http11 - DEBUG - send_request_headers.complete\n",
      "2024-02-01 14:47:47,470 - httpcore.http11 - DEBUG - send_request_body.started request=<Request [b'POST']>\n",
      "2024-02-01 14:47:47,471 - httpcore.http11 - DEBUG - send_request_body.complete\n",
      "2024-02-01 14:47:47,472 - httpcore.http11 - DEBUG - receive_response_headers.started request=<Request [b'POST']>\n",
      "2024-02-01 14:48:44,107 - httpcore.http11 - DEBUG - receive_response_headers.complete return_value=(b'HTTP/1.1', 200, b'OK', [(b'Date', b'Thu, 01 Feb 2024 20:48:44 GMT'), (b'Content-Type', b'application/json'), (b'Transfer-Encoding', b'chunked'), (b'Connection', b'keep-alive'), (b'access-control-allow-origin', b'*'), (b'Cache-Control', b'no-cache, must-revalidate'), (b'openai-model', b'gpt-4-0613'), (b'openai-organization', b'user-usznahx1txhykcp55kqbdwjh'), (b'openai-processing-ms', b'56506'), (b'openai-version', b'2020-10-01'), (b'strict-transport-security', b'max-age=15724800; includeSubDomains'), (b'x-ratelimit-limit-requests', b'10000'), (b'x-ratelimit-limit-tokens', b'300000'), (b'x-ratelimit-remaining-requests', b'9999'), (b'x-ratelimit-remaining-tokens', b'299330'), (b'x-ratelimit-reset-requests', b'6ms'), (b'x-ratelimit-reset-tokens', b'134ms'), (b'x-request-id', b'7c12d6e38cb695a461152b3cd84a56f2'), (b'CF-Cache-Status', b'DYNAMIC'), (b'Server', b'cloudflare'), (b'CF-RAY', b'84ed0d323b3f69e1-DEN'), (b'Content-Encoding', b'gzip'), (b'alt-svc', b'h3=\":443\"; ma=86400')])\n",
      "2024-02-01 14:48:44,109 - httpx - INFO - HTTP Request: POST https://api.openai.com/v1/chat/completions \"HTTP/1.1 200 OK\"\n",
      "2024-02-01 14:48:44,110 - httpcore.http11 - DEBUG - receive_response_body.started request=<Request [b'POST']>\n",
      "2024-02-01 14:48:44,116 - httpcore.http11 - DEBUG - receive_response_body.complete\n",
      "2024-02-01 14:48:44,119 - httpcore.http11 - DEBUG - response_closed.started\n",
      "2024-02-01 14:48:44,120 - httpcore.http11 - DEBUG - response_closed.complete\n",
      "2024-02-01 14:48:44,123 - openai._base_client - DEBUG - HTTP Request: POST https://api.openai.com/v1/chat/completions \"200 OK\"\n",
      " 67%|██████▋   | 2/3 [01:19<00:42, 42.81s/it]"
     ]
    },
    {
     "name": "stdout",
     "output_type": "stream",
     "text": [
      "2024-02-01 14:48:44,135 - kleio.correction - INFO - Correcting chunks for page 2\n"
     ]
    },
    {
     "name": "stderr",
     "output_type": "stream",
     "text": [
      "2024-02-01 14:48:44,135 - kleio.correction - INFO - Correcting chunks for page 2\n",
      "2024-02-01 14:48:44,141 - openai._base_client - DEBUG - Request options: {'method': 'post', 'url': '/chat/completions', 'files': None, 'json_data': {'messages': [{'role': 'system', 'content': 'You are a digitization specialist tasked with replacing poor OCR text with corrected text.'}, {'role': 'user', 'content': 'The text below is a snippet from a digitized text. Your job is to carefully read the text and faithfully correct the OCR. This means keeping in mind the context of the text as you do your job. You have the following additional information about the source text, if available:\\n- Source filename: test_0.pdf\\n- Source filetype: academic journal\\n- OCR software: N/A\\n- Image preprocessing software: N/A\\n- Publication date: 18th century\\n- Language: British English\\n- Comments: This is an article from the Philosiphical Transactions of the Royal Society\\n\\nPlease correct the following text:\\n[ « » ]\\nparticle of iron diffolved by an acid, unlefs the metal \\nwas fupported by fome other menftruum.\\nMy endeavours, therefore, to detedt: this folvent, \\nby experiments, are what I now beg leave to lay be\\xad\\nfore you, in the order I made them.\\nE x p e r i m e n t  I.\\nA wide-mouthed bottle, containing half a pint of \\ndiftilled water and fixty grains of fteel-filings, was \\nfufpended forty-eight hours over fome diftillers me- \\nlaflfes, in brilk fermentation $ fo as to receive the fixed \\nair efcaping from the fermenting liquor; the furface \\nof which was ten inches below the mouth of the \\nbottle. Immediately after its removal, the clear water \\nwas decanted from the filings and ochrous fediment.\\nThis liquor had a brilk and ferruginous tafte, with \\na flavour of the melafles. \\nAn infufion of galls, or \\ngreen tea, foon changed part of it to a colour like \\nink. \\nThe remainder, being expofed to the open air, \\nprefently became turbid, threw up a party-coloured \\npellicle, and depofited a yellowilh fediment.\\nThe water now retained but very little power of \\ntinging with galls; and in a few days loft this pro\\xad\\nperty entirely.\\nE x p e r i m e n t  II.\\nFourteen ounces of coarfe fugar, diflolved in feven \\npints of water, were mixed with half a pint of yeaft, \\nin a bottle capable of holding more than twice the \\nabove quantity^ \\nOne end of a bent tube was luted \\ninto this veffel, fo that no air mightefcape but through\\nthe\\n Downloaded from https://royalsocietypublishing.org/ on 14 January 2024 \\n\\n\\nPlease return only your corrected version that snippet of text as if it had to seemlessly replace the original OCR text:\\n'}], 'model': 'gpt-4', 'n': 1, 'stream': False, 'temperature': 0.0}}\n",
      "2024-02-01 14:48:44,142 - httpcore.http11 - DEBUG - send_request_headers.started request=<Request [b'POST']>\n",
      "2024-02-01 14:48:44,143 - httpcore.http11 - DEBUG - send_request_headers.complete\n",
      "2024-02-01 14:48:44,144 - httpcore.http11 - DEBUG - send_request_body.started request=<Request [b'POST']>\n",
      "2024-02-01 14:48:44,145 - httpcore.http11 - DEBUG - send_request_body.complete\n",
      "2024-02-01 14:48:44,145 - httpcore.http11 - DEBUG - receive_response_headers.started request=<Request [b'POST']>\n",
      "2024-02-01 14:49:27,180 - httpcore.http11 - DEBUG - receive_response_headers.complete return_value=(b'HTTP/1.1', 200, b'OK', [(b'Date', b'Thu, 01 Feb 2024 20:49:27 GMT'), (b'Content-Type', b'application/json'), (b'Transfer-Encoding', b'chunked'), (b'Connection', b'keep-alive'), (b'access-control-allow-origin', b'*'), (b'Cache-Control', b'no-cache, must-revalidate'), (b'openai-model', b'gpt-4-0613'), (b'openai-organization', b'user-usznahx1txhykcp55kqbdwjh'), (b'openai-processing-ms', b'42760'), (b'openai-version', b'2020-10-01'), (b'strict-transport-security', b'max-age=15724800; includeSubDomains'), (b'x-ratelimit-limit-requests', b'10000'), (b'x-ratelimit-limit-tokens', b'300000'), (b'x-ratelimit-remaining-requests', b'9999'), (b'x-ratelimit-remaining-tokens', b'299406'), (b'x-ratelimit-reset-requests', b'6ms'), (b'x-ratelimit-reset-tokens', b'118ms'), (b'x-request-id', b'dfd0afa97806169dcbad1e1dce313b91'), (b'CF-Cache-Status', b'DYNAMIC'), (b'Server', b'cloudflare'), (b'CF-RAY', b'84ed0e945e3069e1-DEN'), (b'Content-Encoding', b'gzip'), (b'alt-svc', b'h3=\":443\"; ma=86400')])\n",
      "2024-02-01 14:49:27,182 - httpx - INFO - HTTP Request: POST https://api.openai.com/v1/chat/completions \"HTTP/1.1 200 OK\"\n",
      "2024-02-01 14:49:27,183 - httpcore.http11 - DEBUG - receive_response_body.started request=<Request [b'POST']>\n",
      "2024-02-01 14:49:27,184 - httpcore.http11 - DEBUG - receive_response_body.complete\n",
      "2024-02-01 14:49:27,184 - httpcore.http11 - DEBUG - response_closed.started\n",
      "2024-02-01 14:49:27,185 - httpcore.http11 - DEBUG - response_closed.complete\n",
      "2024-02-01 14:49:27,186 - openai._base_client - DEBUG - HTTP Request: POST https://api.openai.com/v1/chat/completions \"200 OK\"\n",
      "100%|██████████| 3/3 [02:02<00:00, 40.91s/it]\n"
     ]
    }
   ],
   "source": [
    "import os\n",
    "correction = get_correction(\n",
    "    text = text,\n",
    "    api_key=os.getenv(\"OPENAI_API_KEY\"),\n",
    "    model_name=\"gpt-4\",\n",
    "    output_path=\"../data/output/correction.txt\",\n",
    "    filename=text[\"filename\"],\n",
    "    filetype=\"academic journal\",\n",
    "    language=\"British English\",\n",
    "    date=\"18th century\",\n",
    "    comments=\"This is an article from the Philosiphical Transactions of the Royal Society\",\n",
    ")"
   ]
  },
  {
   "cell_type": "markdown",
   "metadata": {},
   "source": [
    "## Collating the corrected pages"
   ]
  },
  {
   "cell_type": "code",
   "execution_count": 7,
   "metadata": {},
   "outputs": [
    {
     "name": "stderr",
     "output_type": "stream",
     "text": [
      "2024-02-01 14:49:27,364 - urllib3.connectionpool - DEBUG - https://huggingface.co:443 \"HEAD /Xenova/gpt-3.5-turbo/resolve/main/tokenizer_config.json HTTP/1.1\" 200 0\n",
      "The tokenizer class you load from this checkpoint is not the same type as the class this function is called from. It may result in unexpected tokenization. \n",
      "The tokenizer class you load from this checkpoint is 'GPT3_5Tokenizer'. \n",
      "The class this function is called from is 'GPT2TokenizerFast'.\n",
      "Special tokens have been added in the vocabulary, make sure the associated word embeddings are fine-tuned or trained.\n",
      "2024-02-01 14:49:27,521 - kleio.collation - DEBUG - Chunks: ['[216]\\nReceived June 8, 1769.\\nXXX. A Letter from Mr. Lane, Apothecary, \\nin Aldersgate-street, to the Honourable Henry Cavendish, \\nR. S. on \\nthe Solubility of Iron in simple \\nwater, by \\nthe Intervention of fixed Air.\\nAldersgate-street, June 5, 1769.\\nSir,\\nRead Nov. 23, 1769. The various impregnations of mineral \\nwaters have always been very \\ndifficult to explain: and whoever has read the diverse, \\nand often contradictory reasonings upon the subject, \\nmust clearly perceive, that there is still room for discoveries in this part of natural history.\\nYou, Sir, by your accounts of fixed air, and of \\nRathbone-place water, related in the last volume of \\nPhilosophical Transactions, have obliged the public \\nwith many additional lights on this branch of knowledge, and, from your known accuracy, and diligent \\npursuits in most philosophical inquiries, the learned \\nWorld has great reason to hope for many other new \\nand useful improvements. \\nTo your judgment therefore, I submit the following experiments; which are \\nintended to show, that iron is soluble in simple water,\\nby\\n Downloaded from https://royalsocietypublishing.org/ on 14 January 2024\\n<PAGEBREAK>\\nby the intervention of fixed air; and thence, that it \\nis very probable, many different chalybeate springs \\nsustain their metallic charge by this means only.\\nThe solution of iron in mineral waters, especially \\nin such as, by exposure, readily lose the property of \\nstriking a purple colour with astringent vegetables, \\nhas usually been attributed to some subtle gas, or vo\\xad\\nlatile acid. \\nChemistry, however, does not discover \\nany acid solvent for iron, but what has greater affi\\xad\\nnity with alkalies; and by means of which, there\\xad\\nfore, this metal will be precipitated. Hence if any \\nwater appears, with a predominant alkali, which has \\nalso the power of tinging with galls, and, on being \\nexposed to the open-air, lets fall the iron, and loses \\nthat property; may we not conclude the metal to \\nhave been suspended by some other medium?\\nThis, for example, is plainly the case in German \\nSpa water, which Dr. Brownrigg has proved to \\nabound with fixed air. \\nYour own very curious ex\\xad\\nperiments, before cited, have clearly shown, that \\ncalcareous earths may be suspended in water by this \\nprinciple of fixed air. \\nAnd these have led me to \\nexamine, whether iron might not be dissolved by the \\nsame natural means.\\nI would not, however, be supposed, to deny, that \\niron is frequently found united with an acid. \\nThe \\nfact is sufficiently evinced in the pyrites and vi\\xad\\ntriolic earths. \\nNor can I doubt, but that these sub\\xad\\nstances do largely contribute to the primary impreg\\xad\\nnation of waters, they being so readily soluble in \\nthem. But as an alkali, or absorbent earth, is often \\nfound more than sufficient to saturate the acid in mi\\xad\\nneral waters; this would effectually disengage every \\nparticle. \\nDownloaded from https://royalsocietypublishing.org/ on 14 January 2024\\n<PAGEBREAK>\\nparticle of iron dissolved by an acid, unless the metal \\nwas supported by some other menstruum.\\nMy endeavours, therefore, to detect this solvent, \\nby experiments, are what I now beg leave to lay before \\nyou, in the order I made them.\\nExperiment I.\\nA wide-mouthed bottle, containing half a pint of \\ndistilled water and sixty grains of steel-filings, was \\nsuspended forty-eight hours over some distillers molasses, \\nin brisk fermentation; so as to receive the fixed \\nair escaping from the fermenting liquor; the surface \\nof which was ten inches below the mouth of the \\nbottle. Immediately after its removal, the clear water \\nwas decanted from the filings and ochrous sediment.\\nThis liquor had a brisk and ferruginous taste, with \\na flavour of the molasses. \\nAn infusion of galls, or \\ngreen tea, soon changed part of it to a colour like \\nink. \\nThe remainder, being exposed to the open air, \\npresently became turbid, threw up a party-coloured \\npellicle, and deposited a yellowish sediment.\\nThe water now retained but very little power of \\ntinging with galls; and in a few days lost this property entirely.\\nExperiment II.\\nFourteen ounces of coarse sugar, dissolved in seven \\npints of water, were mixed with half a pint of yeast, \\nin a bottle capable of holding more than twice the \\nabove quantity. \\nOne end of a bent tube was luted \\ninto this vessel, so that no air might escape but through\\nthe\\n Downloaded from https://royalsocietypublishing.org/ on 14 January 2024']\n"
     ]
    },
    {
     "name": "stdout",
     "output_type": "stream",
     "text": [
      "2024-02-01 14:49:27,522 - kleio.llm_utils - INFO - Creating ChatOpenAI prompt...\n"
     ]
    },
    {
     "name": "stderr",
     "output_type": "stream",
     "text": [
      "2024-02-01 14:49:27,522 - kleio.llm_utils - INFO - Creating ChatOpenAI prompt...\n",
      "2024-02-01 14:49:27,523 - kleio.collation - DEBUG - Prompt: input_variables=['previous_text', 'text'] messages=[SystemMessagePromptTemplate(prompt=PromptTemplate(input_variables=[], template='You are a detail-oriented content editor who is tasked with formatting OCR text in a particular way for a client.')), HumanMessagePromptTemplate(prompt=PromptTemplate(input_variables=['previous_text', 'text'], partial_variables={'remove_headers_and_footers': 'True', 'remove_page_numbers': 'True', 'remove_excess_space': 'True', 'remove_empty_lines': 'False', 'remove_line_breaks': 'False', 'remove_word_breaks': 'True', 'add_section_tags': 'False', 'keep_page_breaks': 'True'}, template=\"INSTRUCTIONS FOR FORMATTING OCR TEXT\\nYou will be given a snippet of text from a digitized text as well as the formatted text immaediately before it for context if available. Your job is to carefully read the texts and adjust the format of the target text according to the client's needs and what makes sense. The client has set the following criteria for formatting the text:\\n- Remove headers and footers: {remove_headers_and_footers}\\n- Remove page numbers: {remove_page_numbers}\\n- Remove excess space: {remove_excess_space}\\n- Remove empty lines: {remove_empty_lines}\\n- Remove line breaks: {remove_line_breaks}\\n- Remove word breaks: {remove_word_breaks}\\n- Add section annotations: {add_section_tags}\\n\\nDEFINITIONS AND EXAMPLES\\n- Headers and footers include things like source urls, abbreviated titles, etc.\\n- Excess space includes things like extra spaces between words, at the end of lines, between paragraphs, etc.\\n- Empty lines include lines that are completely empty, as well as lines that only contain whitespace.\\n- Line breaks are breaks caused by prior formatting and often break up sentences.\\n- When line breaks occur, sometimes words are broken up and hyphenated; these are word breaks.\\n- Section annotation involves adding a basic tag to identifiable section headings.\\n- - ONLY DO THIS IF IT IS SET TO TRUE.\\n- - Annotation ONLY involves tagging titles and named sections.\\n- - Annotation format is as follows: <SECTION>Example</SECTION>\\n\\nADDITIONAL NOTES\\n- ONLY output the formatted version of the target text. Do NOT include anything else in your output; no commentary, no notes, nothing else.\\n- If you absolutely have to add comments, please put them in double brackets like this: [[This is a comment.]].\\n- Go ahead and correct any remaining OCR errors, such as removing junk strings, removing other people's commentary on the text, etc.\\n\\nADDITIONAL CONTEXT\\nHere is the previously formatted text for additional context, if this is not the first or only chunk of the document:\\n\\n{previous_text}\\n\\nTEXT TO FORMAT\\n{text}\\n\"))]\n"
     ]
    },
    {
     "name": "stdout",
     "output_type": "stream",
     "text": [
      "2024-02-01 14:49:27,523 - kleio.llm_utils - INFO - Creating OpenAI LLM...\n"
     ]
    },
    {
     "name": "stderr",
     "output_type": "stream",
     "text": [
      "2024-02-01 14:49:27,523 - kleio.llm_utils - INFO - Creating OpenAI LLM...\n",
      "2024-02-01 14:49:27,524 - httpx - DEBUG - load_ssl_context verify=True cert=None trust_env=True http2=False\n",
      "2024-02-01 14:49:27,524 - httpx - DEBUG - load_verify_locations cafile='/Users/jneumann/Repos/kleio/.venv/lib/python3.11/site-packages/certifi/cacert.pem'\n",
      "2024-02-01 14:49:27,532 - httpx - DEBUG - load_ssl_context verify=True cert=None trust_env=True http2=False\n",
      "2024-02-01 14:49:27,533 - httpx - DEBUG - load_verify_locations cafile='/Users/jneumann/Repos/kleio/.venv/lib/python3.11/site-packages/certifi/cacert.pem'\n"
     ]
    },
    {
     "name": "stdout",
     "output_type": "stream",
     "text": [
      "2024-02-01 14:49:27,539 - kleio.collation - INFO - Collating 1 chunks\n"
     ]
    },
    {
     "name": "stderr",
     "output_type": "stream",
     "text": [
      "2024-02-01 14:49:27,539 - kleio.collation - INFO - Collating 1 chunks\n",
      "  0%|          | 0/1 [00:00<?, ?it/s]2024-02-01 14:49:27,540 - kleio.collation - DEBUG - Collating chunk: [216]\n",
      "Received June 8, 1769.\n",
      "XXX. A Letter from Mr. Lane, Apothecary, \n",
      "in Aldersgate-street, to the Honourable Henry Cavendish, \n",
      "R. S. on \n",
      "the Solubility of Iron in simple \n",
      "water, by \n",
      "the Intervention of fixed Air.\n",
      "Aldersgate-street, June 5, 1769.\n",
      "Sir,\n",
      "Read Nov. 23, 1769. The various impregnations of mineral \n",
      "waters have always been very \n",
      "difficult to explain: and whoever has read the diverse, \n",
      "and often contradictory reasonings upon the subject, \n",
      "must clearly perceive, that there is still room for discoveries in this part of natural history.\n",
      "You, Sir, by your accounts of fixed air, and of \n",
      "Rathbone-place water, related in the last volume of \n",
      "Philosophical Transactions, have obliged the public \n",
      "with many additional lights on this branch of knowledge, and, from your known accuracy, and diligent \n",
      "pursuits in most philosophical inquiries, the learned \n",
      "World has great reason to hope for many other new \n",
      "and useful improvements. \n",
      "To your judgment therefore, I submit the following experiments; which are \n",
      "intended to show, that iron is soluble in simple water,\n",
      "by\n",
      " Downloaded from https://royalsocietypublishing.org/ on 14 January 2024\n",
      "<PAGEBREAK>\n",
      "by the intervention of fixed air; and thence, that it \n",
      "is very probable, many different chalybeate springs \n",
      "sustain their metallic charge by this means only.\n",
      "The solution of iron in mineral waters, especially \n",
      "in such as, by exposure, readily lose the property of \n",
      "striking a purple colour with astringent vegetables, \n",
      "has usually been attributed to some subtle gas, or vo­\n",
      "latile acid. \n",
      "Chemistry, however, does not discover \n",
      "any acid solvent for iron, but what has greater affi­\n",
      "nity with alkalies; and by means of which, there­\n",
      "fore, this metal will be precipitated. Hence if any \n",
      "water appears, with a predominant alkali, which has \n",
      "also the power of tinging with galls, and, on being \n",
      "exposed to the open-air, lets fall the iron, and loses \n",
      "that property; may we not conclude the metal to \n",
      "have been suspended by some other medium?\n",
      "This, for example, is plainly the case in German \n",
      "Spa water, which Dr. Brownrigg has proved to \n",
      "abound with fixed air. \n",
      "Your own very curious ex­\n",
      "periments, before cited, have clearly shown, that \n",
      "calcareous earths may be suspended in water by this \n",
      "principle of fixed air. \n",
      "And these have led me to \n",
      "examine, whether iron might not be dissolved by the \n",
      "same natural means.\n",
      "I would not, however, be supposed, to deny, that \n",
      "iron is frequently found united with an acid. \n",
      "The \n",
      "fact is sufficiently evinced in the pyrites and vi­\n",
      "triolic earths. \n",
      "Nor can I doubt, but that these sub­\n",
      "stances do largely contribute to the primary impreg­\n",
      "nation of waters, they being so readily soluble in \n",
      "them. But as an alkali, or absorbent earth, is often \n",
      "found more than sufficient to saturate the acid in mi­\n",
      "neral waters; this would effectually disengage every \n",
      "particle. \n",
      "Downloaded from https://royalsocietypublishing.org/ on 14 January 2024\n",
      "<PAGEBREAK>\n",
      "particle of iron dissolved by an acid, unless the metal \n",
      "was supported by some other menstruum.\n",
      "My endeavours, therefore, to detect this solvent, \n",
      "by experiments, are what I now beg leave to lay before \n",
      "you, in the order I made them.\n",
      "Experiment I.\n",
      "A wide-mouthed bottle, containing half a pint of \n",
      "distilled water and sixty grains of steel-filings, was \n",
      "suspended forty-eight hours over some distillers molasses, \n",
      "in brisk fermentation; so as to receive the fixed \n",
      "air escaping from the fermenting liquor; the surface \n",
      "of which was ten inches below the mouth of the \n",
      "bottle. Immediately after its removal, the clear water \n",
      "was decanted from the filings and ochrous sediment.\n",
      "This liquor had a brisk and ferruginous taste, with \n",
      "a flavour of the molasses. \n",
      "An infusion of galls, or \n",
      "green tea, soon changed part of it to a colour like \n",
      "ink. \n",
      "The remainder, being exposed to the open air, \n",
      "presently became turbid, threw up a party-coloured \n",
      "pellicle, and deposited a yellowish sediment.\n",
      "The water now retained but very little power of \n",
      "tinging with galls; and in a few days lost this property entirely.\n",
      "Experiment II.\n",
      "Fourteen ounces of coarse sugar, dissolved in seven \n",
      "pints of water, were mixed with half a pint of yeast, \n",
      "in a bottle capable of holding more than twice the \n",
      "above quantity. \n",
      "One end of a bent tube was luted \n",
      "into this vessel, so that no air might escape but through\n",
      "the\n",
      " Downloaded from https://royalsocietypublishing.org/ on 14 January 2024\n",
      "\n",
      "Lead-in: This is the first or only chunk.\n",
      "2024-02-01 14:49:27,542 - openai._base_client - DEBUG - Request options: {'method': 'post', 'url': '/chat/completions', 'files': None, 'json_data': {'messages': [{'role': 'system', 'content': 'You are a detail-oriented content editor who is tasked with formatting OCR text in a particular way for a client.'}, {'role': 'user', 'content': \"INSTRUCTIONS FOR FORMATTING OCR TEXT\\nYou will be given a snippet of text from a digitized text as well as the formatted text immaediately before it for context if available. Your job is to carefully read the texts and adjust the format of the target text according to the client's needs and what makes sense. The client has set the following criteria for formatting the text:\\n- Remove headers and footers: True\\n- Remove page numbers: True\\n- Remove excess space: True\\n- Remove empty lines: False\\n- Remove line breaks: False\\n- Remove word breaks: True\\n- Add section annotations: False\\n\\nDEFINITIONS AND EXAMPLES\\n- Headers and footers include things like source urls, abbreviated titles, etc.\\n- Excess space includes things like extra spaces between words, at the end of lines, between paragraphs, etc.\\n- Empty lines include lines that are completely empty, as well as lines that only contain whitespace.\\n- Line breaks are breaks caused by prior formatting and often break up sentences.\\n- When line breaks occur, sometimes words are broken up and hyphenated; these are word breaks.\\n- Section annotation involves adding a basic tag to identifiable section headings.\\n- - ONLY DO THIS IF IT IS SET TO TRUE.\\n- - Annotation ONLY involves tagging titles and named sections.\\n- - Annotation format is as follows: <SECTION>Example</SECTION>\\n\\nADDITIONAL NOTES\\n- ONLY output the formatted version of the target text. Do NOT include anything else in your output; no commentary, no notes, nothing else.\\n- If you absolutely have to add comments, please put them in double brackets like this: [[This is a comment.]].\\n- Go ahead and correct any remaining OCR errors, such as removing junk strings, removing other people's commentary on the text, etc.\\n\\nADDITIONAL CONTEXT\\nHere is the previously formatted text for additional context, if this is not the first or only chunk of the document:\\n\\nThis is the first or only chunk.\\n\\nTEXT TO FORMAT\\n[216]\\nReceived June 8, 1769.\\nXXX. A Letter from Mr. Lane, Apothecary, \\nin Aldersgate-street, to the Honourable Henry Cavendish, \\nR. S. on \\nthe Solubility of Iron in simple \\nwater, by \\nthe Intervention of fixed Air.\\nAldersgate-street, June 5, 1769.\\nSir,\\nRead Nov. 23, 1769. The various impregnations of mineral \\nwaters have always been very \\ndifficult to explain: and whoever has read the diverse, \\nand often contradictory reasonings upon the subject, \\nmust clearly perceive, that there is still room for discoveries in this part of natural history.\\nYou, Sir, by your accounts of fixed air, and of \\nRathbone-place water, related in the last volume of \\nPhilosophical Transactions, have obliged the public \\nwith many additional lights on this branch of knowledge, and, from your known accuracy, and diligent \\npursuits in most philosophical inquiries, the learned \\nWorld has great reason to hope for many other new \\nand useful improvements. \\nTo your judgment therefore, I submit the following experiments; which are \\nintended to show, that iron is soluble in simple water,\\nby\\n Downloaded from https://royalsocietypublishing.org/ on 14 January 2024\\n<PAGEBREAK>\\nby the intervention of fixed air; and thence, that it \\nis very probable, many different chalybeate springs \\nsustain their metallic charge by this means only.\\nThe solution of iron in mineral waters, especially \\nin such as, by exposure, readily lose the property of \\nstriking a purple colour with astringent vegetables, \\nhas usually been attributed to some subtle gas, or vo\\xad\\nlatile acid. \\nChemistry, however, does not discover \\nany acid solvent for iron, but what has greater affi\\xad\\nnity with alkalies; and by means of which, there\\xad\\nfore, this metal will be precipitated. Hence if any \\nwater appears, with a predominant alkali, which has \\nalso the power of tinging with galls, and, on being \\nexposed to the open-air, lets fall the iron, and loses \\nthat property; may we not conclude the metal to \\nhave been suspended by some other medium?\\nThis, for example, is plainly the case in German \\nSpa water, which Dr. Brownrigg has proved to \\nabound with fixed air. \\nYour own very curious ex\\xad\\nperiments, before cited, have clearly shown, that \\ncalcareous earths may be suspended in water by this \\nprinciple of fixed air. \\nAnd these have led me to \\nexamine, whether iron might not be dissolved by the \\nsame natural means.\\nI would not, however, be supposed, to deny, that \\niron is frequently found united with an acid. \\nThe \\nfact is sufficiently evinced in the pyrites and vi\\xad\\ntriolic earths. \\nNor can I doubt, but that these sub\\xad\\nstances do largely contribute to the primary impreg\\xad\\nnation of waters, they being so readily soluble in \\nthem. But as an alkali, or absorbent earth, is often \\nfound more than sufficient to saturate the acid in mi\\xad\\nneral waters; this would effectually disengage every \\nparticle. \\nDownloaded from https://royalsocietypublishing.org/ on 14 January 2024\\n<PAGEBREAK>\\nparticle of iron dissolved by an acid, unless the metal \\nwas supported by some other menstruum.\\nMy endeavours, therefore, to detect this solvent, \\nby experiments, are what I now beg leave to lay before \\nyou, in the order I made them.\\nExperiment I.\\nA wide-mouthed bottle, containing half a pint of \\ndistilled water and sixty grains of steel-filings, was \\nsuspended forty-eight hours over some distillers molasses, \\nin brisk fermentation; so as to receive the fixed \\nair escaping from the fermenting liquor; the surface \\nof which was ten inches below the mouth of the \\nbottle. Immediately after its removal, the clear water \\nwas decanted from the filings and ochrous sediment.\\nThis liquor had a brisk and ferruginous taste, with \\na flavour of the molasses. \\nAn infusion of galls, or \\ngreen tea, soon changed part of it to a colour like \\nink. \\nThe remainder, being exposed to the open air, \\npresently became turbid, threw up a party-coloured \\npellicle, and deposited a yellowish sediment.\\nThe water now retained but very little power of \\ntinging with galls; and in a few days lost this property entirely.\\nExperiment II.\\nFourteen ounces of coarse sugar, dissolved in seven \\npints of water, were mixed with half a pint of yeast, \\nin a bottle capable of holding more than twice the \\nabove quantity. \\nOne end of a bent tube was luted \\ninto this vessel, so that no air might escape but through\\nthe\\n Downloaded from https://royalsocietypublishing.org/ on 14 January 2024\\n\"}], 'model': 'gpt-4', 'n': 1, 'stream': False, 'temperature': 0.0}}\n",
      "2024-02-01 14:49:27,543 - httpcore.connection - DEBUG - connect_tcp.started host='api.openai.com' port=443 local_address=None timeout=None socket_options=None\n",
      "2024-02-01 14:49:27,626 - httpcore.connection - DEBUG - connect_tcp.complete return_value=<httpcore._backends.sync.SyncStream object at 0x17475ff90>\n",
      "2024-02-01 14:49:27,626 - httpcore.connection - DEBUG - start_tls.started ssl_context=<ssl.SSLContext object at 0x17548ff50> server_hostname='api.openai.com' timeout=None\n",
      "2024-02-01 14:49:27,655 - httpcore.connection - DEBUG - start_tls.complete return_value=<httpcore._backends.sync.SyncStream object at 0x169386e10>\n",
      "2024-02-01 14:49:27,655 - httpcore.http11 - DEBUG - send_request_headers.started request=<Request [b'POST']>\n",
      "2024-02-01 14:49:27,655 - httpcore.http11 - DEBUG - send_request_headers.complete\n",
      "2024-02-01 14:49:27,656 - httpcore.http11 - DEBUG - send_request_body.started request=<Request [b'POST']>\n",
      "2024-02-01 14:49:27,656 - httpcore.http11 - DEBUG - send_request_body.complete\n",
      "2024-02-01 14:49:27,657 - httpcore.http11 - DEBUG - receive_response_headers.started request=<Request [b'POST']>\n",
      "2024-02-01 14:50:33,945 - httpcore.http11 - DEBUG - receive_response_headers.complete return_value=(b'HTTP/1.1', 200, b'OK', [(b'Date', b'Thu, 01 Feb 2024 20:50:33 GMT'), (b'Content-Type', b'application/json'), (b'Transfer-Encoding', b'chunked'), (b'Connection', b'keep-alive'), (b'access-control-allow-origin', b'*'), (b'Cache-Control', b'no-cache, must-revalidate'), (b'openai-model', b'gpt-4-0613'), (b'openai-organization', b'user-usznahx1txhykcp55kqbdwjh'), (b'openai-processing-ms', b'65959'), (b'openai-version', b'2020-10-01'), (b'strict-transport-security', b'max-age=15724800; includeSubDomains'), (b'x-ratelimit-limit-requests', b'10000'), (b'x-ratelimit-limit-tokens', b'300000'), (b'x-ratelimit-remaining-requests', b'9999'), (b'x-ratelimit-remaining-tokens', b'298372'), (b'x-ratelimit-reset-requests', b'6ms'), (b'x-ratelimit-reset-tokens', b'325ms'), (b'x-request-id', b'a13a70b49f01917356274233fecc3ec2'), (b'CF-Cache-Status', b'DYNAMIC'), (b'Set-Cookie', b'__cf_bm=ZPsq34Lm2lO87RaSubrqWW_GpHCh4eW3vfca1ApQdCU-1706820633-1-AeJ7I/xSAOn06kOZ0V0kZ/iNy7B8Fq1VMD2jfo8cpnYsG88u0VnVWq4tetakdhaxcQkR4s2ku6M/QFJ4KvSE4Uo=; path=/; expires=Thu, 01-Feb-24 21:20:33 GMT; domain=.api.openai.com; HttpOnly; Secure; SameSite=None'), (b'Set-Cookie', b'_cfuvid=bIWesCjM67_T_bqFOm6nu8FBEDG9XOl6svReSHzD8ck-1706820633935-0-604800000; path=/; domain=.api.openai.com; HttpOnly; Secure; SameSite=None'), (b'Server', b'cloudflare'), (b'CF-RAY', b'84ed0fa44d6326e7-FSD'), (b'Content-Encoding', b'gzip'), (b'alt-svc', b'h3=\":443\"; ma=86400')])\n",
      "2024-02-01 14:50:33,947 - httpx - INFO - HTTP Request: POST https://api.openai.com/v1/chat/completions \"HTTP/1.1 200 OK\"\n",
      "2024-02-01 14:50:33,948 - httpcore.http11 - DEBUG - receive_response_body.started request=<Request [b'POST']>\n",
      "2024-02-01 14:50:33,953 - httpcore.http11 - DEBUG - receive_response_body.complete\n",
      "2024-02-01 14:50:33,960 - httpcore.http11 - DEBUG - response_closed.started\n",
      "2024-02-01 14:50:33,962 - httpcore.http11 - DEBUG - response_closed.complete\n",
      "2024-02-01 14:50:33,965 - openai._base_client - DEBUG - HTTP Request: POST https://api.openai.com/v1/chat/completions \"200 OK\"\n",
      "100%|██████████| 1/1 [01:06<00:00, 66.43s/it]\n",
      "2024-02-01 14:50:33,974 - kleio.collation - DEBUG - Collated text: Received June 8, 1769.\n",
      "XXX. A Letter from Mr. Lane, Apothecary, in Aldersgate-street, to the Honourable Henry Cavendish, R. S. on the Solubility of Iron in simple water, by the Intervention of fixed Air.\n",
      "Aldersgate-street, June 5, 1769.\n",
      "Sir,\n",
      "Read Nov. 23, 1769. The various impregnations of mineral waters have always been very difficult to explain: and whoever has read the diverse, and often contradictory reasonings upon the subject, must clearly perceive, that there is still room for discoveries in this part of natural history.\n",
      "You, Sir, by your accounts of fixed air, and of Rathbone-place water, related in the last volume of Philosophical Transactions, have obliged the public with many additional lights on this branch of knowledge, and, from your known accuracy, and diligent pursuits in most philosophical inquiries, the learned World has great reason to hope for many other new and useful improvements. \n",
      "To your judgment therefore, I submit the following experiments; which are intended to show, that iron is soluble in simple water, by the intervention of fixed air; and thence, that it is very probable, many different chalybeate springs sustain their metallic charge by this means only.\n",
      "The solution of iron in mineral waters, especially in such as, by exposure, readily lose the property of striking a purple colour with astringent vegetables, has usually been attributed to some subtle gas, or volatile acid. \n",
      "Chemistry, however, does not discover any acid solvent for iron, but what has greater affinity with alkalies; and by means of which, therefore, this metal will be precipitated. Hence if any water appears, with a predominant alkali, which has also the power of tinging with galls, and, on being exposed to the open-air, lets fall the iron, and loses that property; may we not conclude the metal to have been suspended by some other medium?\n",
      "This, for example, is plainly the case in German Spa water, which Dr. Brownrigg has proved to abound with fixed air. \n",
      "Your own very curious experiments, before cited, have clearly shown, that calcareous earths may be suspended in water by this principle of fixed air. \n",
      "And these have led me to examine, whether iron might not be dissolved by the same natural means.\n",
      "I would not, however, be supposed, to deny, that iron is frequently found united with an acid. \n",
      "The fact is sufficiently evinced in the pyrites and vitriolic earths. \n",
      "Nor can I doubt, but that these substances do largely contribute to the primary impregnation of waters, they being so readily soluble in them. But as an alkali, or absorbent earth, is often found more than sufficient to saturate the acid in mineral waters; this would effectually disengage every particle of iron dissolved by an acid, unless the metal was supported by some other menstruum.\n",
      "My endeavours, therefore, to detect this solvent, by experiments, are what I now beg leave to lay before you, in the order I made them.\n",
      "Experiment I.\n",
      "A wide-mouthed bottle, containing half a pint of distilled water and sixty grains of steel-filings, was suspended forty-eight hours over some distillers molasses, in brisk fermentation; so as to receive the fixed air escaping from the fermenting liquor; the surface of which was ten inches below the mouth of the bottle. Immediately after its removal, the clear water was decanted from the filings and ochrous sediment.\n",
      "This liquor had a brisk and ferruginous taste, with a flavour of the molasses. \n",
      "An infusion of galls, or green tea, soon changed part of it to a colour like ink. \n",
      "The remainder, being exposed to the open air, presently became turbid, threw up a party-coloured pellicle, and deposited a yellowish sediment.\n",
      "The water now retained but very little power of tinging with galls; and in a few days lost this property entirely.\n",
      "Experiment II.\n",
      "Fourteen ounces of coarse sugar, dissolved in seven pints of water, were mixed with half a pint of yeast, in a bottle capable of holding more than twice the above quantity. \n",
      "One end of a bent tube was luted into this vessel, so that no air might escape but through the\n"
     ]
    }
   ],
   "source": [
    "# As you can see, there are some issues we might still want to resolve\n",
    "# E.g., words that are split across lines,\n",
    "# duplicate words on adjacent pages (old texts do this a lot),\n",
    "# headers and footers that are not part of the main text, etc.\n",
    "import os\n",
    "# So, we need to collate the pages to fix these issues\n",
    "collated_text = collate(\n",
    "    pages = correction,\n",
    "    api_key=os.getenv(\"OPENAI_API_KEY\"),\n",
    "    model_name=\"gpt-4\",\n",
    "    output_path=\"../data/output/collation.txt\",\n",
    "    chunk_size=2048,\n",
    "    remove_headers_and_footers=True,\n",
    "    add_section_tags=False,\n",
    ")"
   ]
  },
  {
   "cell_type": "code",
   "execution_count": 8,
   "metadata": {},
   "outputs": [
    {
     "name": "stdout",
     "output_type": "stream",
     "text": [
      "Received June 8, 1769.\n",
      "XXX. A Letter from Mr. Lane, Apothecary, in Aldersgate-street, to the Honourable Henry Cavendish, R. S. on the Solubility of Iron in simple water, by the Intervention of fixed Air.\n",
      "Aldersgate-street, June 5, 1769.\n",
      "Sir,\n",
      "Read Nov. 23, 1769. The various impregnations of mineral waters have always been very difficult to explain: and whoever has read the diverse, and often contradictory reasonings upon the subject, must clearly perceive, that there is still room for discoveries in this part of natural history.\n",
      "You, Sir, by your accounts of fixed air, and of Rathbone-place water, related in the last volume of Philosophical Transactions, have obliged the public with many additional lights on this branch of knowledge, and, from your known accuracy, and diligent pursuits in most philosophical inquiries, the learned World has great reason to hope for many other new and useful improvements. \n",
      "To your judgment therefore, I submit the following experiments; which are intended to show, that iron is soluble in simple water, by the intervention of fixed air; and thence, that it is very probable, many different chalybeate springs sustain their metallic charge by this means only.\n",
      "The solution of iron in mineral waters, especially in such as, by exposure, readily lose the property of striking a purple colour with astringent vegetables, has usually been attributed to some subtle gas, or volatile acid. \n",
      "Chemistry, however, does not discover any acid solvent for iron, but what has greater affinity with alkalies; and by means of which, therefore, this metal will be precipitated. Hence if any water appears, with a predominant alkali, which has also the power of tinging with galls, and, on being exposed to the open-air, lets fall the iron, and loses that property; may we not conclude the metal to have been suspended by some other medium?\n",
      "This, for example, is plainly the case in German Spa water, which Dr. Brownrigg has proved to abound with fixed air. \n",
      "Your own very curious experiments, before cited, have clearly shown, that calcareous earths may be suspended in water by this principle of fixed air. \n",
      "And these have led me to examine, whether iron might not be dissolved by the same natural means.\n",
      "I would not, however, be supposed, to deny, that iron is frequently found united with an acid. \n",
      "The fact is sufficiently evinced in the pyrites and vitriolic earths. \n",
      "Nor can I doubt, but that these substances do largely contribute to the primary impregnation of waters, they being so readily soluble in them. But as an alkali, or absorbent earth, is often found more than sufficient to saturate the acid in mineral waters; this would effectually disengage every particle of iron dissolved by an acid, unless the metal was supported by some other menstruum.\n",
      "My endeavours, therefore, to detect this solvent, by experiments, are what I now beg leave to lay before you, in the order I made them.\n",
      "Experiment I.\n",
      "A wide-mouthed bottle, containing half a pint of distilled water and sixty grains of steel-filings, was suspended forty-eight hours over some distillers molasses, in brisk fermentation; so as to receive the fixed air escaping from the fermenting liquor; the surface of which was ten inches below the mouth of the bottle. Immediately after its removal, the clear water was decanted from the filings and ochrous sediment.\n",
      "This liquor had a brisk and ferruginous taste, with a flavour of the molasses. \n",
      "An infusion of galls, or green tea, soon changed part of it to a colour like ink. \n",
      "The remainder, being exposed to the open air, presently became turbid, threw up a party-coloured pellicle, and deposited a yellowish sediment.\n",
      "The water now retained but very little power of tinging with galls; and in a few days lost this property entirely.\n",
      "Experiment II.\n",
      "Fourteen ounces of coarse sugar, dissolved in seven pints of water, were mixed with half a pint of yeast, in a bottle capable of holding more than twice the above quantity. \n",
      "One end of a bent tube was luted into this vessel, so that no air might escape but through the\n"
     ]
    }
   ],
   "source": [
    "print(collated_text)"
   ]
  },
  {
   "cell_type": "markdown",
   "metadata": {},
   "source": [
    "## Translating the corrected, collated text"
   ]
  },
  {
   "cell_type": "code",
   "execution_count": null,
   "metadata": {},
   "outputs": [
    {
     "name": "stderr",
     "output_type": "stream",
     "text": [
      "2024-02-01 14:38:24,052 - httpcore.connection - DEBUG - close.started\n",
      "2024-02-01 14:38:24,052 - httpcore.connection - DEBUG - close.complete\n"
     ]
    },
    {
     "ename": "TypeError",
     "evalue": "translate() got an unexpected keyword argument 'llm_provider'",
     "output_type": "error",
     "traceback": [
      "\u001b[0;31m---------------------------------------------------------------------------\u001b[0m",
      "\u001b[0;31mTypeError\u001b[0m                                 Traceback (most recent call last)",
      "Cell \u001b[0;32mIn[7], line 8\u001b[0m\n\u001b[1;32m      1\u001b[0m TRANSLATION_KWARGS \u001b[38;5;241m=\u001b[39m {\n\u001b[1;32m      2\u001b[0m     \u001b[38;5;124m\"\u001b[39m\u001b[38;5;124mtarget_language\u001b[39m\u001b[38;5;124m\"\u001b[39m: \u001b[38;5;124m\"\u001b[39m\u001b[38;5;124mSpanish\u001b[39m\u001b[38;5;124m\"\u001b[39m,\n\u001b[1;32m      3\u001b[0m     \u001b[38;5;124m\"\u001b[39m\u001b[38;5;124mtitle\u001b[39m\u001b[38;5;124m\"\u001b[39m: \u001b[38;5;124m\"\u001b[39m\u001b[38;5;124mOn the Solubility of Iron in Simple, by the Intervention of fixed Air\u001b[39m\u001b[38;5;124m\"\u001b[39m,\n\u001b[1;32m      4\u001b[0m     \u001b[38;5;124m\"\u001b[39m\u001b[38;5;124mauthor\u001b[39m\u001b[38;5;124m\"\u001b[39m: \u001b[38;5;124m\"\u001b[39m\u001b[38;5;124mMr. Lane\u001b[39m\u001b[38;5;124m\"\u001b[39m,\n\u001b[1;32m      5\u001b[0m     \u001b[38;5;124m\"\u001b[39m\u001b[38;5;124mnotes\u001b[39m\u001b[38;5;124m\"\u001b[39m: \u001b[38;5;124m\"\u001b[39m\u001b[38;5;124mThis is an article from the Philosophical Transactions of the Royal Society from 1770-1800\u001b[39m\u001b[38;5;124m\"\u001b[39m,\n\u001b[1;32m      6\u001b[0m }\n\u001b[0;32m----> 8\u001b[0m translation \u001b[38;5;241m=\u001b[39m \u001b[43mtranslate\u001b[49m\u001b[43m(\u001b[49m\n\u001b[1;32m      9\u001b[0m \u001b[43m    \u001b[49m\u001b[43mtext\u001b[49m\u001b[43m \u001b[49m\u001b[38;5;241;43m=\u001b[39;49m\u001b[43m \u001b[49m\u001b[43mcollated_text\u001b[49m\u001b[43m,\u001b[49m\n\u001b[1;32m     10\u001b[0m \u001b[43m    \u001b[49m\u001b[43mapi_key\u001b[49m\u001b[38;5;241;43m=\u001b[39;49m\u001b[38;5;124;43m\"\u001b[39;49m\u001b[38;5;124;43mnot-needed\u001b[39;49m\u001b[38;5;124;43m\"\u001b[39;49m\u001b[43m,\u001b[49m\n\u001b[1;32m     11\u001b[0m \u001b[43m    \u001b[49m\u001b[43mllm_provider\u001b[49m\u001b[38;5;241;43m=\u001b[39;49m\u001b[38;5;124;43m\"\u001b[39;49m\u001b[38;5;124;43mopenai\u001b[39;49m\u001b[38;5;124;43m\"\u001b[39;49m\u001b[43m,\u001b[49m\n\u001b[1;32m     12\u001b[0m \u001b[43m    \u001b[49m\u001b[43mmodel_name\u001b[49m\u001b[38;5;241;43m=\u001b[39;49m\u001b[38;5;124;43m\"\u001b[39;49m\u001b[38;5;124;43mmistralai/Mistral-7B-v0.1\u001b[39;49m\u001b[38;5;124;43m\"\u001b[39;49m\u001b[43m,\u001b[49m\n\u001b[1;32m     13\u001b[0m \u001b[43m    \u001b[49m\u001b[43mbase_url\u001b[49m\u001b[38;5;241;43m=\u001b[39;49m\u001b[38;5;124;43m\"\u001b[39;49m\u001b[38;5;124;43mhttp://localhost:1234/v1\u001b[39;49m\u001b[38;5;124;43m\"\u001b[39;49m\u001b[43m,\u001b[49m\n\u001b[1;32m     14\u001b[0m \u001b[43m    \u001b[49m\u001b[43mtemperature\u001b[49m\u001b[38;5;241;43m=\u001b[39;49m\u001b[38;5;241;43m0.1\u001b[39;49m\u001b[43m,\u001b[49m\n\u001b[1;32m     15\u001b[0m \u001b[43m    \u001b[49m\u001b[43mchunk_size\u001b[49m\u001b[38;5;241;43m=\u001b[39;49m\u001b[38;5;241;43m2048\u001b[39;49m\u001b[43m,\u001b[49m\n\u001b[1;32m     16\u001b[0m \u001b[43m    \u001b[49m\u001b[43mmore_info\u001b[49m\u001b[38;5;241;43m=\u001b[39;49m\u001b[43mTRANSLATION_KWARGS\u001b[49m\u001b[43m,\u001b[49m\n\u001b[1;32m     17\u001b[0m \u001b[43m)\u001b[49m\n",
      "\u001b[0;31mTypeError\u001b[0m: translate() got an unexpected keyword argument 'llm_provider'"
     ]
    }
   ],
   "source": [
    "TRANSLATION_KWARGS = {\n",
    "    \"target_language\": \"Spanish\",\n",
    "    \"title\": \"On the Solubility of Iron in Simple, by the Intervention of fixed Air\",\n",
    "    \"author\": \"Mr. Lane\",\n",
    "    \"notes\": \"This is an article from the Philosophical Transactions of the Royal Society from 1770-1800\",\n",
    "}\n",
    "\n",
    "translation = translate(\n",
    "    text = collated_text,\n",
    "    api_key=\"not-needed\",\n",
    "    llm_provider=\"openai\",\n",
    "    model_name=\"mistralai/Mistral-7B-v0.1\",\n",
    "    base_url=\"http://localhost:1234/v1\",\n",
    "    temperature=0.1,\n",
    "    chunk_size=2048,\n",
    "    more_info=TRANSLATION_KWARGS,\n",
    ")"
   ]
  },
  {
   "cell_type": "code",
   "execution_count": null,
   "metadata": {},
   "outputs": [
    {
     "name": "stdout",
     "output_type": "stream",
     "text": [
      "Recibido el 8 de junio de 1770. Sr. Lane, boticario, calle Aldergate, al honorable Henry Cavendish, R.S., sobre la solubilidad del hierro en agua simple, por la intervención del aire fijo. Calle Aldergate, 5 de junio de 1769. Señor, leído el 23 de noviembre de 1769.\n",
      "\n",
      "Las diversas impregnaciones de las aguas minerales siempre han sido muy difíciles de explicar; y quienquiera que haya leído los diversos y a menudo contradictorios razonamientos sobre este tema, debe percibir claramente que todavía hay espacio para descubrimientos en esta parte de la historia natural.\n",
      "\n",
      "Usted, señor, con sus relatos sobre el aire fijo, y sobre el agua de Rathbone-place, relatados en el último volumen de las Transacciones Filosóficas, ha obligado al público con muchas luces adicionales sobre esta rama del conocimiento. Y, por su conocida precisión y diligentes investigaciones en la mayoría de las indagaciones filosóficas, el mundo erudito tiene grandes razones para esperar muchas otras mejoras nuevas y útiles.\n",
      "\n",
      "Por lo tanto, someto a su juicio los siguientes experimentos; que tienen la intención de demostrar que el hierro es soluble en agua simple, por medio del aire fijo.\n",
      "\n",
      "Por la intervención del aire fijo; y por lo tanto, es muy probable que muchas diferentes fuentes calibeadas mantengan su carga metálica solo por este medio. La disolución del hierro en aguas minerales, especialmente aquellas que pierden fácilmente la propiedad de producir un color púrpura con vegetales astringentes, generalmente se ha atribuido a algún gas volátil o ácido. Sin embargo, la química no descubre ningún solvente ácido para el hierro, sino lo que tiene mayor afinidad con los álcalis; y por medio de los cuales, por lo tanto, este metal será precipitado. Por lo tanto, si alguna agua aparece, con una propiedad alcalina predominante, que también tiene el poder de teñir con agallas, y, al estar expuesta al aire libre, deposita hierro y pierde esa propiedad, ¿no podemos concluir que el metal ha sido suspendido por algún otro medio?\n",
      "\n",
      "Este, por ejemplo, es claramente el caso en el agua de Spa alemán, que el Dr. Brownrigg ha demostrado que abunda en aire fijo. Sus propios experimentos muy curiosos, antes citados, han demostrado claramente que las tierras calcáreas pueden ser suspendidas en agua por este principio de aire fijo. Y estos me han llevado a examinar si el hierro también podría ser disuelto por los mismos medios naturales. Sin embargo, no se me debe suponer que niego que el hierro se encuentra frecuentemente unido con un ácido. La evidencia de esto es suficiente en las piritas y las tierras vitrioladas. Tampoco puedo dudar, pero que estas sustancias contribuyen en gran medida a la impregnación primaria de las aguas, siendo tan fácilmente solubles en ellas; pero como un álcali, o tierra absorbente, a menudo está más que suficientemente presente para saturar el ácido en las aguas minerales, esto desengancharía efectivamente cada partícula.\n",
      "\n",
      "Partícula de hierro difundida por un ácido, a menos que el metal estuviera soportado por algún otro medio. Mis esfuerzos, por lo tanto, para detectar: este solvente, como ahora ruego permiso para presentar ante usted, en el orden en que los hice. Experimento I. Una botella de boca ancha, que contiene medio litro de agua destilada y sesenta granos de limaduras de acero, se suspendió cuarenta y ocho horas sobre algunos destiladores de melaleuca, en fermentación brillante para recibir el aire fijo que escapa del licor fermentado; la superficie de la cual estaba a diez pulgadas debajo de la boca de la botella. Inmediatamente después de su extracción, el agua clara fue decantada de las limaduras y el sedimento ocre. Este licor tenía un sabor a ladrillo y ferruginoso, con un sabor a melaleuca. Una infusión de agallas, o té verde, pronto cambió parte de ella a un color como la tinta. El resto, al estar expuesto al aire libre, rápidamente se volvió turbio, arrojó una película de colores y depositó un sedimento amarillento. El agua ahora retenía muy poco poder de teñir con agallas; y en unos pocos días perdió esta propiedad por completo. Experimento II. Catorce onzas de azúcar grueso, disueltas en siete pintas de agua, se mezclaron con medio litro de levadura, en una botella capaz de contener más del doble de la cantidad anterior. Un extremo de un tubo doblado fue luteado en este recipiente, de modo que no pudiera escapar aire sino a través de él.\n"
     ]
    }
   ],
   "source": [
    "print(translation)"
   ]
  }
 ],
 "metadata": {
  "kernelspec": {
   "display_name": ".venv",
   "language": "python",
   "name": "python3"
  },
  "language_info": {
   "codemirror_mode": {
    "name": "ipython",
    "version": 3
   },
   "file_extension": ".py",
   "mimetype": "text/x-python",
   "name": "python",
   "nbconvert_exporter": "python",
   "pygments_lexer": "ipython3",
   "version": "3.11.6"
  }
 },
 "nbformat": 4,
 "nbformat_minor": 2
}
